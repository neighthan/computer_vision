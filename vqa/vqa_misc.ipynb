{
 "cells": [
  {
   "cell_type": "code",
   "execution_count": 1,
   "metadata": {
    "ExecuteTime": {
     "end_time": "2017-12-13T01:48:40.113761Z",
     "start_time": "2017-12-13T01:48:15.448626Z"
    }
   },
   "outputs": [
    {
     "name": "stderr",
     "output_type": "stream",
     "text": [
      "/afs/csail.mit.edu/u/n/nhunt/anaconda3/lib/python3.6/importlib/_bootstrap.py:219: RuntimeWarning: compiletime version 3.5 of module 'tensorflow.python.framework.fast_tensor_util' does not match runtime version 3.6\n",
      "  return f(*args, **kwds)\n"
     ]
    }
   ],
   "source": [
    "%load_ext autoreload\n",
    "%autoreload 2\n",
    "\n",
    "import numpy as np\n",
    "import pandas as pd\n",
    "import matplotlib.pyplot as plt\n",
    "import tensorflow as tf\n",
    "from tf_layers.layers import DenseLayer, LSTMLayer, add_implied_layers\n",
    "from tf_layers.models import NN\n",
    "from tf_layers.tf_utils import tf_init, n_model_parameters\n",
    "from computer_vision.vqa.vqa_utils import load_data, generator, create_predictions_file\n",
    "import pickle\n",
    "import json\n",
    "\n",
    "config = tf_init()\n",
    "\n",
    "%matplotlib inline"
   ]
  },
  {
   "cell_type": "markdown",
   "metadata": {},
   "source": [
    "# VQA Improvements\n",
    "Submit results [here][submission].\n",
    "\n",
    "[submission]: https://competitions.codalab.org/competitions/6991#participate-submit_results"
   ]
  },
  {
   "cell_type": "markdown",
   "metadata": {
    "heading_collapsed": true
   },
   "source": [
    "## Image Aug"
   ]
  },
  {
   "cell_type": "markdown",
   "metadata": {
    "hidden": true
   },
   "source": [
    "Compute mean and variance (for each \"channel\"?) from the train set. Store these somewhere and then use them to scale the image features. Then figure out a reasonable level of noise to add."
   ]
  },
  {
   "cell_type": "code",
   "execution_count": 90,
   "metadata": {
    "ExecuteTime": {
     "end_time": "2017-12-07T03:41:29.208805Z",
     "start_time": "2017-12-07T03:41:02.526629Z"
    },
    "collapsed": true,
    "hidden": true
   },
   "outputs": [],
   "source": [
    "# see here for derivation of computing mean + variance from batches:\n",
    "# https://stats.stackexchange.com/questions/43159/how-to-calculate-pooled-variance-of-two-groups-given-known-group-variances-mean\n",
    "\n",
    "train_dir = '/cluster/nhunt/img_features/train/'\n",
    "\n",
    "batch_means = []\n",
    "batch_variances = []\n",
    "batch_n_samples = []\n",
    "\n",
    "for file in [f'{train_dir}/{f}' for f in os.listdir(train_dir)]:\n",
    "    features = np.load(file)\n",
    "    batch_means.append(features.mean(axis=(0, 1, 2)))\n",
    "    batch_variances.append(features.var(axis=(0, 1, 2)))\n",
    "    batch_n_samples.append(len(features))\n",
    "\n",
    "batch_n_samples = np.array(batch_n_samples).reshape(-1, 1)\n",
    "batch_means = np.stack(batch_means)\n",
    "batch_variances = np.stack(batch_variances)\n",
    "\n",
    "means = (batch_n_samples * batch_means).sum(axis=0) / (batch_n_samples.sum())\n",
    "variances = (batch_n_samples * (batch_variances + batch_means ** 2)).sum(axis=0) / (batch_n_samples.sum()) - means ** 2\n",
    "\n",
    "# to fit image shapes\n",
    "means = means.reshape(1, 1, 1, -1)\n",
    "variances = variances.reshape(1, 1, 1, -1)\n",
    "\n",
    "with open('data/train/mean.npy', 'wb') as f:\n",
    "    np.save(f, means)\n",
    "\n",
    "with open('data/train/std.npy', 'wb') as f:\n",
    "    np.save(f, np.sqrt(variances))"
   ]
  },
  {
   "cell_type": "markdown",
   "metadata": {
    "heading_collapsed": true
   },
   "source": [
    "## QA Aug"
   ]
  },
  {
   "cell_type": "code",
   "execution_count": 10,
   "metadata": {
    "ExecuteTime": {
     "end_time": "2017-12-07T04:42:21.278232Z",
     "start_time": "2017-12-07T04:42:19.879189Z"
    },
    "hidden": true
   },
   "outputs": [
    {
     "data": {
      "text/html": [
       "<div>\n",
       "<style>\n",
       "    .dataframe thead tr:only-child th {\n",
       "        text-align: right;\n",
       "    }\n",
       "\n",
       "    .dataframe thead th {\n",
       "        text-align: left;\n",
       "    }\n",
       "\n",
       "    .dataframe tbody tr th {\n",
       "        vertical-align: top;\n",
       "    }\n",
       "</style>\n",
       "<table border=\"1\" class=\"dataframe\">\n",
       "  <thead>\n",
       "    <tr style=\"text-align: right;\">\n",
       "      <th></th>\n",
       "      <th>img_path</th>\n",
       "      <th>answer</th>\n",
       "      <th>choices</th>\n",
       "      <th>question</th>\n",
       "      <th>objects</th>\n",
       "      <th>scene_type</th>\n",
       "    </tr>\n",
       "  </thead>\n",
       "  <tbody>\n",
       "    <tr>\n",
       "      <th>0</th>\n",
       "      <td>data/train/images/abstract_v002_train2015_0000...</td>\n",
       "      <td>monkey bars</td>\n",
       "      <td>[get warm, yes, playful, pug, red, fitness sys...</td>\n",
       "      <td>how is the equipments with bars called</td>\n",
       "      <td>[[Doll02, 289, 242, 2, 1, -1], [sun, 594, 64, ...</td>\n",
       "      <td>Park-XinleiSubset</td>\n",
       "    </tr>\n",
       "    <tr>\n",
       "      <th>1</th>\n",
       "      <td>data/train/images/abstract_v002_train2015_0000...</td>\n",
       "      <td>no</td>\n",
       "      <td>[1, csi, real, n, red, solid, blocks and car, ...</td>\n",
       "      <td>is the bench a toy</td>\n",
       "      <td>[[Doll02, 289, 242, 2, 1, -1], [sun, 594, 64, ...</td>\n",
       "      <td>Park-XinleiSubset</td>\n",
       "    </tr>\n",
       "    <tr>\n",
       "      <th>2</th>\n",
       "      <td>data/train/images/abstract_v002_train2015_0000...</td>\n",
       "      <td>tan</td>\n",
       "      <td>[1, 3, brown, wildlife, not having tv, yellow,...</td>\n",
       "      <td>what color is the ladies pants</td>\n",
       "      <td>[[Doll02, 289, 242, 2, 1, -1], [sun, 594, 64, ...</td>\n",
       "      <td>Park-XinleiSubset</td>\n",
       "    </tr>\n",
       "    <tr>\n",
       "      <th>3</th>\n",
       "      <td>data/train/images/abstract_v002_train2015_0000...</td>\n",
       "      <td>no</td>\n",
       "      <td>[sweet, yellow, what's neighbor, white, 4, blu...</td>\n",
       "      <td>is that grandmas pet rat</td>\n",
       "      <td>[[Doll08, 585, 205, 2, 0, -1], [Rat, 196, 364,...</td>\n",
       "      <td>Living-XinleiSubset</td>\n",
       "    </tr>\n",
       "    <tr>\n",
       "      <th>4</th>\n",
       "      <td>data/train/images/abstract_v002_train2015_0000...</td>\n",
       "      <td>yes</td>\n",
       "      <td>[1, 3, idk, no, 2, red, skinny, blue, yes, hin...</td>\n",
       "      <td>is the woman on the couch sporting white hair</td>\n",
       "      <td>[[Doll08, 585, 205, 2, 0, -1], [Rat, 196, 364,...</td>\n",
       "      <td>Living-XinleiSubset</td>\n",
       "    </tr>\n",
       "  </tbody>\n",
       "</table>\n",
       "</div>"
      ],
      "text/plain": [
       "                                            img_path       answer  \\\n",
       "0  data/train/images/abstract_v002_train2015_0000...  monkey bars   \n",
       "1  data/train/images/abstract_v002_train2015_0000...           no   \n",
       "2  data/train/images/abstract_v002_train2015_0000...          tan   \n",
       "3  data/train/images/abstract_v002_train2015_0000...           no   \n",
       "4  data/train/images/abstract_v002_train2015_0000...          yes   \n",
       "\n",
       "                                             choices  \\\n",
       "0  [get warm, yes, playful, pug, red, fitness sys...   \n",
       "1  [1, csi, real, n, red, solid, blocks and car, ...   \n",
       "2  [1, 3, brown, wildlife, not having tv, yellow,...   \n",
       "3  [sweet, yellow, what's neighbor, white, 4, blu...   \n",
       "4  [1, 3, idk, no, 2, red, skinny, blue, yes, hin...   \n",
       "\n",
       "                                        question  \\\n",
       "0         how is the equipments with bars called   \n",
       "1                             is the bench a toy   \n",
       "2                 what color is the ladies pants   \n",
       "3                       is that grandmas pet rat   \n",
       "4  is the woman on the couch sporting white hair   \n",
       "\n",
       "                                             objects           scene_type  \n",
       "0  [[Doll02, 289, 242, 2, 1, -1], [sun, 594, 64, ...    Park-XinleiSubset  \n",
       "1  [[Doll02, 289, 242, 2, 1, -1], [sun, 594, 64, ...    Park-XinleiSubset  \n",
       "2  [[Doll02, 289, 242, 2, 1, -1], [sun, 594, 64, ...    Park-XinleiSubset  \n",
       "3  [[Doll08, 585, 205, 2, 0, -1], [Rat, 196, 364,...  Living-XinleiSubset  \n",
       "4  [[Doll08, 585, 205, 2, 0, -1], [Rat, 196, 364,...  Living-XinleiSubset  "
      ]
     },
     "execution_count": 10,
     "metadata": {},
     "output_type": "execute_result"
    }
   ],
   "source": [
    "qa = pd.read_hdf('data/train/qa.h5')\n",
    "qa.head()"
   ]
  },
  {
   "cell_type": "code",
   "execution_count": 19,
   "metadata": {
    "ExecuteTime": {
     "end_time": "2017-12-07T05:01:23.404485Z",
     "start_time": "2017-12-07T05:01:23.397820Z"
    },
    "hidden": true
   },
   "outputs": [
    {
     "data": {
      "text/plain": [
       "img_path      data/train/images/abstract_v002_train2015_0000...\n",
       "answer                                              monkey bars\n",
       "choices       [get warm, yes, playful, pug, red, fitness sys...\n",
       "question                 how is the equipments with bars called\n",
       "objects       [[Doll02, 289, 242, 2, 1, -1], [sun, 594, 64, ...\n",
       "scene_type                                    Park-XinleiSubset\n",
       "Name: 0, dtype: object"
      ]
     },
     "execution_count": 19,
     "metadata": {},
     "output_type": "execute_result"
    }
   ],
   "source": [
    "min_n_objects = 6\n",
    "\n",
    "# for i in range(len(qa)):\n",
    "i = 0\n",
    "sample = qa.iloc[i]\n",
    "sample"
   ]
  },
  {
   "cell_type": "code",
   "execution_count": 20,
   "metadata": {
    "ExecuteTime": {
     "end_time": "2017-12-07T05:01:23.531673Z",
     "start_time": "2017-12-07T05:01:23.527888Z"
    },
    "hidden": true
   },
   "outputs": [
    {
     "data": {
      "text/plain": [
       "6"
      ]
     },
     "execution_count": 20,
     "metadata": {},
     "output_type": "execute_result"
    }
   ],
   "source": [
    "n_objects = len(sample.objects)\n",
    "n_objects"
   ]
  },
  {
   "cell_type": "code",
   "execution_count": 24,
   "metadata": {
    "ExecuteTime": {
     "end_time": "2017-12-07T05:01:54.013784Z",
     "start_time": "2017-12-07T05:01:54.007915Z"
    },
    "hidden": true
   },
   "outputs": [
    {
     "data": {
      "text/plain": [
       "array([5, 0, 4, 2, 1, 3])"
      ]
     },
     "execution_count": 24,
     "metadata": {},
     "output_type": "execute_result"
    }
   ],
   "source": [
    "object_idx = np.random.choice(range(n_objects), size=min_n_objects, replace=False)\n",
    "object_idx"
   ]
  },
  {
   "cell_type": "code",
   "execution_count": 26,
   "metadata": {
    "ExecuteTime": {
     "end_time": "2017-12-07T05:02:41.731399Z",
     "start_time": "2017-12-07T05:02:41.726684Z"
    },
    "hidden": true
   },
   "outputs": [
    {
     "data": {
      "text/plain": [
       "['slide', 'Doll02', 'cloud', 'bench', 'sun', 'monkeybars']"
      ]
     },
     "execution_count": 26,
     "metadata": {},
     "output_type": "execute_result"
    }
   ],
   "source": [
    "object_names = [sample.objects[i][0] for i in object_idx]\n",
    "object_names"
   ]
  },
  {
   "cell_type": "code",
   "execution_count": 35,
   "metadata": {
    "ExecuteTime": {
     "end_time": "2017-12-07T05:05:10.207366Z",
     "start_time": "2017-12-07T05:05:10.075171Z"
    },
    "hidden": true
   },
   "outputs": [
    {
     "data": {
      "text/plain": [
       "150"
      ]
     },
     "execution_count": 35,
     "metadata": {},
     "output_type": "execute_result"
    }
   ],
   "source": [
    "all_object_names = set([obj for objects in qa.objects.map(lambda objects: [obj[0] for obj in objects]).tolist() for obj in objects])\n",
    "len(all_object_names)"
   ]
  },
  {
   "cell_type": "code",
   "execution_count": 36,
   "metadata": {
    "ExecuteTime": {
     "end_time": "2017-12-07T05:05:14.538458Z",
     "start_time": "2017-12-07T05:05:14.533325Z"
    },
    "hidden": true
   },
   "outputs": [
    {
     "data": {
      "text/plain": [
       "{'Bee',\n",
       " 'Bird',\n",
       " 'Bluejay',\n",
       " 'Book',\n",
       " 'Bookshelf',\n",
       " 'Bottle',\n",
       " 'BuildingToy',\n",
       " 'Butterfly01',\n",
       " 'Butterfly02',\n",
       " 'CD',\n",
       " 'Camera',\n",
       " 'Cat01',\n",
       " 'Cat02',\n",
       " 'Chair01',\n",
       " 'Chair02',\n",
       " 'Chipmunk',\n",
       " 'CoatRack',\n",
       " 'CoffeeTable',\n",
       " 'Couch',\n",
       " 'Deer',\n",
       " 'Desk',\n",
       " 'DiningChair',\n",
       " 'DiningTable',\n",
       " 'DishesMeal',\n",
       " 'DishesSnack',\n",
       " 'Dog01',\n",
       " 'Dog02',\n",
       " 'DogBone',\n",
       " 'Doll',\n",
       " 'Doll01',\n",
       " 'Doll02',\n",
       " 'Doll03',\n",
       " 'Doll04',\n",
       " 'Doll05',\n",
       " 'Doll06',\n",
       " 'Doll07',\n",
       " 'Doll08',\n",
       " 'Doll09',\n",
       " 'Doll10',\n",
       " 'Doll11',\n",
       " 'Doll12',\n",
       " 'Doll13',\n",
       " 'Doll14',\n",
       " 'Doll15',\n",
       " 'Doll16',\n",
       " 'Doll17',\n",
       " 'Doll18',\n",
       " 'Doll19',\n",
       " 'Doll20',\n",
       " 'Dollhouse',\n",
       " 'Door',\n",
       " 'Duck01',\n",
       " 'Duck02',\n",
       " 'Eagle',\n",
       " 'Endtable',\n",
       " 'Finch',\n",
       " 'Fireplace',\n",
       " 'Footstool',\n",
       " 'Frog',\n",
       " 'Game',\n",
       " 'GameSystem',\n",
       " 'Hawk',\n",
       " 'Kitten01',\n",
       " 'Kitten02',\n",
       " 'Koi',\n",
       " 'Mouse',\n",
       " 'Notebook',\n",
       " 'Owl',\n",
       " 'Paper',\n",
       " 'Pen',\n",
       " 'Pencil',\n",
       " 'PetBed',\n",
       " 'Picture',\n",
       " 'Pigeon',\n",
       " 'Pillow',\n",
       " 'Plant',\n",
       " 'PopCan',\n",
       " 'Puppy01',\n",
       " 'Puppy02',\n",
       " 'Rabbit',\n",
       " 'Racoon',\n",
       " 'Rat',\n",
       " 'Robin',\n",
       " 'Rug',\n",
       " 'Scissors',\n",
       " 'Sofa',\n",
       " 'Squirrel',\n",
       " 'Stapler',\n",
       " 'Stool',\n",
       " 'TV',\n",
       " 'Table',\n",
       " 'Tape',\n",
       " 'Toy',\n",
       " 'Turtle',\n",
       " 'Window02',\n",
       " 'Window03',\n",
       " 'Window05',\n",
       " 'Yarn',\n",
       " 'apple',\n",
       " 'baseball',\n",
       " 'basket',\n",
       " 'bat',\n",
       " 'beehive',\n",
       " 'bench',\n",
       " 'bike',\n",
       " 'blanket',\n",
       " 'bottle',\n",
       " 'bread',\n",
       " 'bush',\n",
       " 'campfire',\n",
       " 'cheese',\n",
       " 'cloud',\n",
       " 'corn',\n",
       " 'cup',\n",
       " 'flower',\n",
       " 'football',\n",
       " 'frisbee',\n",
       " 'grill',\n",
       " 'hamburger',\n",
       " 'hotdog',\n",
       " 'jumprope',\n",
       " 'lilypad',\n",
       " 'log',\n",
       " 'marshmallow',\n",
       " 'monkeybars',\n",
       " 'moon',\n",
       " 'mushroom',\n",
       " 'nest',\n",
       " 'pail',\n",
       " 'pie',\n",
       " 'plate',\n",
       " 'pond',\n",
       " 'ribs',\n",
       " 'sandbox',\n",
       " 'sandwich',\n",
       " 'scooter',\n",
       " 'seesaw',\n",
       " 'shovel',\n",
       " 'sidewalk',\n",
       " 'skateboard',\n",
       " 'slide',\n",
       " 'soccer',\n",
       " 'steak',\n",
       " 'sun',\n",
       " 'teaset',\n",
       " 'tongs',\n",
       " 'tree',\n",
       " 'utensil',\n",
       " 'watermelon',\n",
       " 'wine'}"
      ]
     },
     "execution_count": 36,
     "metadata": {},
     "output_type": "execute_result"
    }
   ],
   "source": [
    "all_object_names"
   ]
  },
  {
   "cell_type": "code",
   "execution_count": null,
   "metadata": {
    "collapsed": true,
    "hidden": true
   },
   "outputs": [],
   "source": [
    "'DishesMeal' 'DishesSnack'"
   ]
  },
  {
   "cell_type": "code",
   "execution_count": 43,
   "metadata": {
    "ExecuteTime": {
     "end_time": "2017-12-07T05:24:28.818558Z",
     "start_time": "2017-12-07T05:24:28.813014Z"
    },
    "hidden": true
   },
   "outputs": [
    {
     "data": {
      "text/plain": [
       "'Dishes Meal'"
      ]
     },
     "execution_count": 43,
     "metadata": {},
     "output_type": "execute_result"
    }
   ],
   "source": [
    "# def process_name(name):\n",
    "name = 'DishesMeal'\n",
    "name = re.sub('\\d', '', name)\n",
    "name = ' '.join(re.sub('(?!^)([A-Z][a-z]+)', r' \\1', name).split()) # this dark magic splits on TitleCase\n",
    "name"
   ]
  },
  {
   "cell_type": "code",
   "execution_count": 37,
   "metadata": {
    "ExecuteTime": {
     "end_time": "2017-12-07T05:07:12.115816Z",
     "start_time": "2017-12-07T05:07:12.113476Z"
    },
    "collapsed": true,
    "hidden": true
   },
   "outputs": [],
   "source": [
    "import re"
   ]
  },
  {
   "cell_type": "code",
   "execution_count": null,
   "metadata": {
    "collapsed": true,
    "hidden": true
   },
   "outputs": [],
   "source": []
  },
  {
   "cell_type": "code",
   "execution_count": null,
   "metadata": {
    "collapsed": true,
    "hidden": true
   },
   "outputs": [],
   "source": []
  },
  {
   "cell_type": "code",
   "execution_count": null,
   "metadata": {
    "collapsed": true,
    "hidden": true
   },
   "outputs": [],
   "source": []
  },
  {
   "cell_type": "code",
   "execution_count": null,
   "metadata": {
    "collapsed": true,
    "hidden": true
   },
   "outputs": [],
   "source": []
  },
  {
   "cell_type": "code",
   "execution_count": null,
   "metadata": {
    "collapsed": true,
    "hidden": true
   },
   "outputs": [],
   "source": []
  },
  {
   "cell_type": "code",
   "execution_count": null,
   "metadata": {
    "collapsed": true,
    "hidden": true
   },
   "outputs": [],
   "source": []
  },
  {
   "cell_type": "markdown",
   "metadata": {},
   "source": [
    "## Model Testing"
   ]
  },
  {
   "cell_type": "markdown",
   "metadata": {},
   "source": [
    "### ."
   ]
  },
  {
   "cell_type": "code",
   "execution_count": 51,
   "metadata": {
    "ExecuteTime": {
     "end_time": "2017-12-08T04:55:31.996304Z",
     "start_time": "2017-12-08T04:55:07.054903Z"
    }
   },
   "outputs": [
    {
     "data": {
      "text/html": [
       "<div>\n",
       "<style>\n",
       "    .dataframe thead tr:only-child th {\n",
       "        text-align: right;\n",
       "    }\n",
       "\n",
       "    .dataframe thead th {\n",
       "        text-align: left;\n",
       "    }\n",
       "\n",
       "    .dataframe tbody tr th {\n",
       "        vertical-align: top;\n",
       "    }\n",
       "</style>\n",
       "<table border=\"1\" class=\"dataframe\">\n",
       "  <thead>\n",
       "    <tr style=\"text-align: right;\">\n",
       "      <th></th>\n",
       "      <th>img_path</th>\n",
       "      <th>answer</th>\n",
       "      <th>choices</th>\n",
       "      <th>question</th>\n",
       "      <th>question_id</th>\n",
       "      <th>objects</th>\n",
       "      <th>scene_type</th>\n",
       "    </tr>\n",
       "  </thead>\n",
       "  <tbody>\n",
       "    <tr>\n",
       "      <th>0</th>\n",
       "      <td>data/train/images/abstract_v002_train2015_0000...</td>\n",
       "      <td>tan</td>\n",
       "      <td>[1, 3, brown, wildlife, not having tv, yellow,...</td>\n",
       "      <td>what color is the ladies pants</td>\n",
       "      <td>0</td>\n",
       "      <td>[[Doll02, 289, 242, 2, 1, -1], [sun, 594, 64, ...</td>\n",
       "      <td>Park-XinleiSubset</td>\n",
       "    </tr>\n",
       "    <tr>\n",
       "      <th>1</th>\n",
       "      <td>data/train/images/abstract_v002_train2015_0000...</td>\n",
       "      <td>monkey bars</td>\n",
       "      <td>[get warm, yes, playful, pug, red, fitness sys...</td>\n",
       "      <td>how is the equipments with bars called</td>\n",
       "      <td>1</td>\n",
       "      <td>[[Doll02, 289, 242, 2, 1, -1], [sun, 594, 64, ...</td>\n",
       "      <td>Park-XinleiSubset</td>\n",
       "    </tr>\n",
       "    <tr>\n",
       "      <th>2</th>\n",
       "      <td>data/train/images/abstract_v002_train2015_0000...</td>\n",
       "      <td>no</td>\n",
       "      <td>[1, csi, real, n, red, solid, blocks and car, ...</td>\n",
       "      <td>is the bench a toy</td>\n",
       "      <td>2</td>\n",
       "      <td>[[Doll02, 289, 242, 2, 1, -1], [sun, 594, 64, ...</td>\n",
       "      <td>Park-XinleiSubset</td>\n",
       "    </tr>\n",
       "    <tr>\n",
       "      <th>3</th>\n",
       "      <td>data/train/images/abstract_v002_train2015_0000...</td>\n",
       "      <td>yes</td>\n",
       "      <td>[1, 3, idk, no, 2, red, skinny, blue, yes, hin...</td>\n",
       "      <td>is the woman on the couch sporting white hair</td>\n",
       "      <td>10</td>\n",
       "      <td>[[Doll08, 585, 205, 2, 0, -1], [Rat, 196, 364,...</td>\n",
       "      <td>Living-XinleiSubset</td>\n",
       "    </tr>\n",
       "    <tr>\n",
       "      <th>4</th>\n",
       "      <td>data/train/images/abstract_v002_train2015_0000...</td>\n",
       "      <td>sitting</td>\n",
       "      <td>[4, yellow, no, 2, reading, holding table, bar...</td>\n",
       "      <td>what is the woman doing</td>\n",
       "      <td>11</td>\n",
       "      <td>[[Doll08, 585, 205, 2, 0, -1], [Rat, 196, 364,...</td>\n",
       "      <td>Living-XinleiSubset</td>\n",
       "    </tr>\n",
       "  </tbody>\n",
       "</table>\n",
       "</div>"
      ],
      "text/plain": [
       "                                            img_path       answer  \\\n",
       "0  data/train/images/abstract_v002_train2015_0000...          tan   \n",
       "1  data/train/images/abstract_v002_train2015_0000...  monkey bars   \n",
       "2  data/train/images/abstract_v002_train2015_0000...           no   \n",
       "3  data/train/images/abstract_v002_train2015_0000...          yes   \n",
       "4  data/train/images/abstract_v002_train2015_0000...      sitting   \n",
       "\n",
       "                                             choices  \\\n",
       "0  [1, 3, brown, wildlife, not having tv, yellow,...   \n",
       "1  [get warm, yes, playful, pug, red, fitness sys...   \n",
       "2  [1, csi, real, n, red, solid, blocks and car, ...   \n",
       "3  [1, 3, idk, no, 2, red, skinny, blue, yes, hin...   \n",
       "4  [4, yellow, no, 2, reading, holding table, bar...   \n",
       "\n",
       "                                        question  question_id  \\\n",
       "0                 what color is the ladies pants            0   \n",
       "1         how is the equipments with bars called            1   \n",
       "2                             is the bench a toy            2   \n",
       "3  is the woman on the couch sporting white hair           10   \n",
       "4                        what is the woman doing           11   \n",
       "\n",
       "                                             objects           scene_type  \n",
       "0  [[Doll02, 289, 242, 2, 1, -1], [sun, 594, 64, ...    Park-XinleiSubset  \n",
       "1  [[Doll02, 289, 242, 2, 1, -1], [sun, 594, 64, ...    Park-XinleiSubset  \n",
       "2  [[Doll02, 289, 242, 2, 1, -1], [sun, 594, 64, ...    Park-XinleiSubset  \n",
       "3  [[Doll08, 585, 205, 2, 0, -1], [Rat, 196, 364,...  Living-XinleiSubset  \n",
       "4  [[Doll08, 585, 205, 2, 0, -1], [Rat, 196, 364,...  Living-XinleiSubset  "
      ]
     },
     "execution_count": 51,
     "metadata": {},
     "output_type": "execute_result"
    }
   ],
   "source": [
    "split = 'train'\n",
    "inputs, labels = load_data([split])\n",
    "qa = pd.read_hdf(f'data/{split}/qa.h5')\n",
    "\n",
    "mean = np.load('data/train/mean.npy')\n",
    "std = np.load('data/train/std.npy')\n",
    "\n",
    "qa.head()"
   ]
  },
  {
   "cell_type": "code",
   "execution_count": 13,
   "metadata": {
    "ExecuteTime": {
     "end_time": "2017-12-08T04:39:32.051622Z",
     "start_time": "2017-12-08T04:39:10.973537Z"
    }
   },
   "outputs": [
    {
     "name": "stdout",
     "output_type": "stream",
     "text": [
      "Loading graph from: models//rn50f__gimg__glove__qlstm_512__dp_0.7__ml2_1/.\n"
     ]
    }
   ],
   "source": [
    "model_name = 'rn50f__gimg__glove__qlstm_512__dp_0.7__ml2_1'\n",
    "\n",
    "model = NN(models_dir='models', model_name=model_name, config=config)"
   ]
  },
  {
   "cell_type": "code",
   "execution_count": 15,
   "metadata": {
    "ExecuteTime": {
     "end_time": "2017-12-08T04:40:11.367537Z",
     "start_time": "2017-12-08T04:40:11.313802Z"
    },
    "collapsed": true
   },
   "outputs": [],
   "source": [
    "with open('data/answer_to_id.pkl', 'rb') as f:\n",
    "    answer_to_id = pickle.load(f)\n",
    "id_to_answer = {val: key for key, val in answer_to_id.items()}"
   ]
  },
  {
   "cell_type": "code",
   "execution_count": 64,
   "metadata": {
    "ExecuteTime": {
     "end_time": "2017-12-08T04:59:53.586520Z",
     "start_time": "2017-12-08T04:59:50.575025Z"
    },
    "collapsed": true
   },
   "outputs": [],
   "source": [
    "n_imgs_per_file = 640\n",
    "start_idx = 0\n",
    "end_idx = 20\n",
    "\n",
    "ins = {key: val[start_idx:end_idx] for key, val in inputs.items()}\n",
    "\n",
    "# load image features\n",
    "img_global_idx = [int(path.split('_')[-1].replace('.jpg', '')) for path in ins.pop('img_paths')]\n",
    "img_file_idx = [idx % n_imgs_per_file for idx in img_global_idx]\n",
    "file_nums = [idx // n_imgs_per_file for idx in img_global_idx]\n",
    "\n",
    "img_features = []\n",
    "\n",
    "last_file_num = -1\n",
    "for i in range(len(img_file_idx)):\n",
    "    if file_nums[i] != last_file_num:  # don't reload the array if you already have it\n",
    "        features_array = np.load(f'/cluster/nhunt/img_features/{split}/features{file_nums[i]}.npy')\n",
    "        last_file_num = file_nums[i]\n",
    "\n",
    "    img_features.append(features_array[img_file_idx[i]])\n",
    "\n",
    "ins['img'] = np.stack(img_features)\n",
    "\n",
    "pred = model.predict_proba(ins).idxmax(axis=1).map(id_to_answer.get)\n",
    "pred.head()"
   ]
  },
  {
   "cell_type": "code",
   "execution_count": 99,
   "metadata": {
    "ExecuteTime": {
     "end_time": "2017-12-08T05:17:20.330769Z",
     "start_time": "2017-12-08T05:10:05.232683Z"
    },
    "collapsed": true
   },
   "outputs": [],
   "source": [
    "all_preds = model.predict_proba(generator_func=lambda: generator(inputs, 64, split, mean=mean, std=std))"
   ]
  },
  {
   "cell_type": "code",
   "execution_count": 102,
   "metadata": {
    "ExecuteTime": {
     "end_time": "2017-12-08T05:23:13.940285Z",
     "start_time": "2017-12-08T05:23:13.566128Z"
    },
    "collapsed": true
   },
   "outputs": [],
   "source": [
    "pred_answer = all_preds.idxmax(axis=1).map(id_to_answer.get)"
   ]
  },
  {
   "cell_type": "code",
   "execution_count": 104,
   "metadata": {
    "ExecuteTime": {
     "end_time": "2017-12-08T05:25:17.345377Z",
     "start_time": "2017-12-08T05:25:16.932466Z"
    },
    "collapsed": true
   },
   "outputs": [],
   "source": [
    "i = 0  # start_idx"
   ]
  },
  {
   "cell_type": "code",
   "execution_count": 115,
   "metadata": {
    "ExecuteTime": {
     "end_time": "2017-12-08T05:26:49.297962Z",
     "start_time": "2017-12-08T05:26:49.148394Z"
    }
   },
   "outputs": [
    {
     "name": "stdout",
     "output_type": "stream",
     "text": [
      "what is the cat chasing? no (mouse)\n"
     ]
    },
    {
     "data": {
      "image/png": "[encoded data removed]",
      "text/plain": [
       "<matplotlib.figure.Figure at 0x7f40eb4fc8d0>"
      ]
     },
     "metadata": {},
     "output_type": "display_data"
    }
   ],
   "source": [
    "img_path, question, answer = qa.iloc[i][['img_path', 'question', 'answer']]\n",
    "\n",
    "print(f\"{question}? {pred_answer.iloc[i]} ({answer})\")\n",
    "plt.imshow(plt.imread(img_path))\n",
    "plt.axis('off')\n",
    "\n",
    "i += 1"
   ]
  },
  {
   "cell_type": "code",
   "execution_count": 120,
   "metadata": {
    "ExecuteTime": {
     "end_time": "2017-12-08T05:27:40.923133Z",
     "start_time": "2017-12-08T05:27:40.854609Z"
    }
   },
   "outputs": [
    {
     "data": {
      "text/plain": [
       "0.096066666666666661"
      ]
     },
     "execution_count": 120,
     "metadata": {},
     "output_type": "execute_result"
    }
   ],
   "source": [
    "(pred_answer == qa.answer).sum() / len(qa)"
   ]
  },
  {
   "cell_type": "code",
   "execution_count": 125,
   "metadata": {
    "ExecuteTime": {
     "end_time": "2017-12-08T06:00:50.400763Z",
     "start_time": "2017-12-08T06:00:50.338371Z"
    },
    "collapsed": true
   },
   "outputs": [],
   "source": [
    "model.sess.run(model.local_init)"
   ]
  },
  {
   "cell_type": "code",
   "execution_count": 126,
   "metadata": {
    "ExecuteTime": {
     "end_time": "2017-12-08T06:04:37.008317Z",
     "start_time": "2017-12-08T06:01:08.998132Z"
    },
    "collapsed": true
   },
   "outputs": [],
   "source": [
    "acc = model._batch(model.metrics['acc_default'], generator=lambda: generator(inputs, 64, split, labels=labels, mean=mean, std=std))"
   ]
  },
  {
   "cell_type": "code",
   "execution_count": 127,
   "metadata": {
    "ExecuteTime": {
     "end_time": "2017-12-08T06:13:15.522794Z",
     "start_time": "2017-12-08T06:13:13.124715Z"
    }
   },
   "outputs": [
    {
     "data": {
      "text/plain": [
       "[[0.46031746,\n",
       "  0.46825397,\n",
       "  0.49735451,\n",
       "  0.53571427,\n",
       "  0.52698416,\n",
       "  0.52910054,\n",
       "  0.52380955,\n",
       "  0.52182537,\n",
       "  0.53791887,\n",
       "  0.54126984,\n",
       "  0.54112554,\n",
       "  0.55158728,\n",
       "  0.55433458,\n",
       "  0.55328798,\n",
       "  0.55873019,\n",
       "  0.56051588,\n",
       "  0.56862748,\n",
       "  0.56525576,\n",
       "  0.56725144,\n",
       "  0.56666666,\n",
       "  0.56538171,\n",
       "  0.56854254,\n",
       "  0.57418907,\n",
       "  0.57473546,\n",
       "  0.57333332,\n",
       "  0.57203907,\n",
       "  0.57554382,\n",
       "  0.57709754,\n",
       "  0.57799673,\n",
       "  0.57883596,\n",
       "  0.58125001,\n",
       "  0.5794251,\n",
       "  0.57966763,\n",
       "  0.57894737,\n",
       "  0.5796501,\n",
       "  0.58210289,\n",
       "  0.58616185,\n",
       "  0.5819568,\n",
       "  0.580033,\n",
       "  0.58021712,\n",
       "  0.58235294,\n",
       "  0.58208954,\n",
       "  0.57997012,\n",
       "  0.57977366,\n",
       "  0.57708782,\n",
       "  0.57905757,\n",
       "  0.57991803,\n",
       "  0.58007354,\n",
       "  0.57727569,\n",
       "  0.57619506,\n",
       "  0.57578617,\n",
       "  0.57446808,\n",
       "  0.57592255,\n",
       "  0.57465124,\n",
       "  0.57663172,\n",
       "  0.57739627,\n",
       "  0.57729059,\n",
       "  0.57801712,\n",
       "  0.57926166,\n",
       "  0.57912999,\n",
       "  0.57795274,\n",
       "  0.57708335,\n",
       "  0.57673585,\n",
       "  0.57766008,\n",
       "  0.57656986,\n",
       "  0.5777126,\n",
       "  0.57809865,\n",
       "  0.57847321,\n",
       "  0.57766879,\n",
       "  0.57665747,\n",
       "  0.5761289,\n",
       "  0.57539147,\n",
       "  0.57599825,\n",
       "  0.57637078,\n",
       "  0.57759178,\n",
       "  0.57708597,\n",
       "  0.57596654,\n",
       "  0.5757013,\n",
       "  0.57523924,\n",
       "  0.57599515,\n",
       "  0.57593805,\n",
       "  0.57686275,\n",
       "  0.57699013,\n",
       "  0.57768846,\n",
       "  0.57799208,\n",
       "  0.57847536,\n",
       "  0.57783931,\n",
       "  0.57794815,\n",
       "  0.57733262,\n",
       "  0.57744467,\n",
       "  0.57896596,\n",
       "  0.57870853,\n",
       "  0.5784722,\n",
       "  0.57959813,\n",
       "  0.57934082,\n",
       "  0.5800975,\n",
       "  0.58100468,\n",
       "  0.58222222,\n",
       "  0.58194852,\n",
       "  0.58216417,\n",
       "  0.58173692,\n",
       "  0.58068597,\n",
       "  0.58075118,\n",
       "  0.58158994,\n",
       "  0.5811848,\n",
       "  0.58245933,\n",
       "  0.58280641,\n",
       "  0.58284861,\n",
       "  0.58362883,\n",
       "  0.5835163,\n",
       "  0.58297068,\n",
       "  0.58329737,\n",
       "  0.58404559,\n",
       "  0.5843569,\n",
       "  0.58522248,\n",
       "  0.58524066,\n",
       "  0.5838834,\n",
       "  0.58391273,\n",
       "  0.5848878,\n",
       "  0.58531028,\n",
       "  0.5859915,\n",
       "  0.58573878,\n",
       "  0.58549017,\n",
       "  0.58515626,\n",
       "  0.58594859,\n",
       "  0.58595949,\n",
       "  0.58673275,\n",
       "  0.58585477,\n",
       "  0.58561599,\n",
       "  0.58600152,\n",
       "  0.58662724,\n",
       "  0.58712119,\n",
       "  0.58651632,\n",
       "  0.58616126,\n",
       "  0.58628929,\n",
       "  0.5859412,\n",
       "  0.58618659,\n",
       "  0.58607805,\n",
       "  0.5856232,\n",
       "  0.58517498,\n",
       "  0.58553308,\n",
       "  0.58554572,\n",
       "  0.58533287,\n",
       "  0.58568233,\n",
       "  0.58580476,\n",
       "  0.58614606,\n",
       "  0.58604449,\n",
       "  0.58550912,\n",
       "  0.58541328,\n",
       "  0.58531874,\n",
       "  0.58565187,\n",
       "  0.58566284,\n",
       "  0.58535814,\n",
       "  0.58537096,\n",
       "  0.58604169,\n",
       "  0.58573943,\n",
       "  0.58646923,\n",
       "  0.58616817,\n",
       "  0.58597237,\n",
       "  0.58557743,\n",
       "  0.58598918,\n",
       "  0.58669454,\n",
       "  0.5868963,\n",
       "  0.58719385,\n",
       "  0.5868035,\n",
       "  0.58719516,\n",
       "  0.58680958,\n",
       "  0.58662057,\n",
       "  0.58681548,\n",
       "  0.58700806,\n",
       "  0.58729261,\n",
       "  0.58757383,\n",
       "  0.58803803,\n",
       "  0.58766323,\n",
       "  0.58775324,\n",
       "  0.58775061,\n",
       "  0.5880211,\n",
       "  0.58756447,\n",
       "  0.58765298,\n",
       "  0.58836687,\n",
       "  0.58827192,\n",
       "  0.58844352,\n",
       "  0.58764517,\n",
       "  0.58773082,\n",
       "  0.58720624,\n",
       "  0.58741319,\n",
       "  0.5874126,\n",
       "  0.58775544,\n",
       "  0.58860707,\n",
       "  0.5885151,\n",
       "  0.58859318,\n",
       "  0.58841825,\n",
       "  0.58883035,\n",
       "  0.58915502,\n",
       "  0.5889799,\n",
       "  0.58880657,\n",
       "  0.5883894,\n",
       "  0.58936137,\n",
       "  0.58935082,\n",
       "  0.58990484,\n",
       "  0.59005213,\n",
       "  0.5900383,\n",
       "  0.5896275,\n",
       "  0.58898371,\n",
       "  0.58858222,\n",
       "  0.58826292,\n",
       "  0.58810246,\n",
       "  0.58809859,\n",
       "  0.58817178,\n",
       "  0.58816761,\n",
       "  0.58823979,\n",
       "  0.58846331,\n",
       "  0.58830649,\n",
       "  0.58807588,\n",
       "  0.58807224,\n",
       "  0.58814317,\n",
       "  0.58824402,\n",
       "  0.58816558,\n",
       "  0.58838272,\n",
       "  0.58823097,\n",
       "  0.58793455,\n",
       "  0.58829516,\n",
       "  0.58821827,\n",
       "  0.58792597,\n",
       "  0.5883534,\n",
       "  0.58806312,\n",
       "  0.58763325,\n",
       "  0.58734876,\n",
       "  0.58748943,\n",
       "  0.58762884,\n",
       "  0.58776706,\n",
       "  0.58748698,\n",
       "  0.58734775,\n",
       "  0.5872786,\n",
       "  0.58721012,\n",
       "  0.58727884,\n",
       "  0.5872789,\n",
       "  0.58687258,\n",
       "  0.58694184,\n",
       "  0.58714485,\n",
       "  0.58707863,\n",
       "  0.58707958,\n",
       "  0.5867489,\n",
       "  0.58688331,\n",
       "  0.58662194,\n",
       "  0.58629721,\n",
       "  0.58669275,\n",
       "  0.5870443,\n",
       "  0.58698046,\n",
       "  0.58775669,\n",
       "  0.5880121,\n",
       "  0.58813733,\n",
       "  0.58807015,\n",
       "  0.58774942,\n",
       "  0.58762103,\n",
       "  0.58761978,\n",
       "  0.58774406,\n",
       "  0.58818012,\n",
       "  0.58836353,\n",
       "  0.58817327,\n",
       "  0.58866429,\n",
       "  0.58835119,\n",
       "  0.58816314,\n",
       "  0.58797652,\n",
       "  0.5879131,\n",
       "  0.58803201,\n",
       "  0.58833122,\n",
       "  0.58796632,\n",
       "  0.58802372,\n",
       "  0.58814043,\n",
       "  0.58849424,\n",
       "  0.58843052,\n",
       "  0.58807206,\n",
       "  0.58818686,\n",
       "  0.58818358,\n",
       "  0.58829713,\n",
       "  0.58806074,\n",
       "  0.58846378,\n",
       "  0.58859956,\n",
       "  0.58853716,\n",
       "  0.58870506,\n",
       "  0.5888145,\n",
       "  0.58886606,\n",
       "  0.58920145,\n",
       "  0.58942121,\n",
       "  0.58958298,\n",
       "  0.58946246,\n",
       "  0.58956689,\n",
       "  0.58922392,\n",
       "  0.58932841,\n",
       "  0.58932137,\n",
       "  0.58920383,\n",
       "  0.58941746,\n",
       "  0.58930039,\n",
       "  0.58918417,\n",
       "  0.58901423,\n",
       "  0.58900839,\n",
       "  0.58889431,\n",
       "  0.58883494,\n",
       "  0.58904475,\n",
       "  0.58936036,\n",
       "  0.58967376,\n",
       "  0.58982545,\n",
       "  0.58971095,\n",
       "  0.59028441,\n",
       "  0.59048522,\n",
       "  0.59042215,\n",
       "  0.59004551,\n",
       "  0.58998436,\n",
       "  0.59015626,\n",
       "  0.5901469,\n",
       "  0.59024113,\n",
       "  0.59048945,\n",
       "  0.59083897,\n",
       "  0.59077632,\n",
       "  0.59045869,\n",
       "  0.59034669,\n",
       "  0.59013397,\n",
       "  0.59027672,\n",
       "  0.5902673,\n",
       "  0.59015733,\n",
       "  0.59004813,\n",
       "  0.59023929,\n",
       "  0.59013045,\n",
       "  0.59012163,\n",
       "  0.59001386,\n",
       "  0.58980811,\n",
       "  0.5900954,\n",
       "  0.59038097,\n",
       "  0.59017593,\n",
       "  0.59021586,\n",
       "  0.5902555,\n",
       "  0.59029496,\n",
       "  0.59028584,\n",
       "  0.59003609,\n",
       "  0.59017181,\n",
       "  0.59025884,\n",
       "  0.59053618,\n",
       "  0.59038377,\n",
       "  0.59042197,\n",
       "  0.59053028,\n",
       "  0.5906623,\n",
       "  0.59098184,\n",
       "  0.59125251,\n",
       "  0.59128767,\n",
       "  0.59141588,\n",
       "  0.59135735,\n",
       "  0.59167016,\n",
       "  0.5916574,\n",
       "  0.59187531,\n",
       "  0.59213793,\n",
       "  0.59226149,\n",
       "  0.59252149,\n",
       "  0.59236974,\n",
       "  0.59253705,\n",
       "  0.59238613,\n",
       "  0.59255242,\n",
       "  0.59258258,\n",
       "  0.59265751,\n",
       "  0.59273201,\n",
       "  0.59289545,\n",
       "  0.59296888,\n",
       "  0.59268641,\n",
       "  0.59311444,\n",
       "  0.59314245,\n",
       "  0.59312624,\n",
       "  0.593198,\n",
       "  0.59309405,\n",
       "  0.59329665,\n",
       "  0.59341091,\n",
       "  0.5932638,\n",
       "  0.5934028,\n",
       "  0.59342945,\n",
       "  0.59328324,\n",
       "  0.59343922,\n",
       "  0.59350848,\n",
       "  0.59366304,\n",
       "  0.59385943,\n",
       "  0.59388441,\n",
       "  0.59361196,\n",
       "  0.59351039,\n",
       "  0.59353614,\n",
       "  0.59347743,\n",
       "  0.59371322,\n",
       "  0.59382206,\n",
       "  0.59384668,\n",
       "  0.59387118,\n",
       "  0.59381235,\n",
       "  0.59342211,\n",
       "  0.59344751,\n",
       "  0.59351403,\n",
       "  0.59353912,\n",
       "  0.59335876,\n",
       "  0.59346598,\n",
       "  0.59361345,\n",
       "  0.59355652,\n",
       "  0.59370303,\n",
       "  0.59384876,\n",
       "  0.59371084,\n",
       "  0.59353328,\n",
       "  0.59351754,\n",
       "  0.59338146,\n",
       "  0.59334934,\n",
       "  0.59361386,\n",
       "  0.59391695,\n",
       "  0.59394014,\n",
       "  0.59404254,\n",
       "  0.59406531,\n",
       "  0.59400898,\n",
       "  0.59395301,\n",
       "  0.59397578,\n",
       "  0.59439027,\n",
       "  0.59464633,\n",
       "  0.59478426,\n",
       "  0.59464926,\n",
       "  0.59470886,\n",
       "  0.59488428,\n",
       "  0.59498167,\n",
       "  0.59500152,\n",
       "  0.59498292,\n",
       "  0.59465778,\n",
       "  0.59483123,\n",
       "  0.59477496,\n",
       "  0.59494728,\n",
       "  0.59496701,\n",
       "  0.59513801,\n",
       "  0.59523273,\n",
       "  0.59521389,\n",
       "  0.59511995,\n",
       "  0.59547657,\n",
       "  0.59553212,\n",
       "  0.59562474,\n",
       "  0.59541899,\n",
       "  0.5954985,\n",
       "  0.59529376,\n",
       "  0.59516406,\n",
       "  0.59529352,\n",
       "  0.59531182,\n",
       "  0.59536678,\n",
       "  0.59542155,\n",
       "  0.59547603,\n",
       "  0.59538418,\n",
       "  0.59521985,\n",
       "  0.59520173,\n",
       "  0.59489357,\n",
       "  0.59491241,\n",
       "  0.5946424,\n",
       "  0.59448165,\n",
       "  0.5945732,\n",
       "  0.59466439,\n",
       "  0.594612,\n",
       "  0.59480971,\n",
       "  0.59475726,\n",
       "  0.59491825,\n",
       "  0.5950076,\n",
       "  0.59495509,\n",
       "  0.59500867,\n",
       "  0.59495634,\n",
       "  0.59476364,\n",
       "  0.59481728,\n",
       "  0.59483576,\n",
       "  0.59499371,\n",
       "  0.59515101,\n",
       "  0.59520334,\n",
       "  0.59520835,\n",
       "  0.59501785,\n",
       "  0.59503561,\n",
       "  0.59494978,\n",
       "  0.59482998,\n",
       "  0.59481364,\n",
       "  0.59486598,\n",
       "  0.59491807,\n",
       "  0.59493583,\n",
       "  0.59488541,\n",
       "  0.59497112,\n",
       "  0.59509039,\n",
       "  0.59517527,\n",
       "  0.59498972,\n",
       "  0.59497339,\n",
       "  0.59515887,\n",
       "  0.59537709,\n",
       "  0.59539354,\n",
       "  0.59547669,\n",
       "  0.59552622,\n",
       "  0.59560877,\n",
       "  0.59562463,\n",
       "  0.59557408,\n",
       "  0.59552383,\n",
       "  0.59573764,\n",
       "  0.59552264,\n",
       "  0.59563702,\n",
       "  0.59565258,\n",
       "  0.5957008,\n",
       "  0.59578151,\n",
       "  0.59582925,\n",
       "  0.59593099,\n",
       "  0.59607577,\n",
       "  0.59602541,\n",
       "  0.59607232,\n",
       "  0.59615135,\n",
       "  0.59626228,\n",
       "  0.59614766,\n",
       "  0.59612978,\n",
       "  0.59633613,\n",
       "  0.59650975,\n",
       "  0.59661883,\n",
       "  0.59663194,\n",
       "  0.59632736,\n",
       "  0.59649956,\n",
       "  0.59657615,\n",
       "  0.59668404,\n",
       "  0.59666538,\n",
       "  0.59680414,\n",
       "  0.59697372,\n",
       "  0.59711128,\n",
       "  0.59709191,\n",
       "  0.59719753,\n",
       "  0.59714693,\n",
       "  0.59697223,\n",
       "  0.59723258,\n",
       "  0.59730607,\n",
       "  0.59750295,\n",
       "  0.59763736,\n",
       "  0.59761727,\n",
       "  0.59762806,\n",
       "  0.59782273,\n",
       "  0.59788603,\n",
       "  0.59768218,\n",
       "  0.59778428,\n",
       "  0.59776419,\n",
       "  0.59756172,\n",
       "  0.59732968,\n",
       "  0.5973711,\n",
       "  0.59753335,\n",
       "  0.59745353,\n",
       "  0.59740418,\n",
       "  0.59729487,\n",
       "  0.59736598,\n",
       "  0.59758651,\n",
       "  0.59753728,\n",
       "  0.59754789,\n",
       "  0.59782642,\n",
       "  0.59762841,\n",
       "  0.5977574,\n",
       "  0.59770828,\n",
       "  0.59762979,\n",
       "  0.5976401,\n",
       "  0.59765041,\n",
       "  0.59742552,\n",
       "  0.59758282,\n",
       "  0.59765166,\n",
       "  0.59786642,\n",
       "  0.59793454,\n",
       "  0.59794414,\n",
       "  0.59786654,\n",
       "  0.59790522,\n",
       "  0.59788591,\n",
       "  0.59771413,\n",
       "  0.59789735,\n",
       "  0.59799343,\n",
       "  0.59811795,\n",
       "  0.59832817,\n",
       "  0.59848028,\n",
       "  0.59863186,\n",
       "  0.59844005,\n",
       "  0.59850562,\n",
       "  0.59862787,\n",
       "  0.59857917,\n",
       "  0.59878594,\n",
       "  0.59879375,\n",
       "  0.59888637,\n",
       "  0.59892219,\n",
       "  0.5989579,\n",
       "  0.59910595,\n",
       "  0.59908509,\n",
       "  0.59900826,\n",
       "  0.59893167,\n",
       "  0.59913456,\n",
       "  0.59925312,\n",
       "  0.59931564,\n",
       "  0.5992946,\n",
       "  0.59944004,\n",
       "  0.59958488,\n",
       "  0.59967399,\n",
       "  0.59979039,\n",
       "  0.59976876,\n",
       "  0.59991205,\n",
       "  0.59975308,\n",
       "  0.5998081,\n",
       "  0.59975916,\n",
       "  0.59979236,\n",
       "  0.59990728,\n",
       "  0.59994012,\n",
       "  0.6000815,\n",
       "  0.60014111,\n",
       "  0.60022753,\n",
       "  0.6002866,\n",
       "  0.60031849,\n",
       "  0.60048503,\n",
       "  0.60043579,\n",
       "  0.60062844,\n",
       "  0.60076678,\n",
       "  0.60066378,\n",
       "  0.60077488,\n",
       "  0.60067219,\n",
       "  0.60064977,\n",
       "  0.60062742,\n",
       "  0.60065824,\n",
       "  0.60055643,\n",
       "  0.60066664,\n",
       "  0.60072362,\n",
       "  0.60075402,\n",
       "  0.6006791,\n",
       "  0.60065693,\n",
       "  0.6006611,\n",
       "  0.60071766,\n",
       "  0.60066938,\n",
       "  0.6006735,\n",
       "  0.60078186,\n",
       "  0.60080731,\n",
       "  0.60096717,\n",
       "  0.60097075,\n",
       "  0.60079294,\n",
       "  0.60071921,\n",
       "  0.60092986,\n",
       "  0.60101086,\n",
       "  0.60106587,\n",
       "  0.60096645,\n",
       "  0.60091871,\n",
       "  0.60092235,\n",
       "  0.6008237,\n",
       "  0.60080194,\n",
       "  0.60093319,\n",
       "  0.60088593,\n",
       "  0.60104209,\n",
       "  0.60099471,\n",
       "  0.60104889,\n",
       "  0.60095108,\n",
       "  0.60090411,\n",
       "  0.60095817,\n",
       "  0.60076028,\n",
       "  0.60078925,\n",
       "  0.60076791,\n",
       "  0.60087192,\n",
       "  0.60097563,\n",
       "  0.60092914,\n",
       "  0.60080796,\n",
       "  0.60083658,\n",
       "  0.60101426,\n",
       "  0.6011169,\n",
       "  0.60114086,\n",
       "  0.60131741,\n",
       "  0.60141915,\n",
       "  0.60161942,\n",
       "  0.6016711,\n",
       "  0.60167342,\n",
       "  0.60174948,\n",
       "  0.60160446,\n",
       "  0.6016314,\n",
       "  0.60170716,\n",
       "  0.60188037,\n",
       "  0.60188234,\n",
       "  0.60188431,\n",
       "  0.60186195,\n",
       "  0.60186398,\n",
       "  0.60201138,\n",
       "  0.60208577,\n",
       "  0.60213572,\n",
       "  0.60201669,\n",
       "  0.60201848,\n",
       "  0.60209233,\n",
       "  0.60206997,\n",
       "  0.60195178,\n",
       "  0.60192966,\n",
       "  0.60200328,\n",
       "  0.60195726,\n",
       "  0.60183996,\n",
       "  0.60174674,\n",
       "  0.60160631,\n",
       "  0.60158491,\n",
       "  0.6015873,\n",
       "  0.60158616,\n",
       "  0.60149395,\n",
       "  0.60144925,\n",
       "  0.60142827,\n",
       "  0.60133672,\n",
       "  0.60150391,\n",
       "  0.60169411,\n",
       "  0.60157913,\n",
       "  0.60148793,\n",
       "  0.60146707,\n",
       "  0.60160953,\n",
       "  0.60151863,\n",
       "  0.60145128,\n",
       "  0.60140735,\n",
       "  0.60140997,\n",
       "  0.60141253,\n",
       "  0.60136884,\n",
       "  0.60139459,\n",
       "  0.6015355,\n",
       "  0.60162997,\n",
       "  0.60170114,\n",
       "  0.60181808,\n",
       "  0.60181999,\n",
       "  0.60182196,\n",
       "  0.60182393,\n",
       "  0.60178024,\n",
       "  0.6017822,\n",
       "  0.60192078,\n",
       "  0.6018998,\n",
       "  0.60185629,\n",
       "  0.60181284,\n",
       "  0.60194749,\n",
       "  0.60192662,\n",
       "  0.60195094,\n",
       "  0.60188502,\n",
       "  0.60186434,\n",
       "  0.6017763,\n",
       "  0.60182315,\n",
       "  0.60175782,\n",
       "  0.60171503,\n",
       "  0.60176182,\n",
       "  0.60189772,\n",
       "  0.60181034,\n",
       "  0.60196811,\n",
       "  0.60201424,\n",
       "  0.60206032,\n",
       "  0.60206187,\n",
       "  0.60219622,\n",
       "  0.60213131,\n",
       "  0.60206652,\n",
       "  0.60220033,\n",
       "  0.60204756,\n",
       "  0.60213709,\n",
       "  0.60229218,\n",
       "  0.60233724,\n",
       "  0.60227275,\n",
       "  0.6021865,\n",
       "  0.60216606,\n",
       "  0.60218924,\n",
       "  0.6021688,\n",
       "  0.60225713,\n",
       "  0.60223669,\n",
       "  0.60221356,\n",
       "  0.60201979,\n",
       "  0.60199976,\n",
       "  0.60185003,\n",
       "  0.60167921,\n",
       "  0.60153031,\n",
       "  0.6013819,\n",
       "  0.60116935,\n",
       "  0.60090208,\n",
       "  0.60103381,\n",
       "  0.60101527,\n",
       "  0.60099679,\n",
       "  0.60102111,\n",
       "  0.60098135,\n",
       "  0.60111213,\n",
       "  0.60113615,\n",
       "  0.60109639,\n",
       "  0.60086572,\n",
       "  0.60089004,\n",
       "  0.60091424,\n",
       "  0.60085386,\n",
       "  0.60106796,\n",
       "  0.601134,\n",
       "  0.60115778,\n",
       "  0.6010974,\n",
       "  0.60107911,\n",
       "  0.60112381,\n",
       "  0.6012103,\n",
       "  0.60115016,\n",
       "  0.6011737,\n",
       "  0.6011346,\n",
       "  0.60126227,\n",
       "  0.60130638,\n",
       "  0.60124648,\n",
       "  0.60133201,\n",
       "  0.60125154,\n",
       "  0.60129541,\n",
       "  0.60125655,\n",
       "  0.6014654,\n",
       "  0.60148513,\n",
       "  0.60148734,\n",
       "  0.60148954,\n",
       "  0.60136843,\n",
       "  0.60167855,\n",
       "  0.60166001,\n",
       "  0.60172337,\n",
       "  0.60172522,\n",
       "  0.60172707,\n",
       "  0.60154545,\n",
       "  0.60154754,\n",
       "  0.60154963,\n",
       "  0.6015923,\n",
       "  0.60165519,\n",
       "  0.60169768,\n",
       "  0.60169953,\n",
       "  0.60180247,\n",
       "  0.60178399,\n",
       "  0.60172534,\n",
       "  0.60166675,\n",
       "  0.60164857,\n",
       "  0.60167056,\n",
       "  0.60183293,\n",
       "  0.60181457,\n",
       "  0.60173631,\n",
       "  0.6017381,\n",
       "  0.60181969,\n",
       "  0.60184133,\n",
       "  0.60176337,\n",
       "  0.60174531,\n",
       "  0.60172725,\n",
       "  0.60182542,\n",
       "  0.60180724,\n",
       "  0.60171002,\n",
       "  0.60147464,\n",
       "  0.60149646,\n",
       "  0.60136056,\n",
       "  0.60132343,\n",
       "  0.60126668,\n",
       "  0.60115117,\n",
       "  0.60121256,\n",
       "  0.60133255,\n",
       "  0.60139352,\n",
       "  0.60149348,\n",
       "  0.60126126,\n",
       "  0.60124409,\n",
       "  0.60114908,\n",
       "  0.60122937,\n",
       "  0.60125118,\n",
       "  0.60127294,\n",
       "  0.60127527,\n",
       "  0.60123885,\n",
       "  0.60122192,\n",
       "  0.6010505,\n",
       "  0.60095662,\n",
       "  0.60109419,\n",
       "  0.60115439,\n",
       "  0.60119528,\n",
       "  0.60119766,\n",
       "  0.6011042,\n",
       "  0.60114503,\n",
       "  0.60116655,\n",
       "  0.60120416,\n",
       "  0.60128284,\n",
       "  0.60128516,\n",
       "  0.6011731,\n",
       "  0.60109943,\n",
       "  0.60106391,\n",
       "  0.60108542,\n",
       "  0.60110688,\n",
       "  0.60116613,\n",
       "  0.60111183,\n",
       "  0.60111427,\n",
       "  0.60119218,\n",
       "  0.601138,\n",
       "  0.60108393,\n",
       "  0.60095483,\n",
       "  0.6009199,\n",
       "  0.60088509,\n",
       "  0.60086906,\n",
       "  0.60096532,\n",
       "  0.60104269,\n",
       "  0.60111982,\n",
       "  0.60115951,\n",
       "  0.60101295,\n",
       "  0.60101545,\n",
       "  0.60107368,\n",
       "  0.60115039,\n",
       "  0.60117126,\n",
       "  0.6011551,\n",
       "  0.60117596,\n",
       "  0.60115981,\n",
       "  0.60127282,\n",
       "  0.60129058,\n",
       "  0.60129273,\n",
       "  0.60140526,\n",
       "  0.60137057,\n",
       "  0.60128093,\n",
       "  0.60124648,\n",
       "  0.60124868,\n",
       "  0.60123259,\n",
       "  0.60127139,\n",
       "  0.60123706,\n",
       "  0.60118461,\n",
       "  0.60125971,\n",
       "  0.60128009,\n",
       "  0.60122776,\n",
       "  0.60128444,\n",
       "  0.60123223,\n",
       "  0.60118014,\n",
       "  0.60129088,\n",
       "  0.60123885,\n",
       "  0.60118693,\n",
       "  0.60111713,\n",
       "  0.60108346,\n",
       "  0.60115772,\n",
       "  0.60117799,\n",
       "  0.60119814,\n",
       "  0.60114664,\n",
       "  0.60120261,\n",
       "  0.60125846,\n",
       "  0.60117137,\n",
       "  0.60129845,\n",
       "  0.60124713,\n",
       "  0.60124642,\n",
       "  0.60135531,\n",
       "  0.60128629,\n",
       "  0.6013239,\n",
       "  0.60120189,\n",
       "  0.6012218,\n",
       "  0.60136545,\n",
       "  0.60149115,\n",
       "  0.601493,\n",
       "  0.60142434,\n",
       "  0.60149676,\n",
       "  0.6014986,\n",
       "  0.60139501,\n",
       "  0.60143209,\n",
       "  0.6014691,\n",
       "  0.60152352,\n",
       "  0.6014204,\n",
       "  0.60145724,\n",
       "  0.60149407,\n",
       "  0.60156566,\n",
       "  0.60156739,\n",
       "  0.60169095,\n",
       "  0.60167515,\n",
       "  0.60169417,\n",
       "  0.60171312,\n",
       "  0.60178399,\n",
       "  0.60182011,\n",
       "  0.60185617,\n",
       "  0.60170221,\n",
       "  0.60179007,\n",
       "  0.60177433,\n",
       "  0.60177344,\n",
       "  0.60186094,\n",
       "  0.60179365,\n",
       "  0.60188091,\n",
       "  0.60188234,\n",
       "  0.60191798,\n",
       "  0.60197067,\n",
       "  0.60193777,\n",
       "  0.60195619,\n",
       "  0.6019575,\n",
       "  0.60200989,\n",
       "  0.60202813,\n",
       "  0.60204637,\n",
       "  0.60201359,\n",
       "  0.60215056,\n",
       "  0.60228717,\n",
       "  0.60228813,\n",
       "  0.6023398,\n",
       "  0.60249263,\n",
       "  0.60249341,\n",
       "  0.60242671,\n",
       "  0.60241067,\n",
       "  0.60249555,\n",
       "  0.60256344,\n",
       "  0.60251373,\n",
       "  0.6024977,\n",
       "  0.60248166,\n",
       "  0.60248238,\n",
       "  0.60249984,\n",
       "  0.60253394,\n",
       "  0.6025179,\n",
       "  0.60253334]]"
      ]
     },
     "execution_count": 127,
     "metadata": {},
     "output_type": "execute_result"
    }
   ],
   "source": [
    "acc"
   ]
  },
  {
   "cell_type": "code",
   "execution_count": null,
   "metadata": {
    "collapsed": true
   },
   "outputs": [],
   "source": []
  },
  {
   "cell_type": "code",
   "execution_count": 62,
   "metadata": {
    "ExecuteTime": {
     "end_time": "2017-12-08T00:03:08.549531Z",
     "start_time": "2017-12-08T00:03:08.489407Z"
    },
    "collapsed": true
   },
   "outputs": [],
   "source": [
    "i = -1"
   ]
  },
  {
   "cell_type": "code",
   "execution_count": 78,
   "metadata": {
    "ExecuteTime": {
     "end_time": "2017-12-08T00:22:12.870514Z",
     "start_time": "2017-12-08T00:22:08.071786Z"
    }
   },
   "outputs": [
    {
     "name": "stdout",
     "output_type": "stream",
     "text": [
      "what is the girl playing with? no\n"
     ]
    },
    {
     "data": {
      "image/png": "[encoded data removed]",
      "text/plain": [
       "<matplotlib.figure.Figure at 0x7ff49d80f2b0>"
      ]
     },
     "metadata": {},
     "output_type": "display_data"
    }
   ],
   "source": [
    "i += 1\n",
    "\n",
    "img = plt.imread(test_qa.iloc[i].img_path)\n",
    "print(f\"{test_qa.iloc[i].question}? {answers[i]}\")\n",
    "plt.imshow(img)\n",
    "plt.axis('off');"
   ]
  },
  {
   "cell_type": "markdown",
   "metadata": {
    "heading_collapsed": true
   },
   "source": [
    "# Image Feature Extraction\n",
    "List of pre-trained models [here][slim_models].\n",
    "\n",
    "[slim_models]: https://github.com/tensorflow/models/tree/master/research/slim"
   ]
  },
  {
   "cell_type": "code",
   "execution_count": 2,
   "metadata": {
    "ExecuteTime": {
     "end_time": "2017-12-07T23:06:03.369558Z",
     "start_time": "2017-12-07T23:06:02.924953Z"
    },
    "collapsed": true,
    "hidden": true
   },
   "outputs": [],
   "source": [
    "import os\n",
    "\n",
    "import sys\n",
    "sys.path.append('/afs/csail.mit.edu/u/n/nhunt/github/models/research/slim/')\n",
    "\n",
    "from nets.nasnet import nasnet\n",
    "\n",
    "# resnet uses VGG preprocessing\n",
    "from nets import resnet_v2\n",
    "from preprocessing.vgg_preprocessing import _R_MEAN, _G_MEAN, _B_MEAN\n",
    "rgb_means = np.array([_R_MEAN, _G_MEAN, _B_MEAN])\n",
    "\n",
    "slim = tf.contrib.slim"
   ]
  },
  {
   "cell_type": "code",
   "execution_count": 3,
   "metadata": {
    "ExecuteTime": {
     "end_time": "2017-12-05T07:08:22.466993Z",
     "start_time": "2017-12-05T07:08:22.446027Z"
    },
    "collapsed": true,
    "hidden": true
   },
   "outputs": [],
   "source": [
    "%%bash\n",
    "if [ ! -e pretrained ]; then\n",
    "    mkdir pretrained\n",
    "    cd pretrained\n",
    "\n",
    "    mkdir resnet_50\n",
    "    cd resnet_50\n",
    "    wget -q http://download.tensorflow.org/models/resnet_v2_50_2017_04_14.tar.gz\n",
    "    tar -xzf resnet_v2_50_2017_04_14.tar.gz\n",
    "    rm resnet_v2_50_2017_04_14.tar.gz\n",
    "    cd ..\n",
    "\n",
    "    mkdir nasnet_large\n",
    "    cd nasnet_large\n",
    "    wget -q https://storage.googleapis.com/download.tensorflow.org/models/nasnet-a_large_04_10_2017.tar.gz\n",
    "    tar -xzf nasnet-a_large_04_10_2017.tar.gz\n",
    "    rm nasnet-a_large_04_10_2017.tar.gz\n",
    "    cd ..\n",
    "\n",
    "    mkdir nasnet_small\n",
    "    cd nasnet_small\n",
    "    wget -q https://storage.googleapis.com/download.tensorflow.org/models/nasnet-a_mobile_04_10_2017.tar.gz\n",
    "    tar -xzf nasnet-a_mobile_04_10_2017.tar.gz\n",
    "    rm nasnet-a_mobile_04_10_2017.tar.gz\n",
    "fi"
   ]
  },
  {
   "cell_type": "code",
   "execution_count": 3,
   "metadata": {
    "ExecuteTime": {
     "end_time": "2017-12-07T23:06:05.303232Z",
     "start_time": "2017-12-07T23:06:03.373522Z"
    },
    "hidden": true
   },
   "outputs": [
    {
     "data": {
      "text/plain": [
       "<matplotlib.image.AxesImage at 0x7ff4de37b8d0>"
      ]
     },
     "execution_count": 3,
     "metadata": {},
     "output_type": "execute_result"
    },
    {
     "data": {
      "image/png": "[encoded data removed]",
      "text/plain": [
       "<matplotlib.figure.Figure at 0x7ff4e58a4320>"
      ]
     },
     "metadata": {},
     "output_type": "display_data"
    }
   ],
   "source": [
    "img = plt.imread('data/train/images/abstract_v002_train2015_000000000000.jpg')\n",
    "img_shape = img.shape\n",
    "plt.imshow(img)"
   ]
  },
  {
   "cell_type": "code",
   "execution_count": 4,
   "metadata": {
    "ExecuteTime": {
     "end_time": "2017-12-07T23:06:05.354975Z",
     "start_time": "2017-12-07T23:06:05.304915Z"
    },
    "collapsed": true,
    "hidden": true
   },
   "outputs": [],
   "source": [
    "imgs = np.array([img])"
   ]
  },
  {
   "cell_type": "markdown",
   "metadata": {
    "heading_collapsed": true,
    "hidden": true
   },
   "source": [
    "## ResNet-50"
   ]
  },
  {
   "cell_type": "code",
   "execution_count": 5,
   "metadata": {
    "ExecuteTime": {
     "end_time": "2017-12-07T23:06:12.337775Z",
     "start_time": "2017-12-07T23:06:05.356475Z"
    },
    "collapsed": true,
    "hidden": true
   },
   "outputs": [],
   "source": [
    "graph = tf.Graph()\n",
    "with graph.as_default():\n",
    "    img_p = tf.placeholder(tf.uint8, (None, *img_shape))\n",
    "\n",
    "    # for VGG-style preprocessing, subtract RGB means and convert to float\n",
    "    # (note that this doesn't put the pixels into [0, 1])\n",
    "    processed_img = tf.cast(img_p, tf.float32) - rgb_means\n",
    "\n",
    "    # Create the model, use the default arg scope to configure the batch norm parameters.\n",
    "    with slim.arg_scope(resnet_v2.resnet_arg_scope()):\n",
    "        logits, endpoints = resnet_v2.resnet_v2_50(processed_img, num_classes=1001, is_training=False)\n",
    "\n",
    "    init_fn = slim.assign_from_checkpoint_fn('pretrained/resnet_50/resnet_v2_50.ckpt',\n",
    "                                             slim.get_model_variables('resnet_v2_50'))\n",
    "\n",
    "sess = tf.Session(config=config, graph=graph)\n",
    "init_fn(sess)"
   ]
  },
  {
   "cell_type": "code",
   "execution_count": 6,
   "metadata": {
    "ExecuteTime": {
     "end_time": "2017-12-07T23:06:12.403528Z",
     "start_time": "2017-12-07T23:06:12.340939Z"
    },
    "hidden": true
   },
   "outputs": [
    {
     "data": {
      "text/plain": [
       "[<tf.Operation 'resnet_v2_50/pool1/MaxPool' type=MaxPool>,\n",
       " <tf.Operation 'resnet_v2_50/block1/unit_3/bottleneck_v2/shortcut/MaxPool' type=MaxPool>,\n",
       " <tf.Operation 'resnet_v2_50/block2/unit_4/bottleneck_v2/shortcut/MaxPool' type=MaxPool>,\n",
       " <tf.Operation 'resnet_v2_50/block3/unit_6/bottleneck_v2/shortcut/MaxPool' type=MaxPool>,\n",
       " <tf.Operation 'resnet_v2_50/pool5/reduction_indices' type=Const>,\n",
       " <tf.Operation 'resnet_v2_50/pool5' type=Mean>]"
      ]
     },
     "execution_count": 6,
     "metadata": {},
     "output_type": "execute_result"
    }
   ],
   "source": [
    "[op for op in graph.get_operations() if 'pool' in op.name.lower()]"
   ]
  },
  {
   "cell_type": "code",
   "execution_count": 7,
   "metadata": {
    "ExecuteTime": {
     "end_time": "2017-12-07T23:06:16.878245Z",
     "start_time": "2017-12-07T23:06:12.404939Z"
    },
    "hidden": true
   },
   "outputs": [
    {
     "data": {
      "text/plain": [
       "(1, 13, 22, 1024)"
      ]
     },
     "execution_count": 7,
     "metadata": {},
     "output_type": "execute_result"
    }
   ],
   "source": [
    "ret = sess.run('resnet_v2_50/block3/unit_6/bottleneck_v2/shortcut/MaxPool:0', {img_p: imgs})\n",
    "ret.shape"
   ]
  },
  {
   "cell_type": "code",
   "execution_count": 8,
   "metadata": {
    "ExecuteTime": {
     "end_time": "2017-12-07T23:06:16.940158Z",
     "start_time": "2017-12-07T23:06:16.879648Z"
    },
    "hidden": true
   },
   "outputs": [
    {
     "data": {
      "text/plain": [
       "(292864, array([[ 30.76923077,  31.81818182]]))"
      ]
     },
     "execution_count": 8,
     "metadata": {},
     "output_type": "execute_result"
    }
   ],
   "source": [
    "13 * 22 * 1024, np.array([img_shape[:-1]]) / np.array([13, 22]) # about 2 ** 5"
   ]
  },
  {
   "cell_type": "code",
   "execution_count": 31,
   "metadata": {
    "ExecuteTime": {
     "end_time": "2017-12-07T23:21:21.117344Z",
     "start_time": "2017-12-07T23:21:10.196888Z"
    },
    "hidden": true
   },
   "outputs": [
    {
     "data": {
      "application/vnd.jupyter.widget-view+json": {
       "model_id": "ad62b8e6a2fb4963a4758b4941c07b6e",
       "version_major": 2,
       "version_minor": 0
      },
      "text/plain": [
       "A Jupyter Widget"
      ]
     },
     "metadata": {},
     "output_type": "display_data"
    },
    {
     "name": "stdout",
     "output_type": "stream",
     "text": [
      "\n"
     ]
    }
   ],
   "source": [
    "batch_size = 64\n",
    "\n",
    "for split in ['train', 'val', 'test']:\n",
    "    img_dir = f\"data/{split}/images/\"\n",
    "    img_files = [f\"{img_dir}/{img}\" for img in os.listdir(img_dir)]\n",
    "\n",
    "    idx = range(len(img_files))\n",
    "    img_features = []\n",
    "\n",
    "    i = 0\n",
    "    file_number = 0\n",
    "    for batch in tnrange(int(np.ceil(len(img_files) / batch_size))):\n",
    "        batch_fnames = img_files[batch * batch_size : (batch + 1) * batch_size]\n",
    "        batch_imgs = np.stack([plt.imread(fname) for fname in batch_fnames])\n",
    "        img_features.append(\n",
    "            sess.run('resnet_v2_50/block3/unit_6/bottleneck_v2/shortcut/MaxPool:0', {img_p: batch_imgs})\n",
    "        )\n",
    "\n",
    "        i += 1\n",
    "        if i % 10 == 0:\n",
    "            img_features = np.concatenate(img_features)\n",
    "            with open(f'/cluster/nhunt/img_features/{split}/features{file_number}.npy', 'wb') as f:\n",
    "                np.save(f, img_features)\n",
    "\n",
    "            i = 0\n",
    "            img_features = []\n",
    "            file_number += 1\n",
    "\n",
    "    # write out the last features, if they weren't already\n",
    "    if i % 10 != 0:\n",
    "        img_features = np.concatenate(img_features)\n",
    "        with open(f'/cluster/nhunt/img_features/{split}/features{file_number}.npy', 'wb') as f:\n",
    "            np.save(f, img_features)"
   ]
  },
  {
   "cell_type": "markdown",
   "metadata": {
    "hidden": true
   },
   "source": [
    "## NasNet"
   ]
  },
  {
   "cell_type": "code",
   "execution_count": 33,
   "metadata": {
    "ExecuteTime": {
     "end_time": "2017-12-05T06:24:24.679896Z",
     "start_time": "2017-12-05T06:24:16.174606Z"
    },
    "hidden": true
   },
   "outputs": [
    {
     "ename": "NotFoundError",
     "evalue": "Tensor name \"cell_4/comb_iter_0/right/bn_sep_3x3_1/gamma\" not found in checkpoint files pretrained/nasnet_small/model.ckpt.index\n\t [[Node: save/RestoreV2_439 = RestoreV2[dtypes=[DT_FLOAT], _device=\"/job:localhost/replica:0/task:0/device:CPU:0\"](_arg_save/Const_0_0, save/RestoreV2_439/tensor_names, save/RestoreV2_439/shape_and_slices)]]\n\t [[Node: save/RestoreV2_317/_1597 = _Recv[client_terminated=false, recv_device=\"/job:localhost/replica:0/task:0/device:GPU:0\", send_device=\"/job:localhost/replica:0/task:0/device:CPU:0\", send_device_incarnation=1, tensor_name=\"edge_3852_save/RestoreV2_317\", tensor_type=DT_FLOAT, _device=\"/job:localhost/replica:0/task:0/device:GPU:0\"]()]]\n\nCaused by op 'save/RestoreV2_439', defined at:\n  File \"/afs/csail.mit.edu/u/n/nhunt/anaconda3/lib/python3.6/runpy.py\", line 193, in _run_module_as_main\n    \"__main__\", mod_spec)\n  File \"/afs/csail.mit.edu/u/n/nhunt/anaconda3/lib/python3.6/runpy.py\", line 85, in _run_code\n    exec(code, run_globals)\n  File \"/afs/csail.mit.edu/u/n/nhunt/anaconda3/lib/python3.6/site-packages/ipykernel_launcher.py\", line 16, in <module>\n    app.launch_new_instance()\n  File \"/afs/csail.mit.edu/u/n/nhunt/anaconda3/lib/python3.6/site-packages/traitlets/config/application.py\", line 658, in launch_instance\n    app.start()\n  File \"/afs/csail.mit.edu/u/n/nhunt/anaconda3/lib/python3.6/site-packages/ipykernel/kernelapp.py\", line 477, in start\n    ioloop.IOLoop.instance().start()\n  File \"/afs/csail.mit.edu/u/n/nhunt/anaconda3/lib/python3.6/site-packages/zmq/eventloop/ioloop.py\", line 177, in start\n    super(ZMQIOLoop, self).start()\n  File \"/afs/csail.mit.edu/u/n/nhunt/anaconda3/lib/python3.6/site-packages/tornado/ioloop.py\", line 888, in start\n    handler_func(fd_obj, events)\n  File \"/afs/csail.mit.edu/u/n/nhunt/anaconda3/lib/python3.6/site-packages/tornado/stack_context.py\", line 277, in null_wrapper\n    return fn(*args, **kwargs)\n  File \"/afs/csail.mit.edu/u/n/nhunt/anaconda3/lib/python3.6/site-packages/zmq/eventloop/zmqstream.py\", line 440, in _handle_events\n    self._handle_recv()\n  File \"/afs/csail.mit.edu/u/n/nhunt/anaconda3/lib/python3.6/site-packages/zmq/eventloop/zmqstream.py\", line 472, in _handle_recv\n    self._run_callback(callback, msg)\n  File \"/afs/csail.mit.edu/u/n/nhunt/anaconda3/lib/python3.6/site-packages/zmq/eventloop/zmqstream.py\", line 414, in _run_callback\n    callback(*args, **kwargs)\n  File \"/afs/csail.mit.edu/u/n/nhunt/anaconda3/lib/python3.6/site-packages/tornado/stack_context.py\", line 277, in null_wrapper\n    return fn(*args, **kwargs)\n  File \"/afs/csail.mit.edu/u/n/nhunt/anaconda3/lib/python3.6/site-packages/ipykernel/kernelbase.py\", line 283, in dispatcher\n    return self.dispatch_shell(stream, msg)\n  File \"/afs/csail.mit.edu/u/n/nhunt/anaconda3/lib/python3.6/site-packages/ipykernel/kernelbase.py\", line 235, in dispatch_shell\n    handler(stream, idents, msg)\n  File \"/afs/csail.mit.edu/u/n/nhunt/anaconda3/lib/python3.6/site-packages/ipykernel/kernelbase.py\", line 399, in execute_request\n    user_expressions, allow_stdin)\n  File \"/afs/csail.mit.edu/u/n/nhunt/anaconda3/lib/python3.6/site-packages/ipykernel/ipkernel.py\", line 196, in do_execute\n    res = shell.run_cell(code, store_history=store_history, silent=silent)\n  File \"/afs/csail.mit.edu/u/n/nhunt/anaconda3/lib/python3.6/site-packages/ipykernel/zmqshell.py\", line 533, in run_cell\n    return super(ZMQInteractiveShell, self).run_cell(*args, **kwargs)\n  File \"/afs/csail.mit.edu/u/n/nhunt/anaconda3/lib/python3.6/site-packages/IPython/core/interactiveshell.py\", line 2698, in run_cell\n    interactivity=interactivity, compiler=compiler, result=result)\n  File \"/afs/csail.mit.edu/u/n/nhunt/anaconda3/lib/python3.6/site-packages/IPython/core/interactiveshell.py\", line 2802, in run_ast_nodes\n    if self.run_code(code, result):\n  File \"/afs/csail.mit.edu/u/n/nhunt/anaconda3/lib/python3.6/site-packages/IPython/core/interactiveshell.py\", line 2862, in run_code\n    exec(code_obj, self.user_global_ns, self.user_ns)\n  File \"<ipython-input-33-f291af836bf4>\", line 15, in <module>\n    slim.get_model_variables())\n  File \"/afs/csail.mit.edu/u/n/nhunt/anaconda3/lib/python3.6/site-packages/tensorflow/contrib/framework/python/ops/variables.py\", line 659, in assign_from_checkpoint_fn\n    saver = tf_saver.Saver(var_list, reshape=reshape_variables)\n  File \"/afs/csail.mit.edu/u/n/nhunt/anaconda3/lib/python3.6/site-packages/tensorflow/python/training/saver.py\", line 1218, in __init__\n    self.build()\n  File \"/afs/csail.mit.edu/u/n/nhunt/anaconda3/lib/python3.6/site-packages/tensorflow/python/training/saver.py\", line 1227, in build\n    self._build(self._filename, build_save=True, build_restore=True)\n  File \"/afs/csail.mit.edu/u/n/nhunt/anaconda3/lib/python3.6/site-packages/tensorflow/python/training/saver.py\", line 1263, in _build\n    build_save=build_save, build_restore=build_restore)\n  File \"/afs/csail.mit.edu/u/n/nhunt/anaconda3/lib/python3.6/site-packages/tensorflow/python/training/saver.py\", line 751, in _build_internal\n    restore_sequentially, reshape)\n  File \"/afs/csail.mit.edu/u/n/nhunt/anaconda3/lib/python3.6/site-packages/tensorflow/python/training/saver.py\", line 427, in _AddRestoreOps\n    tensors = self.restore_op(filename_tensor, saveable, preferred_shard)\n  File \"/afs/csail.mit.edu/u/n/nhunt/anaconda3/lib/python3.6/site-packages/tensorflow/python/training/saver.py\", line 267, in restore_op\n    [spec.tensor.dtype])[0])\n  File \"/afs/csail.mit.edu/u/n/nhunt/anaconda3/lib/python3.6/site-packages/tensorflow/python/ops/gen_io_ops.py\", line 1021, in restore_v2\n    shape_and_slices=shape_and_slices, dtypes=dtypes, name=name)\n  File \"/afs/csail.mit.edu/u/n/nhunt/anaconda3/lib/python3.6/site-packages/tensorflow/python/framework/op_def_library.py\", line 787, in _apply_op_helper\n    op_def=op_def)\n  File \"/afs/csail.mit.edu/u/n/nhunt/anaconda3/lib/python3.6/site-packages/tensorflow/python/framework/ops.py\", line 2956, in create_op\n    op_def=op_def)\n  File \"/afs/csail.mit.edu/u/n/nhunt/anaconda3/lib/python3.6/site-packages/tensorflow/python/framework/ops.py\", line 1470, in __init__\n    self._traceback = self._graph._extract_stack()  # pylint: disable=protected-access\n\nNotFoundError (see above for traceback): Tensor name \"cell_4/comb_iter_0/right/bn_sep_3x3_1/gamma\" not found in checkpoint files pretrained/nasnet_small/model.ckpt.index\n\t [[Node: save/RestoreV2_439 = RestoreV2[dtypes=[DT_FLOAT], _device=\"/job:localhost/replica:0/task:0/device:CPU:0\"](_arg_save/Const_0_0, save/RestoreV2_439/tensor_names, save/RestoreV2_439/shape_and_slices)]]\n\t [[Node: save/RestoreV2_317/_1597 = _Recv[client_terminated=false, recv_device=\"/job:localhost/replica:0/task:0/device:GPU:0\", send_device=\"/job:localhost/replica:0/task:0/device:CPU:0\", send_device_incarnation=1, tensor_name=\"edge_3852_save/RestoreV2_317\", tensor_type=DT_FLOAT, _device=\"/job:localhost/replica:0/task:0/device:GPU:0\"]()]]\n",
     "output_type": "error",
     "traceback": [
      "\u001b[0;31m---------------------------------------------------------------------------\u001b[0m",
      "\u001b[0;31mNotFoundError\u001b[0m                             Traceback (most recent call last)",
      "\u001b[0;32m~/anaconda3/lib/python3.6/site-packages/tensorflow/python/client/session.py\u001b[0m in \u001b[0;36m_do_call\u001b[0;34m(self, fn, *args)\u001b[0m\n\u001b[1;32m   1322\u001b[0m     \u001b[0;32mtry\u001b[0m\u001b[0;34m:\u001b[0m\u001b[0;34m\u001b[0m\u001b[0m\n\u001b[0;32m-> 1323\u001b[0;31m       \u001b[0;32mreturn\u001b[0m \u001b[0mfn\u001b[0m\u001b[0;34m(\u001b[0m\u001b[0;34m*\u001b[0m\u001b[0margs\u001b[0m\u001b[0;34m)\u001b[0m\u001b[0;34m\u001b[0m\u001b[0m\n\u001b[0m\u001b[1;32m   1324\u001b[0m     \u001b[0;32mexcept\u001b[0m \u001b[0merrors\u001b[0m\u001b[0;34m.\u001b[0m\u001b[0mOpError\u001b[0m \u001b[0;32mas\u001b[0m \u001b[0me\u001b[0m\u001b[0;34m:\u001b[0m\u001b[0;34m\u001b[0m\u001b[0m\n",
      "\u001b[0;32m~/anaconda3/lib/python3.6/site-packages/tensorflow/python/client/session.py\u001b[0m in \u001b[0;36m_run_fn\u001b[0;34m(session, feed_dict, fetch_list, target_list, options, run_metadata)\u001b[0m\n\u001b[1;32m   1301\u001b[0m                                    \u001b[0mfeed_dict\u001b[0m\u001b[0;34m,\u001b[0m \u001b[0mfetch_list\u001b[0m\u001b[0;34m,\u001b[0m \u001b[0mtarget_list\u001b[0m\u001b[0;34m,\u001b[0m\u001b[0;34m\u001b[0m\u001b[0m\n\u001b[0;32m-> 1302\u001b[0;31m                                    status, run_metadata)\n\u001b[0m\u001b[1;32m   1303\u001b[0m \u001b[0;34m\u001b[0m\u001b[0m\n",
      "\u001b[0;32m~/anaconda3/lib/python3.6/site-packages/tensorflow/python/framework/errors_impl.py\u001b[0m in \u001b[0;36m__exit__\u001b[0;34m(self, type_arg, value_arg, traceback_arg)\u001b[0m\n\u001b[1;32m    472\u001b[0m             \u001b[0mcompat\u001b[0m\u001b[0;34m.\u001b[0m\u001b[0mas_text\u001b[0m\u001b[0;34m(\u001b[0m\u001b[0mc_api\u001b[0m\u001b[0;34m.\u001b[0m\u001b[0mTF_Message\u001b[0m\u001b[0;34m(\u001b[0m\u001b[0mself\u001b[0m\u001b[0;34m.\u001b[0m\u001b[0mstatus\u001b[0m\u001b[0;34m.\u001b[0m\u001b[0mstatus\u001b[0m\u001b[0;34m)\u001b[0m\u001b[0;34m)\u001b[0m\u001b[0;34m,\u001b[0m\u001b[0;34m\u001b[0m\u001b[0m\n\u001b[0;32m--> 473\u001b[0;31m             c_api.TF_GetCode(self.status.status))\n\u001b[0m\u001b[1;32m    474\u001b[0m     \u001b[0;31m# Delete the underlying status object from memory otherwise it stays alive\u001b[0m\u001b[0;34m\u001b[0m\u001b[0;34m\u001b[0m\u001b[0m\n",
      "\u001b[0;31mNotFoundError\u001b[0m: Tensor name \"cell_4/comb_iter_0/right/bn_sep_3x3_1/gamma\" not found in checkpoint files pretrained/nasnet_small/model.ckpt.index\n\t [[Node: save/RestoreV2_439 = RestoreV2[dtypes=[DT_FLOAT], _device=\"/job:localhost/replica:0/task:0/device:CPU:0\"](_arg_save/Const_0_0, save/RestoreV2_439/tensor_names, save/RestoreV2_439/shape_and_slices)]]\n\t [[Node: save/RestoreV2_317/_1597 = _Recv[client_terminated=false, recv_device=\"/job:localhost/replica:0/task:0/device:GPU:0\", send_device=\"/job:localhost/replica:0/task:0/device:CPU:0\", send_device_incarnation=1, tensor_name=\"edge_3852_save/RestoreV2_317\", tensor_type=DT_FLOAT, _device=\"/job:localhost/replica:0/task:0/device:GPU:0\"]()]]",
      "\nDuring handling of the above exception, another exception occurred:\n",
      "\u001b[0;31mNotFoundError\u001b[0m                             Traceback (most recent call last)",
      "\u001b[0;32m<ipython-input-33-f291af836bf4>\u001b[0m in \u001b[0;36m<module>\u001b[0;34m()\u001b[0m\n\u001b[1;32m     16\u001b[0m \u001b[0;34m\u001b[0m\u001b[0m\n\u001b[1;32m     17\u001b[0m \u001b[0msess\u001b[0m \u001b[0;34m=\u001b[0m \u001b[0mtf\u001b[0m\u001b[0;34m.\u001b[0m\u001b[0mSession\u001b[0m\u001b[0;34m(\u001b[0m\u001b[0mconfig\u001b[0m\u001b[0;34m=\u001b[0m\u001b[0mconfig\u001b[0m\u001b[0;34m,\u001b[0m \u001b[0mgraph\u001b[0m\u001b[0;34m=\u001b[0m\u001b[0mgraph\u001b[0m\u001b[0;34m)\u001b[0m\u001b[0;34m\u001b[0m\u001b[0m\n\u001b[0;32m---> 18\u001b[0;31m \u001b[0minit_fn\u001b[0m\u001b[0;34m(\u001b[0m\u001b[0msess\u001b[0m\u001b[0;34m)\u001b[0m\u001b[0;34m\u001b[0m\u001b[0m\n\u001b[0m",
      "\u001b[0;32m~/anaconda3/lib/python3.6/site-packages/tensorflow/contrib/framework/python/ops/variables.py\u001b[0m in \u001b[0;36mcallback\u001b[0;34m(session)\u001b[0m\n\u001b[1;32m    659\u001b[0m     \u001b[0msaver\u001b[0m \u001b[0;34m=\u001b[0m \u001b[0mtf_saver\u001b[0m\u001b[0;34m.\u001b[0m\u001b[0mSaver\u001b[0m\u001b[0;34m(\u001b[0m\u001b[0mvar_list\u001b[0m\u001b[0;34m,\u001b[0m \u001b[0mreshape\u001b[0m\u001b[0;34m=\u001b[0m\u001b[0mreshape_variables\u001b[0m\u001b[0;34m)\u001b[0m\u001b[0;34m\u001b[0m\u001b[0m\n\u001b[1;32m    660\u001b[0m     \u001b[0;32mdef\u001b[0m \u001b[0mcallback\u001b[0m\u001b[0;34m(\u001b[0m\u001b[0msession\u001b[0m\u001b[0;34m)\u001b[0m\u001b[0;34m:\u001b[0m\u001b[0;34m\u001b[0m\u001b[0m\n\u001b[0;32m--> 661\u001b[0;31m       \u001b[0msaver\u001b[0m\u001b[0;34m.\u001b[0m\u001b[0mrestore\u001b[0m\u001b[0;34m(\u001b[0m\u001b[0msession\u001b[0m\u001b[0;34m,\u001b[0m \u001b[0mmodel_path\u001b[0m\u001b[0;34m)\u001b[0m\u001b[0;34m\u001b[0m\u001b[0m\n\u001b[0m\u001b[1;32m    662\u001b[0m     \u001b[0;32mreturn\u001b[0m \u001b[0mcallback\u001b[0m\u001b[0;34m\u001b[0m\u001b[0m\n\u001b[1;32m    663\u001b[0m   \u001b[0;32melse\u001b[0m\u001b[0;34m:\u001b[0m\u001b[0;34m\u001b[0m\u001b[0m\n",
      "\u001b[0;32m~/anaconda3/lib/python3.6/site-packages/tensorflow/python/training/saver.py\u001b[0m in \u001b[0;36mrestore\u001b[0;34m(self, sess, save_path)\u001b[0m\n\u001b[1;32m   1664\u001b[0m     \u001b[0;32mif\u001b[0m \u001b[0mcontext\u001b[0m\u001b[0;34m.\u001b[0m\u001b[0min_graph_mode\u001b[0m\u001b[0;34m(\u001b[0m\u001b[0;34m)\u001b[0m\u001b[0;34m:\u001b[0m\u001b[0;34m\u001b[0m\u001b[0m\n\u001b[1;32m   1665\u001b[0m       sess.run(self.saver_def.restore_op_name,\n\u001b[0;32m-> 1666\u001b[0;31m                {self.saver_def.filename_tensor_name: save_path})\n\u001b[0m\u001b[1;32m   1667\u001b[0m     \u001b[0;32melse\u001b[0m\u001b[0;34m:\u001b[0m\u001b[0;34m\u001b[0m\u001b[0m\n\u001b[1;32m   1668\u001b[0m       \u001b[0mself\u001b[0m\u001b[0;34m.\u001b[0m\u001b[0m_build_eager\u001b[0m\u001b[0;34m(\u001b[0m\u001b[0msave_path\u001b[0m\u001b[0;34m,\u001b[0m \u001b[0mbuild_save\u001b[0m\u001b[0;34m=\u001b[0m\u001b[0;32mFalse\u001b[0m\u001b[0;34m,\u001b[0m \u001b[0mbuild_restore\u001b[0m\u001b[0;34m=\u001b[0m\u001b[0;32mTrue\u001b[0m\u001b[0;34m)\u001b[0m\u001b[0;34m\u001b[0m\u001b[0m\n",
      "\u001b[0;32m~/anaconda3/lib/python3.6/site-packages/tensorflow/python/client/session.py\u001b[0m in \u001b[0;36mrun\u001b[0;34m(self, fetches, feed_dict, options, run_metadata)\u001b[0m\n\u001b[1;32m    887\u001b[0m     \u001b[0;32mtry\u001b[0m\u001b[0;34m:\u001b[0m\u001b[0;34m\u001b[0m\u001b[0m\n\u001b[1;32m    888\u001b[0m       result = self._run(None, fetches, feed_dict, options_ptr,\n\u001b[0;32m--> 889\u001b[0;31m                          run_metadata_ptr)\n\u001b[0m\u001b[1;32m    890\u001b[0m       \u001b[0;32mif\u001b[0m \u001b[0mrun_metadata\u001b[0m\u001b[0;34m:\u001b[0m\u001b[0;34m\u001b[0m\u001b[0m\n\u001b[1;32m    891\u001b[0m         \u001b[0mproto_data\u001b[0m \u001b[0;34m=\u001b[0m \u001b[0mtf_session\u001b[0m\u001b[0;34m.\u001b[0m\u001b[0mTF_GetBuffer\u001b[0m\u001b[0;34m(\u001b[0m\u001b[0mrun_metadata_ptr\u001b[0m\u001b[0;34m)\u001b[0m\u001b[0;34m\u001b[0m\u001b[0m\n",
      "\u001b[0;32m~/anaconda3/lib/python3.6/site-packages/tensorflow/python/client/session.py\u001b[0m in \u001b[0;36m_run\u001b[0;34m(self, handle, fetches, feed_dict, options, run_metadata)\u001b[0m\n\u001b[1;32m   1118\u001b[0m     \u001b[0;32mif\u001b[0m \u001b[0mfinal_fetches\u001b[0m \u001b[0;32mor\u001b[0m \u001b[0mfinal_targets\u001b[0m \u001b[0;32mor\u001b[0m \u001b[0;34m(\u001b[0m\u001b[0mhandle\u001b[0m \u001b[0;32mand\u001b[0m \u001b[0mfeed_dict_tensor\u001b[0m\u001b[0;34m)\u001b[0m\u001b[0;34m:\u001b[0m\u001b[0;34m\u001b[0m\u001b[0m\n\u001b[1;32m   1119\u001b[0m       results = self._do_run(handle, final_targets, final_fetches,\n\u001b[0;32m-> 1120\u001b[0;31m                              feed_dict_tensor, options, run_metadata)\n\u001b[0m\u001b[1;32m   1121\u001b[0m     \u001b[0;32melse\u001b[0m\u001b[0;34m:\u001b[0m\u001b[0;34m\u001b[0m\u001b[0m\n\u001b[1;32m   1122\u001b[0m       \u001b[0mresults\u001b[0m \u001b[0;34m=\u001b[0m \u001b[0;34m[\u001b[0m\u001b[0;34m]\u001b[0m\u001b[0;34m\u001b[0m\u001b[0m\n",
      "\u001b[0;32m~/anaconda3/lib/python3.6/site-packages/tensorflow/python/client/session.py\u001b[0m in \u001b[0;36m_do_run\u001b[0;34m(self, handle, target_list, fetch_list, feed_dict, options, run_metadata)\u001b[0m\n\u001b[1;32m   1315\u001b[0m     \u001b[0;32mif\u001b[0m \u001b[0mhandle\u001b[0m \u001b[0;32mis\u001b[0m \u001b[0;32mNone\u001b[0m\u001b[0;34m:\u001b[0m\u001b[0;34m\u001b[0m\u001b[0m\n\u001b[1;32m   1316\u001b[0m       return self._do_call(_run_fn, self._session, feeds, fetches, targets,\n\u001b[0;32m-> 1317\u001b[0;31m                            options, run_metadata)\n\u001b[0m\u001b[1;32m   1318\u001b[0m     \u001b[0;32melse\u001b[0m\u001b[0;34m:\u001b[0m\u001b[0;34m\u001b[0m\u001b[0m\n\u001b[1;32m   1319\u001b[0m       \u001b[0;32mreturn\u001b[0m \u001b[0mself\u001b[0m\u001b[0;34m.\u001b[0m\u001b[0m_do_call\u001b[0m\u001b[0;34m(\u001b[0m\u001b[0m_prun_fn\u001b[0m\u001b[0;34m,\u001b[0m \u001b[0mself\u001b[0m\u001b[0;34m.\u001b[0m\u001b[0m_session\u001b[0m\u001b[0;34m,\u001b[0m \u001b[0mhandle\u001b[0m\u001b[0;34m,\u001b[0m \u001b[0mfeeds\u001b[0m\u001b[0;34m,\u001b[0m \u001b[0mfetches\u001b[0m\u001b[0;34m)\u001b[0m\u001b[0;34m\u001b[0m\u001b[0m\n",
      "\u001b[0;32m~/anaconda3/lib/python3.6/site-packages/tensorflow/python/client/session.py\u001b[0m in \u001b[0;36m_do_call\u001b[0;34m(self, fn, *args)\u001b[0m\n\u001b[1;32m   1334\u001b[0m         \u001b[0;32mexcept\u001b[0m \u001b[0mKeyError\u001b[0m\u001b[0;34m:\u001b[0m\u001b[0;34m\u001b[0m\u001b[0m\n\u001b[1;32m   1335\u001b[0m           \u001b[0;32mpass\u001b[0m\u001b[0;34m\u001b[0m\u001b[0m\n\u001b[0;32m-> 1336\u001b[0;31m       \u001b[0;32mraise\u001b[0m \u001b[0mtype\u001b[0m\u001b[0;34m(\u001b[0m\u001b[0me\u001b[0m\u001b[0;34m)\u001b[0m\u001b[0;34m(\u001b[0m\u001b[0mnode_def\u001b[0m\u001b[0;34m,\u001b[0m \u001b[0mop\u001b[0m\u001b[0;34m,\u001b[0m \u001b[0mmessage\u001b[0m\u001b[0;34m)\u001b[0m\u001b[0;34m\u001b[0m\u001b[0m\n\u001b[0m\u001b[1;32m   1337\u001b[0m \u001b[0;34m\u001b[0m\u001b[0m\n\u001b[1;32m   1338\u001b[0m   \u001b[0;32mdef\u001b[0m \u001b[0m_extend_graph\u001b[0m\u001b[0;34m(\u001b[0m\u001b[0mself\u001b[0m\u001b[0;34m)\u001b[0m\u001b[0;34m:\u001b[0m\u001b[0;34m\u001b[0m\u001b[0m\n",
      "\u001b[0;31mNotFoundError\u001b[0m: Tensor name \"cell_4/comb_iter_0/right/bn_sep_3x3_1/gamma\" not found in checkpoint files pretrained/nasnet_small/model.ckpt.index\n\t [[Node: save/RestoreV2_439 = RestoreV2[dtypes=[DT_FLOAT], _device=\"/job:localhost/replica:0/task:0/device:CPU:0\"](_arg_save/Const_0_0, save/RestoreV2_439/tensor_names, save/RestoreV2_439/shape_and_slices)]]\n\t [[Node: save/RestoreV2_317/_1597 = _Recv[client_terminated=false, recv_device=\"/job:localhost/replica:0/task:0/device:GPU:0\", send_device=\"/job:localhost/replica:0/task:0/device:CPU:0\", send_device_incarnation=1, tensor_name=\"edge_3852_save/RestoreV2_317\", tensor_type=DT_FLOAT, _device=\"/job:localhost/replica:0/task:0/device:GPU:0\"]()]]\n\nCaused by op 'save/RestoreV2_439', defined at:\n  File \"/afs/csail.mit.edu/u/n/nhunt/anaconda3/lib/python3.6/runpy.py\", line 193, in _run_module_as_main\n    \"__main__\", mod_spec)\n  File \"/afs/csail.mit.edu/u/n/nhunt/anaconda3/lib/python3.6/runpy.py\", line 85, in _run_code\n    exec(code, run_globals)\n  File \"/afs/csail.mit.edu/u/n/nhunt/anaconda3/lib/python3.6/site-packages/ipykernel_launcher.py\", line 16, in <module>\n    app.launch_new_instance()\n  File \"/afs/csail.mit.edu/u/n/nhunt/anaconda3/lib/python3.6/site-packages/traitlets/config/application.py\", line 658, in launch_instance\n    app.start()\n  File \"/afs/csail.mit.edu/u/n/nhunt/anaconda3/lib/python3.6/site-packages/ipykernel/kernelapp.py\", line 477, in start\n    ioloop.IOLoop.instance().start()\n  File \"/afs/csail.mit.edu/u/n/nhunt/anaconda3/lib/python3.6/site-packages/zmq/eventloop/ioloop.py\", line 177, in start\n    super(ZMQIOLoop, self).start()\n  File \"/afs/csail.mit.edu/u/n/nhunt/anaconda3/lib/python3.6/site-packages/tornado/ioloop.py\", line 888, in start\n    handler_func(fd_obj, events)\n  File \"/afs/csail.mit.edu/u/n/nhunt/anaconda3/lib/python3.6/site-packages/tornado/stack_context.py\", line 277, in null_wrapper\n    return fn(*args, **kwargs)\n  File \"/afs/csail.mit.edu/u/n/nhunt/anaconda3/lib/python3.6/site-packages/zmq/eventloop/zmqstream.py\", line 440, in _handle_events\n    self._handle_recv()\n  File \"/afs/csail.mit.edu/u/n/nhunt/anaconda3/lib/python3.6/site-packages/zmq/eventloop/zmqstream.py\", line 472, in _handle_recv\n    self._run_callback(callback, msg)\n  File \"/afs/csail.mit.edu/u/n/nhunt/anaconda3/lib/python3.6/site-packages/zmq/eventloop/zmqstream.py\", line 414, in _run_callback\n    callback(*args, **kwargs)\n  File \"/afs/csail.mit.edu/u/n/nhunt/anaconda3/lib/python3.6/site-packages/tornado/stack_context.py\", line 277, in null_wrapper\n    return fn(*args, **kwargs)\n  File \"/afs/csail.mit.edu/u/n/nhunt/anaconda3/lib/python3.6/site-packages/ipykernel/kernelbase.py\", line 283, in dispatcher\n    return self.dispatch_shell(stream, msg)\n  File \"/afs/csail.mit.edu/u/n/nhunt/anaconda3/lib/python3.6/site-packages/ipykernel/kernelbase.py\", line 235, in dispatch_shell\n    handler(stream, idents, msg)\n  File \"/afs/csail.mit.edu/u/n/nhunt/anaconda3/lib/python3.6/site-packages/ipykernel/kernelbase.py\", line 399, in execute_request\n    user_expressions, allow_stdin)\n  File \"/afs/csail.mit.edu/u/n/nhunt/anaconda3/lib/python3.6/site-packages/ipykernel/ipkernel.py\", line 196, in do_execute\n    res = shell.run_cell(code, store_history=store_history, silent=silent)\n  File \"/afs/csail.mit.edu/u/n/nhunt/anaconda3/lib/python3.6/site-packages/ipykernel/zmqshell.py\", line 533, in run_cell\n    return super(ZMQInteractiveShell, self).run_cell(*args, **kwargs)\n  File \"/afs/csail.mit.edu/u/n/nhunt/anaconda3/lib/python3.6/site-packages/IPython/core/interactiveshell.py\", line 2698, in run_cell\n    interactivity=interactivity, compiler=compiler, result=result)\n  File \"/afs/csail.mit.edu/u/n/nhunt/anaconda3/lib/python3.6/site-packages/IPython/core/interactiveshell.py\", line 2802, in run_ast_nodes\n    if self.run_code(code, result):\n  File \"/afs/csail.mit.edu/u/n/nhunt/anaconda3/lib/python3.6/site-packages/IPython/core/interactiveshell.py\", line 2862, in run_code\n    exec(code_obj, self.user_global_ns, self.user_ns)\n  File \"<ipython-input-33-f291af836bf4>\", line 15, in <module>\n    slim.get_model_variables())\n  File \"/afs/csail.mit.edu/u/n/nhunt/anaconda3/lib/python3.6/site-packages/tensorflow/contrib/framework/python/ops/variables.py\", line 659, in assign_from_checkpoint_fn\n    saver = tf_saver.Saver(var_list, reshape=reshape_variables)\n  File \"/afs/csail.mit.edu/u/n/nhunt/anaconda3/lib/python3.6/site-packages/tensorflow/python/training/saver.py\", line 1218, in __init__\n    self.build()\n  File \"/afs/csail.mit.edu/u/n/nhunt/anaconda3/lib/python3.6/site-packages/tensorflow/python/training/saver.py\", line 1227, in build\n    self._build(self._filename, build_save=True, build_restore=True)\n  File \"/afs/csail.mit.edu/u/n/nhunt/anaconda3/lib/python3.6/site-packages/tensorflow/python/training/saver.py\", line 1263, in _build\n    build_save=build_save, build_restore=build_restore)\n  File \"/afs/csail.mit.edu/u/n/nhunt/anaconda3/lib/python3.6/site-packages/tensorflow/python/training/saver.py\", line 751, in _build_internal\n    restore_sequentially, reshape)\n  File \"/afs/csail.mit.edu/u/n/nhunt/anaconda3/lib/python3.6/site-packages/tensorflow/python/training/saver.py\", line 427, in _AddRestoreOps\n    tensors = self.restore_op(filename_tensor, saveable, preferred_shard)\n  File \"/afs/csail.mit.edu/u/n/nhunt/anaconda3/lib/python3.6/site-packages/tensorflow/python/training/saver.py\", line 267, in restore_op\n    [spec.tensor.dtype])[0])\n  File \"/afs/csail.mit.edu/u/n/nhunt/anaconda3/lib/python3.6/site-packages/tensorflow/python/ops/gen_io_ops.py\", line 1021, in restore_v2\n    shape_and_slices=shape_and_slices, dtypes=dtypes, name=name)\n  File \"/afs/csail.mit.edu/u/n/nhunt/anaconda3/lib/python3.6/site-packages/tensorflow/python/framework/op_def_library.py\", line 787, in _apply_op_helper\n    op_def=op_def)\n  File \"/afs/csail.mit.edu/u/n/nhunt/anaconda3/lib/python3.6/site-packages/tensorflow/python/framework/ops.py\", line 2956, in create_op\n    op_def=op_def)\n  File \"/afs/csail.mit.edu/u/n/nhunt/anaconda3/lib/python3.6/site-packages/tensorflow/python/framework/ops.py\", line 1470, in __init__\n    self._traceback = self._graph._extract_stack()  # pylint: disable=protected-access\n\nNotFoundError (see above for traceback): Tensor name \"cell_4/comb_iter_0/right/bn_sep_3x3_1/gamma\" not found in checkpoint files pretrained/nasnet_small/model.ckpt.index\n\t [[Node: save/RestoreV2_439 = RestoreV2[dtypes=[DT_FLOAT], _device=\"/job:localhost/replica:0/task:0/device:CPU:0\"](_arg_save/Const_0_0, save/RestoreV2_439/tensor_names, save/RestoreV2_439/shape_and_slices)]]\n\t [[Node: save/RestoreV2_317/_1597 = _Recv[client_terminated=false, recv_device=\"/job:localhost/replica:0/task:0/device:GPU:0\", send_device=\"/job:localhost/replica:0/task:0/device:CPU:0\", send_device_incarnation=1, tensor_name=\"edge_3852_save/RestoreV2_317\", tensor_type=DT_FLOAT, _device=\"/job:localhost/replica:0/task:0/device:GPU:0\"]()]]\n"
     ]
    }
   ],
   "source": [
    "graph = tf.Graph()\n",
    "with graph.as_default():\n",
    "    # Create the model, use the default arg scope to configure the batch norm parameters.\n",
    "    img_p = tf.placeholder(tf.uint8, (None, *img_shape))\n",
    "\n",
    "    # for Inception-style preprocessing, convert image to [0, 1]\n",
    "    # then do 2 * (img - 0.5) (so img is in [-1, 1])\n",
    "    processed_img = tf.image.convert_image_dtype(img_p, tf.float32)\n",
    "    processed_img = 2 * (processed_img - 0.5)\n",
    "\n",
    "    with slim.arg_scope(nasnet.nasnet_mobile_arg_scope()):\n",
    "        logits, endpoints = nasnet.build_nasnet_mobile(processed_img, num_classes=1, is_training=False)\n",
    "\n",
    "    init_fn = slim.assign_from_checkpoint_fn('pretrained/nasnet_small/model.ckpt.index',\n",
    "                                            slim.get_model_variables())\n",
    "\n",
    "sess = tf.Session(config=config, graph=graph)\n",
    "init_fn(sess)"
   ]
  },
  {
   "cell_type": "code",
   "execution_count": 17,
   "metadata": {
    "ExecuteTime": {
     "end_time": "2017-12-05T05:53:53.407152Z",
     "start_time": "2017-12-05T05:53:53.401583Z"
    },
    "hidden": true
   },
   "outputs": [
    {
     "data": {
      "text/plain": [
       "{'Cell_0': <tf.Tensor 'cell_0/cell_output/concat:0' shape=(?, 50, 88, 264) dtype=float32>,\n",
       " 'Cell_1': <tf.Tensor 'cell_1/cell_output/concat:0' shape=(?, 50, 88, 264) dtype=float32>,\n",
       " 'Cell_10': <tf.Tensor 'cell_10/cell_output/concat:0' shape=(?, 13, 22, 1056) dtype=float32>,\n",
       " 'Cell_11': <tf.Tensor 'cell_11/cell_output/concat:0' shape=(?, 13, 22, 1056) dtype=float32>,\n",
       " 'Cell_2': <tf.Tensor 'cell_2/cell_output/concat:0' shape=(?, 50, 88, 264) dtype=float32>,\n",
       " 'Cell_3': <tf.Tensor 'cell_3/cell_output/concat:0' shape=(?, 50, 88, 264) dtype=float32>,\n",
       " 'Cell_4': <tf.Tensor 'cell_4/cell_output/concat:0' shape=(?, 25, 44, 528) dtype=float32>,\n",
       " 'Cell_5': <tf.Tensor 'cell_5/cell_output/concat:0' shape=(?, 25, 44, 528) dtype=float32>,\n",
       " 'Cell_6': <tf.Tensor 'cell_6/cell_output/concat:0' shape=(?, 25, 44, 528) dtype=float32>,\n",
       " 'Cell_7': <tf.Tensor 'cell_7/cell_output/concat:0' shape=(?, 25, 44, 528) dtype=float32>,\n",
       " 'Cell_8': <tf.Tensor 'cell_8/cell_output/concat:0' shape=(?, 13, 22, 1056) dtype=float32>,\n",
       " 'Cell_9': <tf.Tensor 'cell_9/cell_output/concat:0' shape=(?, 13, 22, 1056) dtype=float32>,\n",
       " 'Logits': <tf.Tensor 'final_layer/FC/BiasAdd:0' shape=(?, 1) dtype=float32>,\n",
       " 'Predictions': <tf.Tensor 'final_layer/predictions:0' shape=(?, 1) dtype=float32>,\n",
       " 'Reduction_Cell_0': <tf.Tensor 'reduction_cell_0/cell_output/concat:0' shape=(?, 25, 44, 352) dtype=float32>,\n",
       " 'Reduction_Cell_1': <tf.Tensor 'reduction_cell_1/cell_output/concat:0' shape=(?, 13, 22, 704) dtype=float32>,\n",
       " 'Stem': <tf.Tensor 'cell_stem_1/cell_output/concat:0' shape=(?, 50, 88, 88) dtype=float32>,\n",
       " 'global_pool': <tf.Tensor 'final_layer/Mean:0' shape=(?, 1056) dtype=float32>}"
      ]
     },
     "execution_count": 17,
     "metadata": {},
     "output_type": "execute_result"
    }
   ],
   "source": [
    "endpoints"
   ]
  },
  {
   "cell_type": "code",
   "execution_count": 18,
   "metadata": {
    "ExecuteTime": {
     "end_time": "2017-12-05T05:53:55.550246Z",
     "start_time": "2017-12-05T05:53:55.543887Z"
    },
    "collapsed": true,
    "hidden": true
   },
   "outputs": [],
   "source": [
    "sess = tf.Session(config=config, graph=graph)"
   ]
  },
  {
   "cell_type": "code",
   "execution_count": 19,
   "metadata": {
    "ExecuteTime": {
     "end_time": "2017-12-05T05:54:02.097462Z",
     "start_time": "2017-12-05T05:54:02.088937Z"
    },
    "collapsed": true,
    "hidden": true
   },
   "outputs": [],
   "source": [
    "saver = tf.train.Saver()"
   ]
  },
  {
   "cell_type": "code",
   "execution_count": 14,
   "metadata": {
    "ExecuteTime": {
     "end_time": "2017-12-05T05:52:10.036091Z",
     "start_time": "2017-12-05T05:52:09.866835Z"
    },
    "hidden": true
   },
   "outputs": [
    {
     "ename": "FailedPreconditionError",
     "evalue": "Attempting to use uninitialized value cell_3/comb_iter_0/left/separable_5x5_1/depthwise_weights\n\t [[Node: cell_3/comb_iter_0/left/separable_5x5_1/depthwise_weights/read = Identity[T=DT_FLOAT, _class=[\"loc:@cell_3/comb_iter_0/left/separable_5x5_1/depthwise_weights\"], _device=\"/job:localhost/replica:0/task:0/device:GPU:0\"](cell_3/comb_iter_0/left/separable_5x5_1/depthwise_weights)]]\n\t [[Node: cell_3/cell_output/concat/_7 = _Recv[client_terminated=false, recv_device=\"/job:localhost/replica:0/task:0/device:CPU:0\", send_device=\"/job:localhost/replica:0/task:0/device:GPU:0\", send_device_incarnation=1, tensor_name=\"edge_1686_cell_3/cell_output/concat\", tensor_type=DT_FLOAT, _device=\"/job:localhost/replica:0/task:0/device:CPU:0\"]()]]\n\nCaused by op 'cell_3/comb_iter_0/left/separable_5x5_1/depthwise_weights/read', defined at:\n  File \"/afs/csail.mit.edu/u/n/nhunt/anaconda3/lib/python3.6/runpy.py\", line 193, in _run_module_as_main\n    \"__main__\", mod_spec)\n  File \"/afs/csail.mit.edu/u/n/nhunt/anaconda3/lib/python3.6/runpy.py\", line 85, in _run_code\n    exec(code, run_globals)\n  File \"/afs/csail.mit.edu/u/n/nhunt/anaconda3/lib/python3.6/site-packages/ipykernel_launcher.py\", line 16, in <module>\n    app.launch_new_instance()\n  File \"/afs/csail.mit.edu/u/n/nhunt/anaconda3/lib/python3.6/site-packages/traitlets/config/application.py\", line 658, in launch_instance\n    app.start()\n  File \"/afs/csail.mit.edu/u/n/nhunt/anaconda3/lib/python3.6/site-packages/ipykernel/kernelapp.py\", line 477, in start\n    ioloop.IOLoop.instance().start()\n  File \"/afs/csail.mit.edu/u/n/nhunt/anaconda3/lib/python3.6/site-packages/zmq/eventloop/ioloop.py\", line 177, in start\n    super(ZMQIOLoop, self).start()\n  File \"/afs/csail.mit.edu/u/n/nhunt/anaconda3/lib/python3.6/site-packages/tornado/ioloop.py\", line 888, in start\n    handler_func(fd_obj, events)\n  File \"/afs/csail.mit.edu/u/n/nhunt/anaconda3/lib/python3.6/site-packages/tornado/stack_context.py\", line 277, in null_wrapper\n    return fn(*args, **kwargs)\n  File \"/afs/csail.mit.edu/u/n/nhunt/anaconda3/lib/python3.6/site-packages/zmq/eventloop/zmqstream.py\", line 440, in _handle_events\n    self._handle_recv()\n  File \"/afs/csail.mit.edu/u/n/nhunt/anaconda3/lib/python3.6/site-packages/zmq/eventloop/zmqstream.py\", line 472, in _handle_recv\n    self._run_callback(callback, msg)\n  File \"/afs/csail.mit.edu/u/n/nhunt/anaconda3/lib/python3.6/site-packages/zmq/eventloop/zmqstream.py\", line 414, in _run_callback\n    callback(*args, **kwargs)\n  File \"/afs/csail.mit.edu/u/n/nhunt/anaconda3/lib/python3.6/site-packages/tornado/stack_context.py\", line 277, in null_wrapper\n    return fn(*args, **kwargs)\n  File \"/afs/csail.mit.edu/u/n/nhunt/anaconda3/lib/python3.6/site-packages/ipykernel/kernelbase.py\", line 283, in dispatcher\n    return self.dispatch_shell(stream, msg)\n  File \"/afs/csail.mit.edu/u/n/nhunt/anaconda3/lib/python3.6/site-packages/ipykernel/kernelbase.py\", line 235, in dispatch_shell\n    handler(stream, idents, msg)\n  File \"/afs/csail.mit.edu/u/n/nhunt/anaconda3/lib/python3.6/site-packages/ipykernel/kernelbase.py\", line 399, in execute_request\n    user_expressions, allow_stdin)\n  File \"/afs/csail.mit.edu/u/n/nhunt/anaconda3/lib/python3.6/site-packages/ipykernel/ipkernel.py\", line 196, in do_execute\n    res = shell.run_cell(code, store_history=store_history, silent=silent)\n  File \"/afs/csail.mit.edu/u/n/nhunt/anaconda3/lib/python3.6/site-packages/ipykernel/zmqshell.py\", line 533, in run_cell\n    return super(ZMQInteractiveShell, self).run_cell(*args, **kwargs)\n  File \"/afs/csail.mit.edu/u/n/nhunt/anaconda3/lib/python3.6/site-packages/IPython/core/interactiveshell.py\", line 2698, in run_cell\n    interactivity=interactivity, compiler=compiler, result=result)\n  File \"/afs/csail.mit.edu/u/n/nhunt/anaconda3/lib/python3.6/site-packages/IPython/core/interactiveshell.py\", line 2802, in run_ast_nodes\n    if self.run_code(code, result):\n  File \"/afs/csail.mit.edu/u/n/nhunt/anaconda3/lib/python3.6/site-packages/IPython/core/interactiveshell.py\", line 2862, in run_code\n    exec(code_obj, self.user_global_ns, self.user_ns)\n  File \"<ipython-input-10-12e27da17793>\", line 12, in <module>\n    logits, endpoints = nasnet.build_nasnet_mobile(processed_img, num_classes=1, is_training=False)\n  File \"/afs/csail.mit.edu/u/n/nhunt/github/models/research/slim/nets/nasnet/nasnet.py\", line 370, in build_nasnet_mobile\n    final_endpoint=final_endpoint)\n  File \"/afs/csail.mit.edu/u/n/nhunt/github/models/research/slim/nets/nasnet/nasnet.py\", line 486, in _build_nasnet_base\n    cell_num=true_cell_num)\n  File \"/afs/csail.mit.edu/u/n/nhunt/github/models/research/slim/nets/nasnet/nasnet_utils.py\", line 326, in __call__\n    stride, original_input_left)\n  File \"/afs/csail.mit.edu/u/n/nhunt/github/models/research/slim/nets/nasnet/nasnet_utils.py\", line 352, in _apply_conv_operation\n    net = _stacked_separable_conv(net, stride, operation, filter_size)\n  File \"/afs/csail.mit.edu/u/n/nhunt/github/models/research/slim/nets/nasnet/nasnet_utils.py\", line 183, in _stacked_separable_conv\n    stride=stride)\n  File \"/afs/csail.mit.edu/u/n/nhunt/anaconda3/lib/python3.6/site-packages/tensorflow/contrib/framework/python/ops/arg_scope.py\", line 181, in func_with_args\n    return func(*args, **current_args)\n  File \"/afs/csail.mit.edu/u/n/nhunt/anaconda3/lib/python3.6/site-packages/tensorflow/contrib/layers/python/layers/layers.py\", line 2502, in separable_convolution2d\n    outputs = layer.apply(inputs)\n  File \"/afs/csail.mit.edu/u/n/nhunt/anaconda3/lib/python3.6/site-packages/tensorflow/python/layers/base.py\", line 671, in apply\n    return self.__call__(inputs, *args, **kwargs)\n  File \"/afs/csail.mit.edu/u/n/nhunt/anaconda3/lib/python3.6/site-packages/tensorflow/python/layers/base.py\", line 559, in __call__\n    self.build(input_shapes[0])\n  File \"/afs/csail.mit.edu/u/n/nhunt/anaconda3/lib/python3.6/site-packages/tensorflow/python/layers/convolutional.py\", line 950, in build\n    dtype=self.dtype)\n  File \"/afs/csail.mit.edu/u/n/nhunt/anaconda3/lib/python3.6/site-packages/tensorflow/python/layers/base.py\", line 458, in add_variable\n    trainable=trainable and self.trainable)\n  File \"/afs/csail.mit.edu/u/n/nhunt/anaconda3/lib/python3.6/site-packages/tensorflow/python/ops/variable_scope.py\", line 1203, in get_variable\n    constraint=constraint)\n  File \"/afs/csail.mit.edu/u/n/nhunt/anaconda3/lib/python3.6/site-packages/tensorflow/python/ops/variable_scope.py\", line 1092, in get_variable\n    constraint=constraint)\n  File \"/afs/csail.mit.edu/u/n/nhunt/anaconda3/lib/python3.6/site-packages/tensorflow/python/ops/variable_scope.py\", line 417, in get_variable\n    return custom_getter(**custom_getter_kwargs)\n  File \"/afs/csail.mit.edu/u/n/nhunt/anaconda3/lib/python3.6/site-packages/tensorflow/contrib/layers/python/layers/layers.py\", line 1539, in layer_variable_getter\n    return _model_variable_getter(getter, *args, **kwargs)\n  File \"/afs/csail.mit.edu/u/n/nhunt/anaconda3/lib/python3.6/site-packages/tensorflow/contrib/layers/python/layers/layers.py\", line 1531, in _model_variable_getter\n    custom_getter=getter, use_resource=use_resource)\n  File \"/afs/csail.mit.edu/u/n/nhunt/anaconda3/lib/python3.6/site-packages/tensorflow/contrib/framework/python/ops/arg_scope.py\", line 181, in func_with_args\n    return func(*args, **current_args)\n  File \"/afs/csail.mit.edu/u/n/nhunt/anaconda3/lib/python3.6/site-packages/tensorflow/contrib/framework/python/ops/variables.py\", line 262, in model_variable\n    use_resource=use_resource)\n  File \"/afs/csail.mit.edu/u/n/nhunt/anaconda3/lib/python3.6/site-packages/tensorflow/contrib/framework/python/ops/arg_scope.py\", line 181, in func_with_args\n    return func(*args, **current_args)\n  File \"/afs/csail.mit.edu/u/n/nhunt/anaconda3/lib/python3.6/site-packages/tensorflow/contrib/framework/python/ops/variables.py\", line 217, in variable\n    use_resource=use_resource)\n  File \"/afs/csail.mit.edu/u/n/nhunt/anaconda3/lib/python3.6/site-packages/tensorflow/python/ops/variable_scope.py\", line 394, in _true_getter\n    use_resource=use_resource, constraint=constraint)\n  File \"/afs/csail.mit.edu/u/n/nhunt/anaconda3/lib/python3.6/site-packages/tensorflow/python/ops/variable_scope.py\", line 805, in _get_single_variable\n    constraint=constraint)\n  File \"/afs/csail.mit.edu/u/n/nhunt/anaconda3/lib/python3.6/site-packages/tensorflow/python/ops/variables.py\", line 213, in __init__\n    constraint=constraint)\n  File \"/afs/csail.mit.edu/u/n/nhunt/anaconda3/lib/python3.6/site-packages/tensorflow/python/ops/variables.py\", line 356, in _init_from_args\n    self._snapshot = array_ops.identity(self._variable, name=\"read\")\n  File \"/afs/csail.mit.edu/u/n/nhunt/anaconda3/lib/python3.6/site-packages/tensorflow/python/ops/array_ops.py\", line 125, in identity\n    return gen_array_ops.identity(input, name=name)\n  File \"/afs/csail.mit.edu/u/n/nhunt/anaconda3/lib/python3.6/site-packages/tensorflow/python/ops/gen_array_ops.py\", line 2071, in identity\n    \"Identity\", input=input, name=name)\n  File \"/afs/csail.mit.edu/u/n/nhunt/anaconda3/lib/python3.6/site-packages/tensorflow/python/framework/op_def_library.py\", line 787, in _apply_op_helper\n    op_def=op_def)\n  File \"/afs/csail.mit.edu/u/n/nhunt/anaconda3/lib/python3.6/site-packages/tensorflow/python/framework/ops.py\", line 2956, in create_op\n    op_def=op_def)\n  File \"/afs/csail.mit.edu/u/n/nhunt/anaconda3/lib/python3.6/site-packages/tensorflow/python/framework/ops.py\", line 1470, in __init__\n    self._traceback = self._graph._extract_stack()  # pylint: disable=protected-access\n\nFailedPreconditionError (see above for traceback): Attempting to use uninitialized value cell_3/comb_iter_0/left/separable_5x5_1/depthwise_weights\n\t [[Node: cell_3/comb_iter_0/left/separable_5x5_1/depthwise_weights/read = Identity[T=DT_FLOAT, _class=[\"loc:@cell_3/comb_iter_0/left/separable_5x5_1/depthwise_weights\"], _device=\"/job:localhost/replica:0/task:0/device:GPU:0\"](cell_3/comb_iter_0/left/separable_5x5_1/depthwise_weights)]]\n\t [[Node: cell_3/cell_output/concat/_7 = _Recv[client_terminated=false, recv_device=\"/job:localhost/replica:0/task:0/device:CPU:0\", send_device=\"/job:localhost/replica:0/task:0/device:GPU:0\", send_device_incarnation=1, tensor_name=\"edge_1686_cell_3/cell_output/concat\", tensor_type=DT_FLOAT, _device=\"/job:localhost/replica:0/task:0/device:CPU:0\"]()]]\n",
     "output_type": "error",
     "traceback": [
      "\u001b[0;31m---------------------------------------------------------------------------\u001b[0m",
      "\u001b[0;31mFailedPreconditionError\u001b[0m                   Traceback (most recent call last)",
      "\u001b[0;32m~/anaconda3/lib/python3.6/site-packages/tensorflow/python/client/session.py\u001b[0m in \u001b[0;36m_do_call\u001b[0;34m(self, fn, *args)\u001b[0m\n\u001b[1;32m   1322\u001b[0m     \u001b[0;32mtry\u001b[0m\u001b[0;34m:\u001b[0m\u001b[0;34m\u001b[0m\u001b[0m\n\u001b[0;32m-> 1323\u001b[0;31m       \u001b[0;32mreturn\u001b[0m \u001b[0mfn\u001b[0m\u001b[0;34m(\u001b[0m\u001b[0;34m*\u001b[0m\u001b[0margs\u001b[0m\u001b[0;34m)\u001b[0m\u001b[0;34m\u001b[0m\u001b[0m\n\u001b[0m\u001b[1;32m   1324\u001b[0m     \u001b[0;32mexcept\u001b[0m \u001b[0merrors\u001b[0m\u001b[0;34m.\u001b[0m\u001b[0mOpError\u001b[0m \u001b[0;32mas\u001b[0m \u001b[0me\u001b[0m\u001b[0;34m:\u001b[0m\u001b[0;34m\u001b[0m\u001b[0m\n",
      "\u001b[0;32m~/anaconda3/lib/python3.6/site-packages/tensorflow/python/client/session.py\u001b[0m in \u001b[0;36m_run_fn\u001b[0;34m(session, feed_dict, fetch_list, target_list, options, run_metadata)\u001b[0m\n\u001b[1;32m   1301\u001b[0m                                    \u001b[0mfeed_dict\u001b[0m\u001b[0;34m,\u001b[0m \u001b[0mfetch_list\u001b[0m\u001b[0;34m,\u001b[0m \u001b[0mtarget_list\u001b[0m\u001b[0;34m,\u001b[0m\u001b[0;34m\u001b[0m\u001b[0m\n\u001b[0;32m-> 1302\u001b[0;31m                                    status, run_metadata)\n\u001b[0m\u001b[1;32m   1303\u001b[0m \u001b[0;34m\u001b[0m\u001b[0m\n",
      "\u001b[0;32m~/anaconda3/lib/python3.6/site-packages/tensorflow/python/framework/errors_impl.py\u001b[0m in \u001b[0;36m__exit__\u001b[0;34m(self, type_arg, value_arg, traceback_arg)\u001b[0m\n\u001b[1;32m    472\u001b[0m             \u001b[0mcompat\u001b[0m\u001b[0;34m.\u001b[0m\u001b[0mas_text\u001b[0m\u001b[0;34m(\u001b[0m\u001b[0mc_api\u001b[0m\u001b[0;34m.\u001b[0m\u001b[0mTF_Message\u001b[0m\u001b[0;34m(\u001b[0m\u001b[0mself\u001b[0m\u001b[0;34m.\u001b[0m\u001b[0mstatus\u001b[0m\u001b[0;34m.\u001b[0m\u001b[0mstatus\u001b[0m\u001b[0;34m)\u001b[0m\u001b[0;34m)\u001b[0m\u001b[0;34m,\u001b[0m\u001b[0;34m\u001b[0m\u001b[0m\n\u001b[0;32m--> 473\u001b[0;31m             c_api.TF_GetCode(self.status.status))\n\u001b[0m\u001b[1;32m    474\u001b[0m     \u001b[0;31m# Delete the underlying status object from memory otherwise it stays alive\u001b[0m\u001b[0;34m\u001b[0m\u001b[0;34m\u001b[0m\u001b[0m\n",
      "\u001b[0;31mFailedPreconditionError\u001b[0m: Attempting to use uninitialized value cell_3/comb_iter_0/left/separable_5x5_1/depthwise_weights\n\t [[Node: cell_3/comb_iter_0/left/separable_5x5_1/depthwise_weights/read = Identity[T=DT_FLOAT, _class=[\"loc:@cell_3/comb_iter_0/left/separable_5x5_1/depthwise_weights\"], _device=\"/job:localhost/replica:0/task:0/device:GPU:0\"](cell_3/comb_iter_0/left/separable_5x5_1/depthwise_weights)]]\n\t [[Node: cell_3/cell_output/concat/_7 = _Recv[client_terminated=false, recv_device=\"/job:localhost/replica:0/task:0/device:CPU:0\", send_device=\"/job:localhost/replica:0/task:0/device:GPU:0\", send_device_incarnation=1, tensor_name=\"edge_1686_cell_3/cell_output/concat\", tensor_type=DT_FLOAT, _device=\"/job:localhost/replica:0/task:0/device:CPU:0\"]()]]",
      "\nDuring handling of the above exception, another exception occurred:\n",
      "\u001b[0;31mFailedPreconditionError\u001b[0m                   Traceback (most recent call last)",
      "\u001b[0;32m<ipython-input-14-43cf51cad1b7>\u001b[0m in \u001b[0;36m<module>\u001b[0;34m()\u001b[0m\n\u001b[0;32m----> 1\u001b[0;31m \u001b[0mret\u001b[0m \u001b[0;34m=\u001b[0m \u001b[0msess\u001b[0m\u001b[0;34m.\u001b[0m\u001b[0mrun\u001b[0m\u001b[0;34m(\u001b[0m\u001b[0mendpoints\u001b[0m\u001b[0;34m[\u001b[0m\u001b[0;34m'Cell_3'\u001b[0m\u001b[0;34m]\u001b[0m\u001b[0;34m,\u001b[0m \u001b[0;34m{\u001b[0m\u001b[0mimg_p\u001b[0m\u001b[0;34m:\u001b[0m \u001b[0mbatch_imgs\u001b[0m\u001b[0;34m}\u001b[0m\u001b[0;34m)\u001b[0m\u001b[0;34m\u001b[0m\u001b[0m\n\u001b[0m",
      "\u001b[0;32m~/anaconda3/lib/python3.6/site-packages/tensorflow/python/client/session.py\u001b[0m in \u001b[0;36mrun\u001b[0;34m(self, fetches, feed_dict, options, run_metadata)\u001b[0m\n\u001b[1;32m    887\u001b[0m     \u001b[0;32mtry\u001b[0m\u001b[0;34m:\u001b[0m\u001b[0;34m\u001b[0m\u001b[0m\n\u001b[1;32m    888\u001b[0m       result = self._run(None, fetches, feed_dict, options_ptr,\n\u001b[0;32m--> 889\u001b[0;31m                          run_metadata_ptr)\n\u001b[0m\u001b[1;32m    890\u001b[0m       \u001b[0;32mif\u001b[0m \u001b[0mrun_metadata\u001b[0m\u001b[0;34m:\u001b[0m\u001b[0;34m\u001b[0m\u001b[0m\n\u001b[1;32m    891\u001b[0m         \u001b[0mproto_data\u001b[0m \u001b[0;34m=\u001b[0m \u001b[0mtf_session\u001b[0m\u001b[0;34m.\u001b[0m\u001b[0mTF_GetBuffer\u001b[0m\u001b[0;34m(\u001b[0m\u001b[0mrun_metadata_ptr\u001b[0m\u001b[0;34m)\u001b[0m\u001b[0;34m\u001b[0m\u001b[0m\n",
      "\u001b[0;32m~/anaconda3/lib/python3.6/site-packages/tensorflow/python/client/session.py\u001b[0m in \u001b[0;36m_run\u001b[0;34m(self, handle, fetches, feed_dict, options, run_metadata)\u001b[0m\n\u001b[1;32m   1118\u001b[0m     \u001b[0;32mif\u001b[0m \u001b[0mfinal_fetches\u001b[0m \u001b[0;32mor\u001b[0m \u001b[0mfinal_targets\u001b[0m \u001b[0;32mor\u001b[0m \u001b[0;34m(\u001b[0m\u001b[0mhandle\u001b[0m \u001b[0;32mand\u001b[0m \u001b[0mfeed_dict_tensor\u001b[0m\u001b[0;34m)\u001b[0m\u001b[0;34m:\u001b[0m\u001b[0;34m\u001b[0m\u001b[0m\n\u001b[1;32m   1119\u001b[0m       results = self._do_run(handle, final_targets, final_fetches,\n\u001b[0;32m-> 1120\u001b[0;31m                              feed_dict_tensor, options, run_metadata)\n\u001b[0m\u001b[1;32m   1121\u001b[0m     \u001b[0;32melse\u001b[0m\u001b[0;34m:\u001b[0m\u001b[0;34m\u001b[0m\u001b[0m\n\u001b[1;32m   1122\u001b[0m       \u001b[0mresults\u001b[0m \u001b[0;34m=\u001b[0m \u001b[0;34m[\u001b[0m\u001b[0;34m]\u001b[0m\u001b[0;34m\u001b[0m\u001b[0m\n",
      "\u001b[0;32m~/anaconda3/lib/python3.6/site-packages/tensorflow/python/client/session.py\u001b[0m in \u001b[0;36m_do_run\u001b[0;34m(self, handle, target_list, fetch_list, feed_dict, options, run_metadata)\u001b[0m\n\u001b[1;32m   1315\u001b[0m     \u001b[0;32mif\u001b[0m \u001b[0mhandle\u001b[0m \u001b[0;32mis\u001b[0m \u001b[0;32mNone\u001b[0m\u001b[0;34m:\u001b[0m\u001b[0;34m\u001b[0m\u001b[0m\n\u001b[1;32m   1316\u001b[0m       return self._do_call(_run_fn, self._session, feeds, fetches, targets,\n\u001b[0;32m-> 1317\u001b[0;31m                            options, run_metadata)\n\u001b[0m\u001b[1;32m   1318\u001b[0m     \u001b[0;32melse\u001b[0m\u001b[0;34m:\u001b[0m\u001b[0;34m\u001b[0m\u001b[0m\n\u001b[1;32m   1319\u001b[0m       \u001b[0;32mreturn\u001b[0m \u001b[0mself\u001b[0m\u001b[0;34m.\u001b[0m\u001b[0m_do_call\u001b[0m\u001b[0;34m(\u001b[0m\u001b[0m_prun_fn\u001b[0m\u001b[0;34m,\u001b[0m \u001b[0mself\u001b[0m\u001b[0;34m.\u001b[0m\u001b[0m_session\u001b[0m\u001b[0;34m,\u001b[0m \u001b[0mhandle\u001b[0m\u001b[0;34m,\u001b[0m \u001b[0mfeeds\u001b[0m\u001b[0;34m,\u001b[0m \u001b[0mfetches\u001b[0m\u001b[0;34m)\u001b[0m\u001b[0;34m\u001b[0m\u001b[0m\n",
      "\u001b[0;32m~/anaconda3/lib/python3.6/site-packages/tensorflow/python/client/session.py\u001b[0m in \u001b[0;36m_do_call\u001b[0;34m(self, fn, *args)\u001b[0m\n\u001b[1;32m   1334\u001b[0m         \u001b[0;32mexcept\u001b[0m \u001b[0mKeyError\u001b[0m\u001b[0;34m:\u001b[0m\u001b[0;34m\u001b[0m\u001b[0m\n\u001b[1;32m   1335\u001b[0m           \u001b[0;32mpass\u001b[0m\u001b[0;34m\u001b[0m\u001b[0m\n\u001b[0;32m-> 1336\u001b[0;31m       \u001b[0;32mraise\u001b[0m \u001b[0mtype\u001b[0m\u001b[0;34m(\u001b[0m\u001b[0me\u001b[0m\u001b[0;34m)\u001b[0m\u001b[0;34m(\u001b[0m\u001b[0mnode_def\u001b[0m\u001b[0;34m,\u001b[0m \u001b[0mop\u001b[0m\u001b[0;34m,\u001b[0m \u001b[0mmessage\u001b[0m\u001b[0;34m)\u001b[0m\u001b[0;34m\u001b[0m\u001b[0m\n\u001b[0m\u001b[1;32m   1337\u001b[0m \u001b[0;34m\u001b[0m\u001b[0m\n\u001b[1;32m   1338\u001b[0m   \u001b[0;32mdef\u001b[0m \u001b[0m_extend_graph\u001b[0m\u001b[0;34m(\u001b[0m\u001b[0mself\u001b[0m\u001b[0;34m)\u001b[0m\u001b[0;34m:\u001b[0m\u001b[0;34m\u001b[0m\u001b[0m\n",
      "\u001b[0;31mFailedPreconditionError\u001b[0m: Attempting to use uninitialized value cell_3/comb_iter_0/left/separable_5x5_1/depthwise_weights\n\t [[Node: cell_3/comb_iter_0/left/separable_5x5_1/depthwise_weights/read = Identity[T=DT_FLOAT, _class=[\"loc:@cell_3/comb_iter_0/left/separable_5x5_1/depthwise_weights\"], _device=\"/job:localhost/replica:0/task:0/device:GPU:0\"](cell_3/comb_iter_0/left/separable_5x5_1/depthwise_weights)]]\n\t [[Node: cell_3/cell_output/concat/_7 = _Recv[client_terminated=false, recv_device=\"/job:localhost/replica:0/task:0/device:CPU:0\", send_device=\"/job:localhost/replica:0/task:0/device:GPU:0\", send_device_incarnation=1, tensor_name=\"edge_1686_cell_3/cell_output/concat\", tensor_type=DT_FLOAT, _device=\"/job:localhost/replica:0/task:0/device:CPU:0\"]()]]\n\nCaused by op 'cell_3/comb_iter_0/left/separable_5x5_1/depthwise_weights/read', defined at:\n  File \"/afs/csail.mit.edu/u/n/nhunt/anaconda3/lib/python3.6/runpy.py\", line 193, in _run_module_as_main\n    \"__main__\", mod_spec)\n  File \"/afs/csail.mit.edu/u/n/nhunt/anaconda3/lib/python3.6/runpy.py\", line 85, in _run_code\n    exec(code, run_globals)\n  File \"/afs/csail.mit.edu/u/n/nhunt/anaconda3/lib/python3.6/site-packages/ipykernel_launcher.py\", line 16, in <module>\n    app.launch_new_instance()\n  File \"/afs/csail.mit.edu/u/n/nhunt/anaconda3/lib/python3.6/site-packages/traitlets/config/application.py\", line 658, in launch_instance\n    app.start()\n  File \"/afs/csail.mit.edu/u/n/nhunt/anaconda3/lib/python3.6/site-packages/ipykernel/kernelapp.py\", line 477, in start\n    ioloop.IOLoop.instance().start()\n  File \"/afs/csail.mit.edu/u/n/nhunt/anaconda3/lib/python3.6/site-packages/zmq/eventloop/ioloop.py\", line 177, in start\n    super(ZMQIOLoop, self).start()\n  File \"/afs/csail.mit.edu/u/n/nhunt/anaconda3/lib/python3.6/site-packages/tornado/ioloop.py\", line 888, in start\n    handler_func(fd_obj, events)\n  File \"/afs/csail.mit.edu/u/n/nhunt/anaconda3/lib/python3.6/site-packages/tornado/stack_context.py\", line 277, in null_wrapper\n    return fn(*args, **kwargs)\n  File \"/afs/csail.mit.edu/u/n/nhunt/anaconda3/lib/python3.6/site-packages/zmq/eventloop/zmqstream.py\", line 440, in _handle_events\n    self._handle_recv()\n  File \"/afs/csail.mit.edu/u/n/nhunt/anaconda3/lib/python3.6/site-packages/zmq/eventloop/zmqstream.py\", line 472, in _handle_recv\n    self._run_callback(callback, msg)\n  File \"/afs/csail.mit.edu/u/n/nhunt/anaconda3/lib/python3.6/site-packages/zmq/eventloop/zmqstream.py\", line 414, in _run_callback\n    callback(*args, **kwargs)\n  File \"/afs/csail.mit.edu/u/n/nhunt/anaconda3/lib/python3.6/site-packages/tornado/stack_context.py\", line 277, in null_wrapper\n    return fn(*args, **kwargs)\n  File \"/afs/csail.mit.edu/u/n/nhunt/anaconda3/lib/python3.6/site-packages/ipykernel/kernelbase.py\", line 283, in dispatcher\n    return self.dispatch_shell(stream, msg)\n  File \"/afs/csail.mit.edu/u/n/nhunt/anaconda3/lib/python3.6/site-packages/ipykernel/kernelbase.py\", line 235, in dispatch_shell\n    handler(stream, idents, msg)\n  File \"/afs/csail.mit.edu/u/n/nhunt/anaconda3/lib/python3.6/site-packages/ipykernel/kernelbase.py\", line 399, in execute_request\n    user_expressions, allow_stdin)\n  File \"/afs/csail.mit.edu/u/n/nhunt/anaconda3/lib/python3.6/site-packages/ipykernel/ipkernel.py\", line 196, in do_execute\n    res = shell.run_cell(code, store_history=store_history, silent=silent)\n  File \"/afs/csail.mit.edu/u/n/nhunt/anaconda3/lib/python3.6/site-packages/ipykernel/zmqshell.py\", line 533, in run_cell\n    return super(ZMQInteractiveShell, self).run_cell(*args, **kwargs)\n  File \"/afs/csail.mit.edu/u/n/nhunt/anaconda3/lib/python3.6/site-packages/IPython/core/interactiveshell.py\", line 2698, in run_cell\n    interactivity=interactivity, compiler=compiler, result=result)\n  File \"/afs/csail.mit.edu/u/n/nhunt/anaconda3/lib/python3.6/site-packages/IPython/core/interactiveshell.py\", line 2802, in run_ast_nodes\n    if self.run_code(code, result):\n  File \"/afs/csail.mit.edu/u/n/nhunt/anaconda3/lib/python3.6/site-packages/IPython/core/interactiveshell.py\", line 2862, in run_code\n    exec(code_obj, self.user_global_ns, self.user_ns)\n  File \"<ipython-input-10-12e27da17793>\", line 12, in <module>\n    logits, endpoints = nasnet.build_nasnet_mobile(processed_img, num_classes=1, is_training=False)\n  File \"/afs/csail.mit.edu/u/n/nhunt/github/models/research/slim/nets/nasnet/nasnet.py\", line 370, in build_nasnet_mobile\n    final_endpoint=final_endpoint)\n  File \"/afs/csail.mit.edu/u/n/nhunt/github/models/research/slim/nets/nasnet/nasnet.py\", line 486, in _build_nasnet_base\n    cell_num=true_cell_num)\n  File \"/afs/csail.mit.edu/u/n/nhunt/github/models/research/slim/nets/nasnet/nasnet_utils.py\", line 326, in __call__\n    stride, original_input_left)\n  File \"/afs/csail.mit.edu/u/n/nhunt/github/models/research/slim/nets/nasnet/nasnet_utils.py\", line 352, in _apply_conv_operation\n    net = _stacked_separable_conv(net, stride, operation, filter_size)\n  File \"/afs/csail.mit.edu/u/n/nhunt/github/models/research/slim/nets/nasnet/nasnet_utils.py\", line 183, in _stacked_separable_conv\n    stride=stride)\n  File \"/afs/csail.mit.edu/u/n/nhunt/anaconda3/lib/python3.6/site-packages/tensorflow/contrib/framework/python/ops/arg_scope.py\", line 181, in func_with_args\n    return func(*args, **current_args)\n  File \"/afs/csail.mit.edu/u/n/nhunt/anaconda3/lib/python3.6/site-packages/tensorflow/contrib/layers/python/layers/layers.py\", line 2502, in separable_convolution2d\n    outputs = layer.apply(inputs)\n  File \"/afs/csail.mit.edu/u/n/nhunt/anaconda3/lib/python3.6/site-packages/tensorflow/python/layers/base.py\", line 671, in apply\n    return self.__call__(inputs, *args, **kwargs)\n  File \"/afs/csail.mit.edu/u/n/nhunt/anaconda3/lib/python3.6/site-packages/tensorflow/python/layers/base.py\", line 559, in __call__\n    self.build(input_shapes[0])\n  File \"/afs/csail.mit.edu/u/n/nhunt/anaconda3/lib/python3.6/site-packages/tensorflow/python/layers/convolutional.py\", line 950, in build\n    dtype=self.dtype)\n  File \"/afs/csail.mit.edu/u/n/nhunt/anaconda3/lib/python3.6/site-packages/tensorflow/python/layers/base.py\", line 458, in add_variable\n    trainable=trainable and self.trainable)\n  File \"/afs/csail.mit.edu/u/n/nhunt/anaconda3/lib/python3.6/site-packages/tensorflow/python/ops/variable_scope.py\", line 1203, in get_variable\n    constraint=constraint)\n  File \"/afs/csail.mit.edu/u/n/nhunt/anaconda3/lib/python3.6/site-packages/tensorflow/python/ops/variable_scope.py\", line 1092, in get_variable\n    constraint=constraint)\n  File \"/afs/csail.mit.edu/u/n/nhunt/anaconda3/lib/python3.6/site-packages/tensorflow/python/ops/variable_scope.py\", line 417, in get_variable\n    return custom_getter(**custom_getter_kwargs)\n  File \"/afs/csail.mit.edu/u/n/nhunt/anaconda3/lib/python3.6/site-packages/tensorflow/contrib/layers/python/layers/layers.py\", line 1539, in layer_variable_getter\n    return _model_variable_getter(getter, *args, **kwargs)\n  File \"/afs/csail.mit.edu/u/n/nhunt/anaconda3/lib/python3.6/site-packages/tensorflow/contrib/layers/python/layers/layers.py\", line 1531, in _model_variable_getter\n    custom_getter=getter, use_resource=use_resource)\n  File \"/afs/csail.mit.edu/u/n/nhunt/anaconda3/lib/python3.6/site-packages/tensorflow/contrib/framework/python/ops/arg_scope.py\", line 181, in func_with_args\n    return func(*args, **current_args)\n  File \"/afs/csail.mit.edu/u/n/nhunt/anaconda3/lib/python3.6/site-packages/tensorflow/contrib/framework/python/ops/variables.py\", line 262, in model_variable\n    use_resource=use_resource)\n  File \"/afs/csail.mit.edu/u/n/nhunt/anaconda3/lib/python3.6/site-packages/tensorflow/contrib/framework/python/ops/arg_scope.py\", line 181, in func_with_args\n    return func(*args, **current_args)\n  File \"/afs/csail.mit.edu/u/n/nhunt/anaconda3/lib/python3.6/site-packages/tensorflow/contrib/framework/python/ops/variables.py\", line 217, in variable\n    use_resource=use_resource)\n  File \"/afs/csail.mit.edu/u/n/nhunt/anaconda3/lib/python3.6/site-packages/tensorflow/python/ops/variable_scope.py\", line 394, in _true_getter\n    use_resource=use_resource, constraint=constraint)\n  File \"/afs/csail.mit.edu/u/n/nhunt/anaconda3/lib/python3.6/site-packages/tensorflow/python/ops/variable_scope.py\", line 805, in _get_single_variable\n    constraint=constraint)\n  File \"/afs/csail.mit.edu/u/n/nhunt/anaconda3/lib/python3.6/site-packages/tensorflow/python/ops/variables.py\", line 213, in __init__\n    constraint=constraint)\n  File \"/afs/csail.mit.edu/u/n/nhunt/anaconda3/lib/python3.6/site-packages/tensorflow/python/ops/variables.py\", line 356, in _init_from_args\n    self._snapshot = array_ops.identity(self._variable, name=\"read\")\n  File \"/afs/csail.mit.edu/u/n/nhunt/anaconda3/lib/python3.6/site-packages/tensorflow/python/ops/array_ops.py\", line 125, in identity\n    return gen_array_ops.identity(input, name=name)\n  File \"/afs/csail.mit.edu/u/n/nhunt/anaconda3/lib/python3.6/site-packages/tensorflow/python/ops/gen_array_ops.py\", line 2071, in identity\n    \"Identity\", input=input, name=name)\n  File \"/afs/csail.mit.edu/u/n/nhunt/anaconda3/lib/python3.6/site-packages/tensorflow/python/framework/op_def_library.py\", line 787, in _apply_op_helper\n    op_def=op_def)\n  File \"/afs/csail.mit.edu/u/n/nhunt/anaconda3/lib/python3.6/site-packages/tensorflow/python/framework/ops.py\", line 2956, in create_op\n    op_def=op_def)\n  File \"/afs/csail.mit.edu/u/n/nhunt/anaconda3/lib/python3.6/site-packages/tensorflow/python/framework/ops.py\", line 1470, in __init__\n    self._traceback = self._graph._extract_stack()  # pylint: disable=protected-access\n\nFailedPreconditionError (see above for traceback): Attempting to use uninitialized value cell_3/comb_iter_0/left/separable_5x5_1/depthwise_weights\n\t [[Node: cell_3/comb_iter_0/left/separable_5x5_1/depthwise_weights/read = Identity[T=DT_FLOAT, _class=[\"loc:@cell_3/comb_iter_0/left/separable_5x5_1/depthwise_weights\"], _device=\"/job:localhost/replica:0/task:0/device:GPU:0\"](cell_3/comb_iter_0/left/separable_5x5_1/depthwise_weights)]]\n\t [[Node: cell_3/cell_output/concat/_7 = _Recv[client_terminated=false, recv_device=\"/job:localhost/replica:0/task:0/device:CPU:0\", send_device=\"/job:localhost/replica:0/task:0/device:GPU:0\", send_device_incarnation=1, tensor_name=\"edge_1686_cell_3/cell_output/concat\", tensor_type=DT_FLOAT, _device=\"/job:localhost/replica:0/task:0/device:CPU:0\"]()]]\n"
     ]
    }
   ],
   "source": [
    "ret = sess.run(endpoints['Cell_3'], {img_p: batch_imgs})"
   ]
  },
  {
   "cell_type": "code",
   "execution_count": 105,
   "metadata": {
    "ExecuteTime": {
     "end_time": "2017-12-05T05:46:55.690138Z",
     "start_time": "2017-12-05T05:46:55.419653Z"
    },
    "collapsed": true,
    "hidden": true
   },
   "outputs": [],
   "source": [
    "sess = tf.Session(config=config)\n",
    "saver = tf.train.Saver()"
   ]
  },
  {
   "cell_type": "code",
   "execution_count": 106,
   "metadata": {
    "ExecuteTime": {
     "end_time": "2017-12-05T05:47:18.680240Z",
     "start_time": "2017-12-05T05:47:18.276251Z"
    },
    "hidden": true
   },
   "outputs": [
    {
     "ename": "NotFoundError",
     "evalue": "Tensor name \"is_training\" not found in checkpoint files pretrained/nasnet_small/model.ckpt.index\n\t [[Node: save/RestoreV2 = RestoreV2[dtypes=[DT_BOOL], _device=\"/job:localhost/replica:0/task:0/device:CPU:0\"](_arg_save/Const_0_0, save/RestoreV2/tensor_names, save/RestoreV2/shape_and_slices)]]\n\t [[Node: save/Assign/_2 = _Recv[client_terminated=false, recv_device=\"/job:localhost/replica:0/task:0/device:GPU:0\", send_device=\"/job:localhost/replica:0/task:0/device:CPU:0\", send_device_incarnation=1, tensor_name=\"edge_7_save/Assign\", tensor_type=DT_FLOAT, _device=\"/job:localhost/replica:0/task:0/device:GPU:0\"]()]]\n\nCaused by op 'save/RestoreV2', defined at:\n  File \"/afs/csail.mit.edu/u/n/nhunt/anaconda3/lib/python3.6/runpy.py\", line 193, in _run_module_as_main\n    \"__main__\", mod_spec)\n  File \"/afs/csail.mit.edu/u/n/nhunt/anaconda3/lib/python3.6/runpy.py\", line 85, in _run_code\n    exec(code, run_globals)\n  File \"/afs/csail.mit.edu/u/n/nhunt/anaconda3/lib/python3.6/site-packages/ipykernel_launcher.py\", line 16, in <module>\n    app.launch_new_instance()\n  File \"/afs/csail.mit.edu/u/n/nhunt/anaconda3/lib/python3.6/site-packages/traitlets/config/application.py\", line 658, in launch_instance\n    app.start()\n  File \"/afs/csail.mit.edu/u/n/nhunt/anaconda3/lib/python3.6/site-packages/ipykernel/kernelapp.py\", line 477, in start\n    ioloop.IOLoop.instance().start()\n  File \"/afs/csail.mit.edu/u/n/nhunt/anaconda3/lib/python3.6/site-packages/zmq/eventloop/ioloop.py\", line 177, in start\n    super(ZMQIOLoop, self).start()\n  File \"/afs/csail.mit.edu/u/n/nhunt/anaconda3/lib/python3.6/site-packages/tornado/ioloop.py\", line 888, in start\n    handler_func(fd_obj, events)\n  File \"/afs/csail.mit.edu/u/n/nhunt/anaconda3/lib/python3.6/site-packages/tornado/stack_context.py\", line 277, in null_wrapper\n    return fn(*args, **kwargs)\n  File \"/afs/csail.mit.edu/u/n/nhunt/anaconda3/lib/python3.6/site-packages/zmq/eventloop/zmqstream.py\", line 440, in _handle_events\n    self._handle_recv()\n  File \"/afs/csail.mit.edu/u/n/nhunt/anaconda3/lib/python3.6/site-packages/zmq/eventloop/zmqstream.py\", line 472, in _handle_recv\n    self._run_callback(callback, msg)\n  File \"/afs/csail.mit.edu/u/n/nhunt/anaconda3/lib/python3.6/site-packages/zmq/eventloop/zmqstream.py\", line 414, in _run_callback\n    callback(*args, **kwargs)\n  File \"/afs/csail.mit.edu/u/n/nhunt/anaconda3/lib/python3.6/site-packages/tornado/stack_context.py\", line 277, in null_wrapper\n    return fn(*args, **kwargs)\n  File \"/afs/csail.mit.edu/u/n/nhunt/anaconda3/lib/python3.6/site-packages/ipykernel/kernelbase.py\", line 283, in dispatcher\n    return self.dispatch_shell(stream, msg)\n  File \"/afs/csail.mit.edu/u/n/nhunt/anaconda3/lib/python3.6/site-packages/ipykernel/kernelbase.py\", line 235, in dispatch_shell\n    handler(stream, idents, msg)\n  File \"/afs/csail.mit.edu/u/n/nhunt/anaconda3/lib/python3.6/site-packages/ipykernel/kernelbase.py\", line 399, in execute_request\n    user_expressions, allow_stdin)\n  File \"/afs/csail.mit.edu/u/n/nhunt/anaconda3/lib/python3.6/site-packages/ipykernel/ipkernel.py\", line 196, in do_execute\n    res = shell.run_cell(code, store_history=store_history, silent=silent)\n  File \"/afs/csail.mit.edu/u/n/nhunt/anaconda3/lib/python3.6/site-packages/ipykernel/zmqshell.py\", line 533, in run_cell\n    return super(ZMQInteractiveShell, self).run_cell(*args, **kwargs)\n  File \"/afs/csail.mit.edu/u/n/nhunt/anaconda3/lib/python3.6/site-packages/IPython/core/interactiveshell.py\", line 2698, in run_cell\n    interactivity=interactivity, compiler=compiler, result=result)\n  File \"/afs/csail.mit.edu/u/n/nhunt/anaconda3/lib/python3.6/site-packages/IPython/core/interactiveshell.py\", line 2802, in run_ast_nodes\n    if self.run_code(code, result):\n  File \"/afs/csail.mit.edu/u/n/nhunt/anaconda3/lib/python3.6/site-packages/IPython/core/interactiveshell.py\", line 2862, in run_code\n    exec(code_obj, self.user_global_ns, self.user_ns)\n  File \"<ipython-input-105-cd262bbf92eb>\", line 2, in <module>\n    saver = tf.train.Saver()\n  File \"/afs/csail.mit.edu/u/n/nhunt/anaconda3/lib/python3.6/site-packages/tensorflow/python/training/saver.py\", line 1218, in __init__\n    self.build()\n  File \"/afs/csail.mit.edu/u/n/nhunt/anaconda3/lib/python3.6/site-packages/tensorflow/python/training/saver.py\", line 1227, in build\n    self._build(self._filename, build_save=True, build_restore=True)\n  File \"/afs/csail.mit.edu/u/n/nhunt/anaconda3/lib/python3.6/site-packages/tensorflow/python/training/saver.py\", line 1263, in _build\n    build_save=build_save, build_restore=build_restore)\n  File \"/afs/csail.mit.edu/u/n/nhunt/anaconda3/lib/python3.6/site-packages/tensorflow/python/training/saver.py\", line 751, in _build_internal\n    restore_sequentially, reshape)\n  File \"/afs/csail.mit.edu/u/n/nhunt/anaconda3/lib/python3.6/site-packages/tensorflow/python/training/saver.py\", line 427, in _AddRestoreOps\n    tensors = self.restore_op(filename_tensor, saveable, preferred_shard)\n  File \"/afs/csail.mit.edu/u/n/nhunt/anaconda3/lib/python3.6/site-packages/tensorflow/python/training/saver.py\", line 267, in restore_op\n    [spec.tensor.dtype])[0])\n  File \"/afs/csail.mit.edu/u/n/nhunt/anaconda3/lib/python3.6/site-packages/tensorflow/python/ops/gen_io_ops.py\", line 1021, in restore_v2\n    shape_and_slices=shape_and_slices, dtypes=dtypes, name=name)\n  File \"/afs/csail.mit.edu/u/n/nhunt/anaconda3/lib/python3.6/site-packages/tensorflow/python/framework/op_def_library.py\", line 787, in _apply_op_helper\n    op_def=op_def)\n  File \"/afs/csail.mit.edu/u/n/nhunt/anaconda3/lib/python3.6/site-packages/tensorflow/python/framework/ops.py\", line 2956, in create_op\n    op_def=op_def)\n  File \"/afs/csail.mit.edu/u/n/nhunt/anaconda3/lib/python3.6/site-packages/tensorflow/python/framework/ops.py\", line 1470, in __init__\n    self._traceback = self._graph._extract_stack()  # pylint: disable=protected-access\n\nNotFoundError (see above for traceback): Tensor name \"is_training\" not found in checkpoint files pretrained/nasnet_small/model.ckpt.index\n\t [[Node: save/RestoreV2 = RestoreV2[dtypes=[DT_BOOL], _device=\"/job:localhost/replica:0/task:0/device:CPU:0\"](_arg_save/Const_0_0, save/RestoreV2/tensor_names, save/RestoreV2/shape_and_slices)]]\n\t [[Node: save/Assign/_2 = _Recv[client_terminated=false, recv_device=\"/job:localhost/replica:0/task:0/device:GPU:0\", send_device=\"/job:localhost/replica:0/task:0/device:CPU:0\", send_device_incarnation=1, tensor_name=\"edge_7_save/Assign\", tensor_type=DT_FLOAT, _device=\"/job:localhost/replica:0/task:0/device:GPU:0\"]()]]\n",
     "output_type": "error",
     "traceback": [
      "\u001b[0;31m---------------------------------------------------------------------------\u001b[0m",
      "\u001b[0;31mNotFoundError\u001b[0m                             Traceback (most recent call last)",
      "\u001b[0;32m~/anaconda3/lib/python3.6/site-packages/tensorflow/python/client/session.py\u001b[0m in \u001b[0;36m_do_call\u001b[0;34m(self, fn, *args)\u001b[0m\n\u001b[1;32m   1322\u001b[0m     \u001b[0;32mtry\u001b[0m\u001b[0;34m:\u001b[0m\u001b[0;34m\u001b[0m\u001b[0m\n\u001b[0;32m-> 1323\u001b[0;31m       \u001b[0;32mreturn\u001b[0m \u001b[0mfn\u001b[0m\u001b[0;34m(\u001b[0m\u001b[0;34m*\u001b[0m\u001b[0margs\u001b[0m\u001b[0;34m)\u001b[0m\u001b[0;34m\u001b[0m\u001b[0m\n\u001b[0m\u001b[1;32m   1324\u001b[0m     \u001b[0;32mexcept\u001b[0m \u001b[0merrors\u001b[0m\u001b[0;34m.\u001b[0m\u001b[0mOpError\u001b[0m \u001b[0;32mas\u001b[0m \u001b[0me\u001b[0m\u001b[0;34m:\u001b[0m\u001b[0;34m\u001b[0m\u001b[0m\n",
      "\u001b[0;32m~/anaconda3/lib/python3.6/site-packages/tensorflow/python/client/session.py\u001b[0m in \u001b[0;36m_run_fn\u001b[0;34m(session, feed_dict, fetch_list, target_list, options, run_metadata)\u001b[0m\n\u001b[1;32m   1301\u001b[0m                                    \u001b[0mfeed_dict\u001b[0m\u001b[0;34m,\u001b[0m \u001b[0mfetch_list\u001b[0m\u001b[0;34m,\u001b[0m \u001b[0mtarget_list\u001b[0m\u001b[0;34m,\u001b[0m\u001b[0;34m\u001b[0m\u001b[0m\n\u001b[0;32m-> 1302\u001b[0;31m                                    status, run_metadata)\n\u001b[0m\u001b[1;32m   1303\u001b[0m \u001b[0;34m\u001b[0m\u001b[0m\n",
      "\u001b[0;32m~/anaconda3/lib/python3.6/site-packages/tensorflow/python/framework/errors_impl.py\u001b[0m in \u001b[0;36m__exit__\u001b[0;34m(self, type_arg, value_arg, traceback_arg)\u001b[0m\n\u001b[1;32m    472\u001b[0m             \u001b[0mcompat\u001b[0m\u001b[0;34m.\u001b[0m\u001b[0mas_text\u001b[0m\u001b[0;34m(\u001b[0m\u001b[0mc_api\u001b[0m\u001b[0;34m.\u001b[0m\u001b[0mTF_Message\u001b[0m\u001b[0;34m(\u001b[0m\u001b[0mself\u001b[0m\u001b[0;34m.\u001b[0m\u001b[0mstatus\u001b[0m\u001b[0;34m.\u001b[0m\u001b[0mstatus\u001b[0m\u001b[0;34m)\u001b[0m\u001b[0;34m)\u001b[0m\u001b[0;34m,\u001b[0m\u001b[0;34m\u001b[0m\u001b[0m\n\u001b[0;32m--> 473\u001b[0;31m             c_api.TF_GetCode(self.status.status))\n\u001b[0m\u001b[1;32m    474\u001b[0m     \u001b[0;31m# Delete the underlying status object from memory otherwise it stays alive\u001b[0m\u001b[0;34m\u001b[0m\u001b[0;34m\u001b[0m\u001b[0m\n",
      "\u001b[0;31mNotFoundError\u001b[0m: Tensor name \"is_training\" not found in checkpoint files pretrained/nasnet_small/model.ckpt.index\n\t [[Node: save/RestoreV2 = RestoreV2[dtypes=[DT_BOOL], _device=\"/job:localhost/replica:0/task:0/device:CPU:0\"](_arg_save/Const_0_0, save/RestoreV2/tensor_names, save/RestoreV2/shape_and_slices)]]\n\t [[Node: save/Assign/_2 = _Recv[client_terminated=false, recv_device=\"/job:localhost/replica:0/task:0/device:GPU:0\", send_device=\"/job:localhost/replica:0/task:0/device:CPU:0\", send_device_incarnation=1, tensor_name=\"edge_7_save/Assign\", tensor_type=DT_FLOAT, _device=\"/job:localhost/replica:0/task:0/device:GPU:0\"]()]]",
      "\nDuring handling of the above exception, another exception occurred:\n",
      "\u001b[0;31mNotFoundError\u001b[0m                             Traceback (most recent call last)",
      "\u001b[0;32m<ipython-input-106-2c93df226ddb>\u001b[0m in \u001b[0;36m<module>\u001b[0;34m()\u001b[0m\n\u001b[0;32m----> 1\u001b[0;31m \u001b[0msaver\u001b[0m\u001b[0;34m.\u001b[0m\u001b[0mrestore\u001b[0m\u001b[0;34m(\u001b[0m\u001b[0msess\u001b[0m\u001b[0;34m,\u001b[0m \u001b[0;34m'pretrained/nasnet_small/model.ckpt.index'\u001b[0m\u001b[0;34m)\u001b[0m\u001b[0;34m\u001b[0m\u001b[0m\n\u001b[0m",
      "\u001b[0;32m~/anaconda3/lib/python3.6/site-packages/tensorflow/python/training/saver.py\u001b[0m in \u001b[0;36mrestore\u001b[0;34m(self, sess, save_path)\u001b[0m\n\u001b[1;32m   1664\u001b[0m     \u001b[0;32mif\u001b[0m \u001b[0mcontext\u001b[0m\u001b[0;34m.\u001b[0m\u001b[0min_graph_mode\u001b[0m\u001b[0;34m(\u001b[0m\u001b[0;34m)\u001b[0m\u001b[0;34m:\u001b[0m\u001b[0;34m\u001b[0m\u001b[0m\n\u001b[1;32m   1665\u001b[0m       sess.run(self.saver_def.restore_op_name,\n\u001b[0;32m-> 1666\u001b[0;31m                {self.saver_def.filename_tensor_name: save_path})\n\u001b[0m\u001b[1;32m   1667\u001b[0m     \u001b[0;32melse\u001b[0m\u001b[0;34m:\u001b[0m\u001b[0;34m\u001b[0m\u001b[0m\n\u001b[1;32m   1668\u001b[0m       \u001b[0mself\u001b[0m\u001b[0;34m.\u001b[0m\u001b[0m_build_eager\u001b[0m\u001b[0;34m(\u001b[0m\u001b[0msave_path\u001b[0m\u001b[0;34m,\u001b[0m \u001b[0mbuild_save\u001b[0m\u001b[0;34m=\u001b[0m\u001b[0;32mFalse\u001b[0m\u001b[0;34m,\u001b[0m \u001b[0mbuild_restore\u001b[0m\u001b[0;34m=\u001b[0m\u001b[0;32mTrue\u001b[0m\u001b[0;34m)\u001b[0m\u001b[0;34m\u001b[0m\u001b[0m\n",
      "\u001b[0;32m~/anaconda3/lib/python3.6/site-packages/tensorflow/python/client/session.py\u001b[0m in \u001b[0;36mrun\u001b[0;34m(self, fetches, feed_dict, options, run_metadata)\u001b[0m\n\u001b[1;32m    887\u001b[0m     \u001b[0;32mtry\u001b[0m\u001b[0;34m:\u001b[0m\u001b[0;34m\u001b[0m\u001b[0m\n\u001b[1;32m    888\u001b[0m       result = self._run(None, fetches, feed_dict, options_ptr,\n\u001b[0;32m--> 889\u001b[0;31m                          run_metadata_ptr)\n\u001b[0m\u001b[1;32m    890\u001b[0m       \u001b[0;32mif\u001b[0m \u001b[0mrun_metadata\u001b[0m\u001b[0;34m:\u001b[0m\u001b[0;34m\u001b[0m\u001b[0m\n\u001b[1;32m    891\u001b[0m         \u001b[0mproto_data\u001b[0m \u001b[0;34m=\u001b[0m \u001b[0mtf_session\u001b[0m\u001b[0;34m.\u001b[0m\u001b[0mTF_GetBuffer\u001b[0m\u001b[0;34m(\u001b[0m\u001b[0mrun_metadata_ptr\u001b[0m\u001b[0;34m)\u001b[0m\u001b[0;34m\u001b[0m\u001b[0m\n",
      "\u001b[0;32m~/anaconda3/lib/python3.6/site-packages/tensorflow/python/client/session.py\u001b[0m in \u001b[0;36m_run\u001b[0;34m(self, handle, fetches, feed_dict, options, run_metadata)\u001b[0m\n\u001b[1;32m   1118\u001b[0m     \u001b[0;32mif\u001b[0m \u001b[0mfinal_fetches\u001b[0m \u001b[0;32mor\u001b[0m \u001b[0mfinal_targets\u001b[0m \u001b[0;32mor\u001b[0m \u001b[0;34m(\u001b[0m\u001b[0mhandle\u001b[0m \u001b[0;32mand\u001b[0m \u001b[0mfeed_dict_tensor\u001b[0m\u001b[0;34m)\u001b[0m\u001b[0;34m:\u001b[0m\u001b[0;34m\u001b[0m\u001b[0m\n\u001b[1;32m   1119\u001b[0m       results = self._do_run(handle, final_targets, final_fetches,\n\u001b[0;32m-> 1120\u001b[0;31m                              feed_dict_tensor, options, run_metadata)\n\u001b[0m\u001b[1;32m   1121\u001b[0m     \u001b[0;32melse\u001b[0m\u001b[0;34m:\u001b[0m\u001b[0;34m\u001b[0m\u001b[0m\n\u001b[1;32m   1122\u001b[0m       \u001b[0mresults\u001b[0m \u001b[0;34m=\u001b[0m \u001b[0;34m[\u001b[0m\u001b[0;34m]\u001b[0m\u001b[0;34m\u001b[0m\u001b[0m\n",
      "\u001b[0;32m~/anaconda3/lib/python3.6/site-packages/tensorflow/python/client/session.py\u001b[0m in \u001b[0;36m_do_run\u001b[0;34m(self, handle, target_list, fetch_list, feed_dict, options, run_metadata)\u001b[0m\n\u001b[1;32m   1315\u001b[0m     \u001b[0;32mif\u001b[0m \u001b[0mhandle\u001b[0m \u001b[0;32mis\u001b[0m \u001b[0;32mNone\u001b[0m\u001b[0;34m:\u001b[0m\u001b[0;34m\u001b[0m\u001b[0m\n\u001b[1;32m   1316\u001b[0m       return self._do_call(_run_fn, self._session, feeds, fetches, targets,\n\u001b[0;32m-> 1317\u001b[0;31m                            options, run_metadata)\n\u001b[0m\u001b[1;32m   1318\u001b[0m     \u001b[0;32melse\u001b[0m\u001b[0;34m:\u001b[0m\u001b[0;34m\u001b[0m\u001b[0m\n\u001b[1;32m   1319\u001b[0m       \u001b[0;32mreturn\u001b[0m \u001b[0mself\u001b[0m\u001b[0;34m.\u001b[0m\u001b[0m_do_call\u001b[0m\u001b[0;34m(\u001b[0m\u001b[0m_prun_fn\u001b[0m\u001b[0;34m,\u001b[0m \u001b[0mself\u001b[0m\u001b[0;34m.\u001b[0m\u001b[0m_session\u001b[0m\u001b[0;34m,\u001b[0m \u001b[0mhandle\u001b[0m\u001b[0;34m,\u001b[0m \u001b[0mfeeds\u001b[0m\u001b[0;34m,\u001b[0m \u001b[0mfetches\u001b[0m\u001b[0;34m)\u001b[0m\u001b[0;34m\u001b[0m\u001b[0m\n",
      "\u001b[0;32m~/anaconda3/lib/python3.6/site-packages/tensorflow/python/client/session.py\u001b[0m in \u001b[0;36m_do_call\u001b[0;34m(self, fn, *args)\u001b[0m\n\u001b[1;32m   1334\u001b[0m         \u001b[0;32mexcept\u001b[0m \u001b[0mKeyError\u001b[0m\u001b[0;34m:\u001b[0m\u001b[0;34m\u001b[0m\u001b[0m\n\u001b[1;32m   1335\u001b[0m           \u001b[0;32mpass\u001b[0m\u001b[0;34m\u001b[0m\u001b[0m\n\u001b[0;32m-> 1336\u001b[0;31m       \u001b[0;32mraise\u001b[0m \u001b[0mtype\u001b[0m\u001b[0;34m(\u001b[0m\u001b[0me\u001b[0m\u001b[0;34m)\u001b[0m\u001b[0;34m(\u001b[0m\u001b[0mnode_def\u001b[0m\u001b[0;34m,\u001b[0m \u001b[0mop\u001b[0m\u001b[0;34m,\u001b[0m \u001b[0mmessage\u001b[0m\u001b[0;34m)\u001b[0m\u001b[0;34m\u001b[0m\u001b[0m\n\u001b[0m\u001b[1;32m   1337\u001b[0m \u001b[0;34m\u001b[0m\u001b[0m\n\u001b[1;32m   1338\u001b[0m   \u001b[0;32mdef\u001b[0m \u001b[0m_extend_graph\u001b[0m\u001b[0;34m(\u001b[0m\u001b[0mself\u001b[0m\u001b[0;34m)\u001b[0m\u001b[0;34m:\u001b[0m\u001b[0;34m\u001b[0m\u001b[0m\n",
      "\u001b[0;31mNotFoundError\u001b[0m: Tensor name \"is_training\" not found in checkpoint files pretrained/nasnet_small/model.ckpt.index\n\t [[Node: save/RestoreV2 = RestoreV2[dtypes=[DT_BOOL], _device=\"/job:localhost/replica:0/task:0/device:CPU:0\"](_arg_save/Const_0_0, save/RestoreV2/tensor_names, save/RestoreV2/shape_and_slices)]]\n\t [[Node: save/Assign/_2 = _Recv[client_terminated=false, recv_device=\"/job:localhost/replica:0/task:0/device:GPU:0\", send_device=\"/job:localhost/replica:0/task:0/device:CPU:0\", send_device_incarnation=1, tensor_name=\"edge_7_save/Assign\", tensor_type=DT_FLOAT, _device=\"/job:localhost/replica:0/task:0/device:GPU:0\"]()]]\n\nCaused by op 'save/RestoreV2', defined at:\n  File \"/afs/csail.mit.edu/u/n/nhunt/anaconda3/lib/python3.6/runpy.py\", line 193, in _run_module_as_main\n    \"__main__\", mod_spec)\n  File \"/afs/csail.mit.edu/u/n/nhunt/anaconda3/lib/python3.6/runpy.py\", line 85, in _run_code\n    exec(code, run_globals)\n  File \"/afs/csail.mit.edu/u/n/nhunt/anaconda3/lib/python3.6/site-packages/ipykernel_launcher.py\", line 16, in <module>\n    app.launch_new_instance()\n  File \"/afs/csail.mit.edu/u/n/nhunt/anaconda3/lib/python3.6/site-packages/traitlets/config/application.py\", line 658, in launch_instance\n    app.start()\n  File \"/afs/csail.mit.edu/u/n/nhunt/anaconda3/lib/python3.6/site-packages/ipykernel/kernelapp.py\", line 477, in start\n    ioloop.IOLoop.instance().start()\n  File \"/afs/csail.mit.edu/u/n/nhunt/anaconda3/lib/python3.6/site-packages/zmq/eventloop/ioloop.py\", line 177, in start\n    super(ZMQIOLoop, self).start()\n  File \"/afs/csail.mit.edu/u/n/nhunt/anaconda3/lib/python3.6/site-packages/tornado/ioloop.py\", line 888, in start\n    handler_func(fd_obj, events)\n  File \"/afs/csail.mit.edu/u/n/nhunt/anaconda3/lib/python3.6/site-packages/tornado/stack_context.py\", line 277, in null_wrapper\n    return fn(*args, **kwargs)\n  File \"/afs/csail.mit.edu/u/n/nhunt/anaconda3/lib/python3.6/site-packages/zmq/eventloop/zmqstream.py\", line 440, in _handle_events\n    self._handle_recv()\n  File \"/afs/csail.mit.edu/u/n/nhunt/anaconda3/lib/python3.6/site-packages/zmq/eventloop/zmqstream.py\", line 472, in _handle_recv\n    self._run_callback(callback, msg)\n  File \"/afs/csail.mit.edu/u/n/nhunt/anaconda3/lib/python3.6/site-packages/zmq/eventloop/zmqstream.py\", line 414, in _run_callback\n    callback(*args, **kwargs)\n  File \"/afs/csail.mit.edu/u/n/nhunt/anaconda3/lib/python3.6/site-packages/tornado/stack_context.py\", line 277, in null_wrapper\n    return fn(*args, **kwargs)\n  File \"/afs/csail.mit.edu/u/n/nhunt/anaconda3/lib/python3.6/site-packages/ipykernel/kernelbase.py\", line 283, in dispatcher\n    return self.dispatch_shell(stream, msg)\n  File \"/afs/csail.mit.edu/u/n/nhunt/anaconda3/lib/python3.6/site-packages/ipykernel/kernelbase.py\", line 235, in dispatch_shell\n    handler(stream, idents, msg)\n  File \"/afs/csail.mit.edu/u/n/nhunt/anaconda3/lib/python3.6/site-packages/ipykernel/kernelbase.py\", line 399, in execute_request\n    user_expressions, allow_stdin)\n  File \"/afs/csail.mit.edu/u/n/nhunt/anaconda3/lib/python3.6/site-packages/ipykernel/ipkernel.py\", line 196, in do_execute\n    res = shell.run_cell(code, store_history=store_history, silent=silent)\n  File \"/afs/csail.mit.edu/u/n/nhunt/anaconda3/lib/python3.6/site-packages/ipykernel/zmqshell.py\", line 533, in run_cell\n    return super(ZMQInteractiveShell, self).run_cell(*args, **kwargs)\n  File \"/afs/csail.mit.edu/u/n/nhunt/anaconda3/lib/python3.6/site-packages/IPython/core/interactiveshell.py\", line 2698, in run_cell\n    interactivity=interactivity, compiler=compiler, result=result)\n  File \"/afs/csail.mit.edu/u/n/nhunt/anaconda3/lib/python3.6/site-packages/IPython/core/interactiveshell.py\", line 2802, in run_ast_nodes\n    if self.run_code(code, result):\n  File \"/afs/csail.mit.edu/u/n/nhunt/anaconda3/lib/python3.6/site-packages/IPython/core/interactiveshell.py\", line 2862, in run_code\n    exec(code_obj, self.user_global_ns, self.user_ns)\n  File \"<ipython-input-105-cd262bbf92eb>\", line 2, in <module>\n    saver = tf.train.Saver()\n  File \"/afs/csail.mit.edu/u/n/nhunt/anaconda3/lib/python3.6/site-packages/tensorflow/python/training/saver.py\", line 1218, in __init__\n    self.build()\n  File \"/afs/csail.mit.edu/u/n/nhunt/anaconda3/lib/python3.6/site-packages/tensorflow/python/training/saver.py\", line 1227, in build\n    self._build(self._filename, build_save=True, build_restore=True)\n  File \"/afs/csail.mit.edu/u/n/nhunt/anaconda3/lib/python3.6/site-packages/tensorflow/python/training/saver.py\", line 1263, in _build\n    build_save=build_save, build_restore=build_restore)\n  File \"/afs/csail.mit.edu/u/n/nhunt/anaconda3/lib/python3.6/site-packages/tensorflow/python/training/saver.py\", line 751, in _build_internal\n    restore_sequentially, reshape)\n  File \"/afs/csail.mit.edu/u/n/nhunt/anaconda3/lib/python3.6/site-packages/tensorflow/python/training/saver.py\", line 427, in _AddRestoreOps\n    tensors = self.restore_op(filename_tensor, saveable, preferred_shard)\n  File \"/afs/csail.mit.edu/u/n/nhunt/anaconda3/lib/python3.6/site-packages/tensorflow/python/training/saver.py\", line 267, in restore_op\n    [spec.tensor.dtype])[0])\n  File \"/afs/csail.mit.edu/u/n/nhunt/anaconda3/lib/python3.6/site-packages/tensorflow/python/ops/gen_io_ops.py\", line 1021, in restore_v2\n    shape_and_slices=shape_and_slices, dtypes=dtypes, name=name)\n  File \"/afs/csail.mit.edu/u/n/nhunt/anaconda3/lib/python3.6/site-packages/tensorflow/python/framework/op_def_library.py\", line 787, in _apply_op_helper\n    op_def=op_def)\n  File \"/afs/csail.mit.edu/u/n/nhunt/anaconda3/lib/python3.6/site-packages/tensorflow/python/framework/ops.py\", line 2956, in create_op\n    op_def=op_def)\n  File \"/afs/csail.mit.edu/u/n/nhunt/anaconda3/lib/python3.6/site-packages/tensorflow/python/framework/ops.py\", line 1470, in __init__\n    self._traceback = self._graph._extract_stack()  # pylint: disable=protected-access\n\nNotFoundError (see above for traceback): Tensor name \"is_training\" not found in checkpoint files pretrained/nasnet_small/model.ckpt.index\n\t [[Node: save/RestoreV2 = RestoreV2[dtypes=[DT_BOOL], _device=\"/job:localhost/replica:0/task:0/device:CPU:0\"](_arg_save/Const_0_0, save/RestoreV2/tensor_names, save/RestoreV2/shape_and_slices)]]\n\t [[Node: save/Assign/_2 = _Recv[client_terminated=false, recv_device=\"/job:localhost/replica:0/task:0/device:GPU:0\", send_device=\"/job:localhost/replica:0/task:0/device:CPU:0\", send_device_incarnation=1, tensor_name=\"edge_7_save/Assign\", tensor_type=DT_FLOAT, _device=\"/job:localhost/replica:0/task:0/device:GPU:0\"]()]]\n"
     ]
    }
   ],
   "source": [
    "saver.restore(sess, 'pretrained/nasnet_small/model.ckpt.index')"
   ]
  },
  {
   "cell_type": "code",
   "execution_count": null,
   "metadata": {
    "collapsed": true,
    "hidden": true
   },
   "outputs": [],
   "source": []
  },
  {
   "cell_type": "code",
   "execution_count": null,
   "metadata": {
    "collapsed": true,
    "hidden": true
   },
   "outputs": [],
   "source": []
  },
  {
   "cell_type": "markdown",
   "metadata": {
    "collapsed": true,
    "heading_collapsed": true
   },
   "source": [
    "# VQA TFRecords"
   ]
  },
  {
   "cell_type": "code",
   "execution_count": 24,
   "metadata": {
    "ExecuteTime": {
     "end_time": "2017-12-03T03:40:28.004977Z",
     "start_time": "2017-12-03T03:40:26.369897Z"
    },
    "hidden": true
   },
   "outputs": [
    {
     "data": {
      "text/html": [
       "<div>\n",
       "<style>\n",
       "    .dataframe thead tr:only-child th {\n",
       "        text-align: right;\n",
       "    }\n",
       "\n",
       "    .dataframe thead th {\n",
       "        text-align: left;\n",
       "    }\n",
       "\n",
       "    .dataframe tbody tr th {\n",
       "        vertical-align: top;\n",
       "    }\n",
       "</style>\n",
       "<table border=\"1\" class=\"dataframe\">\n",
       "  <thead>\n",
       "    <tr style=\"text-align: right;\">\n",
       "      <th></th>\n",
       "      <th>img_path</th>\n",
       "      <th>answer</th>\n",
       "      <th>choices</th>\n",
       "      <th>question</th>\n",
       "      <th>objects</th>\n",
       "      <th>scene_type</th>\n",
       "    </tr>\n",
       "  </thead>\n",
       "  <tbody>\n",
       "    <tr>\n",
       "      <th>0</th>\n",
       "      <td>data/train/images/abstract_v002_train2015_0000...</td>\n",
       "      <td>tan</td>\n",
       "      <td>[1, 3, brown, wildlife, not having tv, yellow,...</td>\n",
       "      <td>what color is the ladies pants</td>\n",
       "      <td>[[Doll02, 289, 242, 2, 1, -1], [sun, 594, 64, ...</td>\n",
       "      <td>Park-XinleiSubset</td>\n",
       "    </tr>\n",
       "    <tr>\n",
       "      <th>1</th>\n",
       "      <td>data/train/images/abstract_v002_train2015_0000...</td>\n",
       "      <td>monkey bars</td>\n",
       "      <td>[get warm, yes, playful, pug, red, fitness sys...</td>\n",
       "      <td>how is the equipments with bars called</td>\n",
       "      <td>[[Doll02, 289, 242, 2, 1, -1], [sun, 594, 64, ...</td>\n",
       "      <td>Park-XinleiSubset</td>\n",
       "    </tr>\n",
       "    <tr>\n",
       "      <th>2</th>\n",
       "      <td>data/train/images/abstract_v002_train2015_0000...</td>\n",
       "      <td>no</td>\n",
       "      <td>[1, csi, real, n, red, solid, blocks and car, ...</td>\n",
       "      <td>is the bench a toy</td>\n",
       "      <td>[[Doll02, 289, 242, 2, 1, -1], [sun, 594, 64, ...</td>\n",
       "      <td>Park-XinleiSubset</td>\n",
       "    </tr>\n",
       "    <tr>\n",
       "      <th>3</th>\n",
       "      <td>data/train/images/abstract_v002_train2015_0000...</td>\n",
       "      <td>yes</td>\n",
       "      <td>[1, 3, idk, no, 2, red, skinny, blue, yes, hin...</td>\n",
       "      <td>is the woman on the couch sporting white hair</td>\n",
       "      <td>[[Doll08, 585, 205, 2, 0, -1], [Rat, 196, 364,...</td>\n",
       "      <td>Living-XinleiSubset</td>\n",
       "    </tr>\n",
       "    <tr>\n",
       "      <th>4</th>\n",
       "      <td>data/train/images/abstract_v002_train2015_0000...</td>\n",
       "      <td>sitting</td>\n",
       "      <td>[4, yellow, no, 2, reading, holding table, bar...</td>\n",
       "      <td>what is the woman doing</td>\n",
       "      <td>[[Doll08, 585, 205, 2, 0, -1], [Rat, 196, 364,...</td>\n",
       "      <td>Living-XinleiSubset</td>\n",
       "    </tr>\n",
       "  </tbody>\n",
       "</table>\n",
       "</div>"
      ],
      "text/plain": [
       "                                            img_path       answer  \\\n",
       "0  data/train/images/abstract_v002_train2015_0000...          tan   \n",
       "1  data/train/images/abstract_v002_train2015_0000...  monkey bars   \n",
       "2  data/train/images/abstract_v002_train2015_0000...           no   \n",
       "3  data/train/images/abstract_v002_train2015_0000...          yes   \n",
       "4  data/train/images/abstract_v002_train2015_0000...      sitting   \n",
       "\n",
       "                                             choices  \\\n",
       "0  [1, 3, brown, wildlife, not having tv, yellow,...   \n",
       "1  [get warm, yes, playful, pug, red, fitness sys...   \n",
       "2  [1, csi, real, n, red, solid, blocks and car, ...   \n",
       "3  [1, 3, idk, no, 2, red, skinny, blue, yes, hin...   \n",
       "4  [4, yellow, no, 2, reading, holding table, bar...   \n",
       "\n",
       "                                        question  \\\n",
       "0                 what color is the ladies pants   \n",
       "1         how is the equipments with bars called   \n",
       "2                             is the bench a toy   \n",
       "3  is the woman on the couch sporting white hair   \n",
       "4                        what is the woman doing   \n",
       "\n",
       "                                             objects           scene_type  \n",
       "0  [[Doll02, 289, 242, 2, 1, -1], [sun, 594, 64, ...    Park-XinleiSubset  \n",
       "1  [[Doll02, 289, 242, 2, 1, -1], [sun, 594, 64, ...    Park-XinleiSubset  \n",
       "2  [[Doll02, 289, 242, 2, 1, -1], [sun, 594, 64, ...    Park-XinleiSubset  \n",
       "3  [[Doll08, 585, 205, 2, 0, -1], [Rat, 196, 364,...  Living-XinleiSubset  \n",
       "4  [[Doll08, 585, 205, 2, 0, -1], [Rat, 196, 364,...  Living-XinleiSubset  "
      ]
     },
     "execution_count": 24,
     "metadata": {},
     "output_type": "execute_result"
    }
   ],
   "source": [
    "train_qa = pd.read_hdf('data/train/qa.h5')\n",
    "train_qa.head()"
   ]
  },
  {
   "cell_type": "code",
   "execution_count": null,
   "metadata": {
    "collapsed": true,
    "hidden": true
   },
   "outputs": [],
   "source": []
  },
  {
   "cell_type": "code",
   "execution_count": null,
   "metadata": {
    "collapsed": true,
    "hidden": true
   },
   "outputs": [],
   "source": []
  },
  {
   "cell_type": "code",
   "execution_count": null,
   "metadata": {
    "collapsed": true,
    "hidden": true
   },
   "outputs": [],
   "source": []
  },
  {
   "cell_type": "code",
   "execution_count": null,
   "metadata": {
    "collapsed": true,
    "hidden": true
   },
   "outputs": [],
   "source": []
  },
  {
   "cell_type": "markdown",
   "metadata": {
    "heading_collapsed": true
   },
   "source": [
    "# Batch Norm w/ Dense Error"
   ]
  },
  {
   "cell_type": "code",
   "execution_count": 20,
   "metadata": {
    "ExecuteTime": {
     "end_time": "2017-11-30T23:43:12.090443Z",
     "start_time": "2017-11-30T23:43:12.083856Z"
    },
    "collapsed": true,
    "hidden": true
   },
   "outputs": [],
   "source": [
    "layers = [\n",
    "    [LSTMLayer(10, scope='lstm1'), LSTMLayer(10, scope='lstm2')],\n",
    "    DenseLayer(10)\n",
    "]\n",
    "\n",
    "layers = add_implied_layers(layers)\n",
    "\n",
    "n_features = 10\n",
    "n_timesteps = 3\n",
    "\n",
    "input_data = {\n",
    "    'in1': ((n_timesteps, n_features), 'float32'),\n",
    "    'in2': ((n_timesteps, n_features), 'float32'),\n",
    "}"
   ]
  },
  {
   "cell_type": "code",
   "execution_count": 21,
   "metadata": {
    "ExecuteTime": {
     "end_time": "2017-11-30T23:43:13.727836Z",
     "start_time": "2017-11-30T23:43:12.711299Z"
    },
    "collapsed": true,
    "hidden": true
   },
   "outputs": [],
   "source": [
    "model = CNN(input_data, layers, config=config, record=False, n_classes=2)"
   ]
  },
  {
   "cell_type": "code",
   "execution_count": 22,
   "metadata": {
    "ExecuteTime": {
     "end_time": "2017-11-30T23:43:21.578265Z",
     "start_time": "2017-11-30T23:43:21.575178Z"
    },
    "collapsed": true,
    "hidden": true
   },
   "outputs": [],
   "source": [
    "batch_size = 5\n",
    "ins = np.random.rand(batch_size, n_timesteps, n_features)\n",
    "labels = np.random.randint(2, size=batch_size)"
   ]
  },
  {
   "cell_type": "code",
   "execution_count": 23,
   "metadata": {
    "ExecuteTime": {
     "end_time": "2017-11-30T23:43:31.276558Z",
     "start_time": "2017-11-30T23:43:31.273706Z"
    },
    "collapsed": true,
    "hidden": true
   },
   "outputs": [],
   "source": [
    "fd = model._get_feed_dict({'in1': ins, 'in2': ins}, {'default': labels})\n",
    "fd['is_training:0'] = True"
   ]
  },
  {
   "cell_type": "code",
   "execution_count": 24,
   "metadata": {
    "ExecuteTime": {
     "end_time": "2017-11-30T23:43:33.019441Z",
     "start_time": "2017-11-30T23:43:32.975894Z"
    },
    "hidden": true
   },
   "outputs": [
    {
     "data": {
      "text/plain": [
       "0.53910047"
      ]
     },
     "execution_count": 24,
     "metadata": {},
     "output_type": "execute_result"
    }
   ],
   "source": [
    "model.sess.run(model.loss_op, fd)"
   ]
  },
  {
   "cell_type": "code",
   "execution_count": 25,
   "metadata": {
    "ExecuteTime": {
     "end_time": "2017-11-30T23:43:34.361776Z",
     "start_time": "2017-11-30T23:43:34.224859Z"
    },
    "collapsed": true,
    "hidden": true
   },
   "outputs": [],
   "source": [
    "model.sess.run(model.train_op, fd)"
   ]
  },
  {
   "cell_type": "code",
   "execution_count": 26,
   "metadata": {
    "ExecuteTime": {
     "end_time": "2017-11-30T23:43:35.802407Z",
     "start_time": "2017-11-30T23:43:35.647717Z"
    },
    "hidden": true
   },
   "outputs": [
    {
     "data": {
      "text/plain": [
       "[0.51347363, None]"
      ]
     },
     "execution_count": 26,
     "metadata": {},
     "output_type": "execute_result"
    }
   ],
   "source": [
    "model.sess.run([model.loss_op, model.train_op], fd)"
   ]
  },
  {
   "cell_type": "code",
   "execution_count": null,
   "metadata": {
    "collapsed": true,
    "hidden": true
   },
   "outputs": [],
   "source": []
  },
  {
   "cell_type": "code",
   "execution_count": null,
   "metadata": {
    "collapsed": true,
    "hidden": true
   },
   "outputs": [],
   "source": [
    "tf.reset_default_graph()\n",
    "\n",
    "inp1_length = 5\n",
    "inp2_length = 8\n",
    "inp2_n_features = 10\n",
    "\n",
    "vocab_size = 12\n",
    "embed_size = 20\n",
    "\n",
    "\n",
    "inp1 = tf.placeholder(tf.int32, (None, inp1_length))\n",
    "inp2 = tf.placeholder(tf.float32, (None, inp2_length, inp2_n_features))\n",
    "labels = tf.placeholder(tf.int32, (None,))\n",
    "\n",
    "embed = tf.nn.embedding_lookup(tf.get_variable('embedding', (vocab_size, embed_size)), inp1)\n",
    "\n",
    "with tf.variable_scope('lstm1'):\n",
    "    _, state1 = tf.nn.dynamic_rnn(tf.nn.rnn_cell.LSTMCell(25), embed, dtype=tf.float32)\n",
    "\n",
    "with tf.variable_scope('lstm2'):\n",
    "    _, state2 = tf.nn.dynamic_rnn(tf.nn.rnn_cell.LSTMCell(27), inp2, dtype=tf.float32)\n",
    "\n",
    "merged = tf.concat((state1.c, state2.c), axis=-1)\n",
    "dense = tf.layers.dense(merged, 30, activation=tf.nn.relu)\n",
    "\n",
    "logits = tf.layers.dense(dense, 2)\n",
    "\n",
    "loss_op = tf.losses.sparse_softmax_cross_entropy(labels, logits)\n",
    "train_op = tf.train.AdamOptimizer().minimize(loss_op)"
   ]
  },
  {
   "cell_type": "code",
   "execution_count": null,
   "metadata": {
    "collapsed": true,
    "hidden": true
   },
   "outputs": [],
   "source": [
    "sess = tf.Session()\n",
    "sess.run(tf.global_variables_initializer())\n",
    "\n",
    "batch_size = 5\n",
    "feed_dict = {\n",
    "    inp1: np.random.randint(vocab_size, size=(batch_size, inp1_length)),\n",
    "    inp2: np.random.rand(batch_size, inp2_length, inp2_n_features),\n",
    "    labels: np.random.randint(2, size=batch_size)\n",
    "}"
   ]
  },
  {
   "cell_type": "code",
   "execution_count": null,
   "metadata": {
    "collapsed": true,
    "hidden": true
   },
   "outputs": [],
   "source": [
    "sess.run(loss_op, feed_dict)"
   ]
  },
  {
   "cell_type": "code",
   "execution_count": null,
   "metadata": {
    "collapsed": true,
    "hidden": true
   },
   "outputs": [],
   "source": [
    "sess.run(train_op, feed_dict)"
   ]
  },
  {
   "cell_type": "code",
   "execution_count": null,
   "metadata": {
    "collapsed": true,
    "hidden": true
   },
   "outputs": [],
   "source": [
    "sess.run([loss_op, train_op], feed_dict)"
   ]
  }
 ],
 "metadata": {
  "kernelspec": {
   "display_name": "Python 3",
   "language": "python",
   "name": "python3"
  },
  "language_info": {
   "codemirror_mode": {
    "name": "ipython",
    "version": 3
   },
   "file_extension": ".py",
   "mimetype": "text/x-python",
   "name": "python",
   "nbconvert_exporter": "python",
   "pygments_lexer": "ipython3",
   "version": "3.6.3"
  },
  "latex_envs": {
   "LaTeX_envs_menu_present": true,
   "autocomplete": true,
   "bibliofile": "biblio.bib",
   "cite_by": "apalike",
   "current_citInitial": 1,
   "eqLabelWithNumbers": true,
   "eqNumInitial": 1,
   "hotkeys": {
    "equation": "Ctrl-E",
    "itemize": "Ctrl-I"
   },
   "labels_anchors": false,
   "latex_user_defs": false,
   "report_style_numbering": false,
   "user_envs_cfg": false
  },
  "toc": {
   "nav_menu": {},
   "number_sections": true,
   "sideBar": true,
   "skip_h1_title": false,
   "toc_cell": false,
   "toc_position": {},
   "toc_section_display": "block",
   "toc_window_display": false
  }
 },
 "nbformat": 4,
 "nbformat_minor": 2
}
