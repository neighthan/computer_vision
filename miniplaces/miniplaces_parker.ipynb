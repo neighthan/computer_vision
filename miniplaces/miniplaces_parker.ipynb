{
 "cells": [
  {
   "cell_type": "markdown",
   "metadata": {
    "toc": "true"
   },
   "source": [
    " # Table of Contents\n",
    "<div class=\"toc\" style=\"margin-top: 1em;\"><ul class=\"toc-item\" id=\"toc-level0\"><li><span><a href=\"http://localhost:7891/notebooks/cv_parker/miniplaces/miniplaces_parker.ipynb#Download-+-Preprocess-Data\" data-toc-modified-id=\"Download-+-Preprocess-Data-1\"><span class=\"toc-item-num\">1&nbsp;&nbsp;</span>Download + Preprocess Data</a></span><ul class=\"toc-item\"><li><span><a href=\"http://localhost:7891/notebooks/cv_parker/miniplaces/miniplaces_parker.ipynb#Download\" data-toc-modified-id=\"Download-1.1\"><span class=\"toc-item-num\">1.1&nbsp;&nbsp;</span>Download</a></span></li><li><span><a href=\"http://localhost:7891/notebooks/cv_parker/miniplaces/miniplaces_parker.ipynb#Preprocess\" data-toc-modified-id=\"Preprocess-1.2\"><span class=\"toc-item-num\">1.2&nbsp;&nbsp;</span>Preprocess</a></span></li></ul></li><li><span><a href=\"http://localhost:7891/notebooks/cv_parker/miniplaces/miniplaces_parker.ipynb#Models\" data-toc-modified-id=\"Models-2\"><span class=\"toc-item-num\">2&nbsp;&nbsp;</span>Models</a></span><ul class=\"toc-item\"><li><span><a href=\"http://localhost:7891/notebooks/cv_parker/miniplaces/miniplaces_parker.ipynb#~Inception-v4\" data-toc-modified-id=\"~Inception-v4-2.1\"><span class=\"toc-item-num\">2.1&nbsp;&nbsp;</span>~Inception v4</a></span></li><li><span><a href=\"http://localhost:7891/notebooks/cv_parker/miniplaces/miniplaces_parker.ipynb#VGG\" data-toc-modified-id=\"VGG-2.2\"><span class=\"toc-item-num\">2.2&nbsp;&nbsp;</span>VGG</a></span></li></ul></li><li><span><a href=\"http://localhost:7891/notebooks/cv_parker/miniplaces/miniplaces_parker.ipynb#Model-Comparison\" data-toc-modified-id=\"Model-Comparison-3\"><span class=\"toc-item-num\">3&nbsp;&nbsp;</span>Model Comparison</a></span></li></ul></div>"
   ]
  },
  {
   "cell_type": "markdown",
   "metadata": {},
   "source": [
    "From [this class][class] (look at more of their notes later)\n",
    "\n",
    "Design principles\n",
    "* Reduce filter sizes (except possibly at the lowest layer), factorize filters aggressively\n",
    "* Use 1x1 convolutions to reduce and expand the number of feature maps judiciously\n",
    "* Use skip connections and/or create multiple paths through the network \n",
    "\n",
    "What else?\n",
    "* Training tricks and details: initialization, regularization, normalization\n",
    "* Training data augmentation\n",
    "* Averaging classifier outputs over multiple crops/flips\n",
    "* Ensembles of networks\n",
    "\n",
    "[class]: http://slazebni.cs.illinois.edu/spring17/"
   ]
  },
  {
   "cell_type": "markdown",
   "metadata": {},
   "source": [
    "Submit results [here][submission] with team code: **KknPS9LrSKwM2cFXe9T2**\n",
    "\n",
    "See the leaderboard [here][lb].\n",
    "\n",
    "[submission]: http://miniplaces.csail.mit.edu/submit.php\n",
    "[lb]: http://miniplaces.csail.mit.edu/leaderboard.php"
   ]
  },
  {
   "cell_type": "code",
   "execution_count": 15,
   "metadata": {
    "ExecuteTime": {
     "end_time": "2017-11-02T18:27:24.946656Z",
     "start_time": "2017-11-02T18:27:18.692291Z"
    },
    "collapsed": true,
    "init_cell": true,
    "scrolled": true
   },
   "outputs": [],
   "source": [
    "import numpy as np\n",
    "import pandas as pd\n",
    "import matplotlib.pyplot as plt\n",
    "import tensorflow as tf\n",
    "from tqdm import tnrange\n",
    "import time\n",
    "import os\n",
    "import sys\n",
    "sys.path = ['/scratch/nhunt/cv_parker/scripts'] + sys.path\n",
    "from utils import tf_init, get_next_run_num, load_data, output_file\n",
    "from layers import ConvLayer, MaxPoolLayer, AvgPoolLayer, BranchedLayer, MergeLayer, LayerModule, FlattenLayer, DenseLayer, GlobalAvgPoolLayer\n",
    "from models import CNN, BaseNN\n",
    "\n",
    "%matplotlib inline\n",
    "config = tf_init()"
   ]
  },
  {
   "cell_type": "code",
   "execution_count": 12,
   "metadata": {
    "ExecuteTime": {
     "end_time": "2017-10-30T21:16:05.007438Z",
     "start_time": "2017-10-30T21:16:02.456144Z"
    },
    "collapsed": true
   },
   "outputs": [],
   "source": [
    "train_inputs, train_labels, val_inputs, val_labels, test_inputs = load_data('miniplaces')\n",
    "n_classes = len(np.unique(train_labels))"
   ]
  },
  {
   "cell_type": "markdown",
   "metadata": {
    "heading_collapsed": true
   },
   "source": [
    "# Download + Preprocess Data"
   ]
  },
  {
   "cell_type": "markdown",
   "metadata": {
    "hidden": true
   },
   "source": [
    "We end up with this file structure folder after first downloading everything:\n",
    "\n",
    "development_kit\n",
    " * README\n",
    " * ...\n",
    "\n",
    "data\n",
    " * labels\n",
    "    * categories.txt\n",
    "    * object_categories.txt\n",
    "    * train.txt\n",
    "    * val.txt\n",
    " * images\n",
    "     * train\n",
    "         * a\n",
    "             * abbey\n",
    "             * airport_terminal\n",
    "             * ...\n",
    "         * b\n",
    "         * ...\n",
    "     * val\n",
    "     * test\n",
    " * objects\n",
    "     * train\n",
    "         * a\n",
    "             * abbey\n",
    "             * airport_terminal\n",
    "             * ...\n",
    "         * b\n",
    "         * ...\n",
    "     * val\n",
    "\n",
    "The train images are stored in directories that correspond to their scene labels. All of the val and test images are stored directly in their directory. The labels for the val images (and for the test ones, for easier access) are in `development_kit/val.txt` and `/train.txt`.\n",
    "\n",
    "All of the images are .jpg files. The images have been resized to 128x128 to make the challenge easier (computationally; it may be harder in terms of achieving the same accuracy).\n",
    "\n",
    "The object notations are a special file that tells you the name of the image to which they correspond, where that image is (which folder), and then have bounding polygons (as a series of points) for the objects in the image, with classes for the objects. There are 3502 train images with object annotations and 371 validation images.\n",
    "\n",
    "**Read the README to get a better idea of the data before continuing!**"
   ]
  },
  {
   "cell_type": "markdown",
   "metadata": {
    "hidden": true
   },
   "source": [
    "## Download"
   ]
  },
  {
   "cell_type": "code",
   "execution_count": 13,
   "metadata": {
    "ExecuteTime": {
     "end_time": "2017-10-19T14:01:00.355675Z",
     "start_time": "2017-10-19T14:00:46.733307Z"
    },
    "collapsed": true,
    "hidden": true
   },
   "outputs": [],
   "source": [
    "%%bash\n",
    "wget -q http://6.869.csail.mit.edu/fa17/miniplaces/development_kit.tar.gz\n",
    "tar -xzf development_kit.tar.gz\n",
    "rm development_kit.tar.gz\n",
    "\n",
    "mkdir -p data/labels\n",
    "mv development_kit/data/* data/labels\n",
    "rm -r development_kit/data\n",
    "\n",
    "cd data\n",
    "wget -q http://6.869.csail.mit.edu/fa17/miniplaces/data.tar.gz\n",
    "tar -xzf data.tar.gz\n",
    "rm data.tar.gz"
   ]
  },
  {
   "cell_type": "code",
   "execution_count": 14,
   "metadata": {
    "ExecuteTime": {
     "end_time": "2017-10-19T14:01:00.628557Z",
     "start_time": "2017-10-19T14:01:00.359837Z"
    },
    "hidden": true
   },
   "outputs": [
    {
     "data": {
      "image/png": "[encoded data removed]",
      "text/plain": [
       "<matplotlib.figure.Figure at 0x7f7664013358>"
      ]
     },
     "metadata": {},
     "output_type": "display_data"
    }
   ],
   "source": [
    "img = plt.imread('data/images/train/a/abbey/00000001.jpg')\n",
    "plt.imshow(img)\n",
    "plt.axis('off');"
   ]
  },
  {
   "cell_type": "markdown",
   "metadata": {
    "hidden": true
   },
   "source": [
    "## Preprocess\n",
    "* Put all train/val/test images in their own array for easy loading (the dataset is small enough that we can load all of them at once)"
   ]
  },
  {
   "cell_type": "code",
   "execution_count": 15,
   "metadata": {
    "ExecuteTime": {
     "end_time": "2017-10-19T14:01:00.669793Z",
     "start_time": "2017-10-19T14:01:00.632106Z"
    },
    "collapsed": true,
    "hidden": true
   },
   "outputs": [],
   "source": [
    "def save_imgs_together(split, convert_to_float=False, image_path='data/images', labels_path='data/labels/'):\n",
    "    \"\"\"\n",
    "    Reads in all of the images from this split and saves them into a single numpy array.\n",
    "    This should make the training easier and more efficient.\n",
    "    :param split: one of train, val, or test; which split of the data to process\n",
    "                  if split isn't test, the labels will also be saved into a numpy array\n",
    "    :param convert_to_float: if true, the image array is divided by 255 to conver the data to floats in [0, 1]\n",
    "    :param image_path: path to the first-level image directories (e.g. a, b, ...)\n",
    "    :param labels_path: path to the labels data (e.g. train.txt, val.txt)\n",
    "    \"\"\"\n",
    "\n",
    "    img_fnames = ! find $image_path/$split -name *.jpg | sort\n",
    "    imgs = [plt.imread(img_fname) for img_fname in img_fnames]\n",
    "\n",
    "    imgs = np.array(imgs)\n",
    "\n",
    "    if convert_to_float:\n",
    "        imgs = imgs / 255\n",
    "\n",
    "    np.save('{}/{}.npy'.format(image_path, split), imgs)\n",
    "\n",
    "    if split != 'test':  # no labels for test\n",
    "        labels = pd.read_csv('{}/{}.txt'.format(labels_path, split), sep=' ', header=None, usecols=[1]).iloc[:, 0].values\n",
    "\n",
    "        assert len(labels) == len(imgs)\n",
    "\n",
    "        np.save('{}/{}_labels.npy'.format(image_path, split), labels.astype(np.int32))"
   ]
  },
  {
   "cell_type": "code",
   "execution_count": 16,
   "metadata": {
    "ExecuteTime": {
     "end_time": "2017-10-19T14:03:15.041750Z",
     "start_time": "2017-10-19T14:01:00.672075Z"
    },
    "collapsed": true,
    "hidden": true
   },
   "outputs": [],
   "source": [
    "for split in ['train', 'val', 'test']:\n",
    "    save_imgs_together(split)"
   ]
  },
  {
   "cell_type": "markdown",
   "metadata": {},
   "source": [
    "# Models"
   ]
  },
  {
   "cell_type": "markdown",
   "metadata": {},
   "source": [
    "## ~Inception v4"
   ]
  },
  {
   "cell_type": "code",
   "execution_count": 13,
   "metadata": {
    "ExecuteTime": {
     "end_time": "2017-10-30T21:16:24.461353Z",
     "start_time": "2017-10-30T21:16:24.450373Z"
    }
   },
   "outputs": [
    {
     "data": {
      "text/plain": [
       "<function tensorflow.python.layers.convolutional.separable_conv2d>"
      ]
     },
     "execution_count": 13,
     "metadata": {},
     "output_type": "execute_result"
    }
   ],
   "source": [
    "tf.layers.separable_conv2d"
   ]
  },
  {
   "cell_type": "code",
   "execution_count": 16,
   "metadata": {
    "ExecuteTime": {
     "end_time": "2017-11-02T18:38:03.069578Z",
     "start_time": "2017-11-02T18:38:03.039754Z"
    }
   },
   "outputs": [
    {
     "ename": "AssertionError",
     "evalue": "models_dir must be specifed to record a model.",
     "output_type": "error",
     "traceback": [
      "\u001b[0;31m---------------------------------------------------------------------------\u001b[0m",
      "\u001b[0;31mAssertionError\u001b[0m                            Traceback (most recent call last)",
      "\u001b[0;32m<ipython-input-16-6c45fc737fd8>\u001b[0m in \u001b[0;36m<module>\u001b[0;34m()\u001b[0m\n\u001b[1;32m      5\u001b[0m ]\n\u001b[1;32m      6\u001b[0m \u001b[0;34m\u001b[0m\u001b[0m\n\u001b[0;32m----> 7\u001b[0;31m \u001b[0mcnn\u001b[0m \u001b[0;34m=\u001b[0m \u001b[0mCNN\u001b[0m\u001b[0;34m(\u001b[0m\u001b[0mlayers\u001b[0m\u001b[0;34m,\u001b[0m \u001b[0mn_classes\u001b[0m\u001b[0;34m=\u001b[0m\u001b[0mn_classes\u001b[0m\u001b[0;34m)\u001b[0m\u001b[0;34m\u001b[0m\u001b[0m\n\u001b[0m\u001b[1;32m      8\u001b[0m \u001b[0;34m\u001b[0m\u001b[0m\n\u001b[1;32m      9\u001b[0m \u001b[0;31m# cnn = CNN(n_classes=n_classes, cnn_nodes=(128, 128, 128, 64), dense_nodes=(), batch_size=64, l2_lambda=.001)\u001b[0m\u001b[0;34m\u001b[0m\u001b[0;34m\u001b[0m\u001b[0m\n",
      "\u001b[0;32m~/cv_parker/scripts/models.py\u001b[0m in \u001b[0;36m__init__\u001b[0;34m(self, layers, models_dir, log_key, n_regress_tasks, n_classes, task_names, config, run_num, batch_size, record, random_state, data_params, img_width, img_height, n_channels, l2_lambda, learning_rate, beta1, beta2, add_scaling)\u001b[0m\n\u001b[1;32m    551\u001b[0m         \u001b[0mnew_run\u001b[0m \u001b[0;34m=\u001b[0m \u001b[0mrun_num\u001b[0m \u001b[0;34m==\u001b[0m \u001b[0;34m-\u001b[0m\u001b[0;36m1\u001b[0m\u001b[0;34m\u001b[0m\u001b[0m\n\u001b[1;32m    552\u001b[0m         super().__init__(layers, models_dir, log_key, n_regress_tasks, n_classes, task_names, config, run_num,\n\u001b[0;32m--> 553\u001b[0;31m                          batch_size, record, random_state, data_params)\n\u001b[0m\u001b[1;32m    554\u001b[0m \u001b[0;34m\u001b[0m\u001b[0m\n\u001b[1;32m    555\u001b[0m         \u001b[0mparam_names\u001b[0m \u001b[0;34m=\u001b[0m \u001b[0;34m[\u001b[0m\u001b[0;34m'img_width'\u001b[0m\u001b[0;34m,\u001b[0m \u001b[0;34m'img_height'\u001b[0m\u001b[0;34m,\u001b[0m \u001b[0;34m'n_channels'\u001b[0m\u001b[0;34m,\u001b[0m \u001b[0;34m'l2_lambda'\u001b[0m\u001b[0;34m,\u001b[0m \u001b[0;34m'learning_rate'\u001b[0m\u001b[0;34m,\u001b[0m \u001b[0;34m'beta1'\u001b[0m\u001b[0;34m,\u001b[0m \u001b[0;34m'beta2'\u001b[0m\u001b[0;34m,\u001b[0m \u001b[0;34m'add_scaling'\u001b[0m\u001b[0;34m]\u001b[0m\u001b[0;34m\u001b[0m\u001b[0m\n",
      "\u001b[0;32m~/cv_parker/scripts/models.py\u001b[0m in \u001b[0;36m__init__\u001b[0;34m(self, layers, models_dir, log_key, n_regress_tasks, n_classes, task_names, config, run_num, batch_size, record, random_state, data_params)\u001b[0m\n\u001b[1;32m     58\u001b[0m \u001b[0;34m\u001b[0m\u001b[0m\n\u001b[1;32m     59\u001b[0m         \u001b[0;32mif\u001b[0m \u001b[0mrecord\u001b[0m\u001b[0;34m:\u001b[0m\u001b[0;34m\u001b[0m\u001b[0m\n\u001b[0;32m---> 60\u001b[0;31m             \u001b[0;32massert\u001b[0m \u001b[0mmodels_dir\u001b[0m\u001b[0;34m,\u001b[0m \u001b[0;34m\"models_dir must be specifed to record a model.\"\u001b[0m\u001b[0;34m\u001b[0m\u001b[0m\n\u001b[0m\u001b[1;32m     61\u001b[0m \u001b[0;34m\u001b[0m\u001b[0m\n\u001b[1;32m     62\u001b[0m         \u001b[0mself\u001b[0m\u001b[0;34m.\u001b[0m\u001b[0mlog_fname\u001b[0m \u001b[0;34m=\u001b[0m \u001b[0;34mf'{models_dir}/log.h5'\u001b[0m\u001b[0;34m\u001b[0m\u001b[0m\n",
      "\u001b[0;31mAssertionError\u001b[0m: models_dir must be specifed to record a model."
     ]
    }
   ],
   "source": [
    "layers = [\n",
    "    ConvLayer(32, 3),\n",
    "    GlobalAvgPoolLayer(),\n",
    "    FlattenLayer()\n",
    "]\n",
    "\n",
    "cnn = CNN(layers, models_dir = \"/scratch/nhunt/cv_parker/mi\", n_classes=n_classes)\n",
    "\n",
    "# cnn = CNN(n_classes=n_classes, cnn_nodes=(128, 128, 128, 64), dense_nodes=(), batch_size=64, l2_lambda=.001)\n",
    "cnn.train(train_inputs, train_labels, val_inputs, val_labels, in_notebook=True)"
   ]
  },
  {
   "cell_type": "code",
   "execution_count": null,
   "metadata": {
    "ExecuteTime": {
     "end_time": "2017-10-19T14:03:15.250754Z",
     "start_time": "2017-10-19T14:00:24.302Z"
    },
    "collapsed": true
   },
   "outputs": [],
   "source": [
    "cnn.score(val_inputs, val_labels)"
   ]
  },
  {
   "cell_type": "code",
   "execution_count": null,
   "metadata": {
    "ExecuteTime": {
     "end_time": "2017-10-19T14:03:15.252519Z",
     "start_time": "2017-10-19T14:00:24.302Z"
    },
    "collapsed": true
   },
   "outputs": [],
   "source": [
    "cnn = CNN(run_num=52)"
   ]
  },
  {
   "cell_type": "code",
   "execution_count": null,
   "metadata": {
    "ExecuteTime": {
     "end_time": "2017-10-19T14:03:15.253972Z",
     "start_time": "2017-10-19T14:00:24.303Z"
    },
    "collapsed": true
   },
   "outputs": [],
   "source": [
    "cnn.score(val_inputs, val_labels)"
   ]
  },
  {
   "cell_type": "code",
   "execution_count": null,
   "metadata": {
    "ExecuteTime": {
     "end_time": "2017-10-19T14:03:15.255439Z",
     "start_time": "2017-10-19T14:00:24.304Z"
    },
    "collapsed": true
   },
   "outputs": [],
   "source": [
    "# cnn.score(val_inputs, val_labels)"
   ]
  },
  {
   "cell_type": "code",
   "execution_count": null,
   "metadata": {
    "ExecuteTime": {
     "end_time": "2017-10-19T14:03:15.256821Z",
     "start_time": "2017-10-19T14:00:24.305Z"
    },
    "collapsed": true
   },
   "outputs": [],
   "source": [
    "preds = cnn.predict_proba(test_inputs)\n",
    "output_file(preds)"
   ]
  },
  {
   "cell_type": "code",
   "execution_count": null,
   "metadata": {
    "ExecuteTime": {
     "end_time": "2017-10-19T14:03:15.258387Z",
     "start_time": "2017-10-19T14:00:24.306Z"
    },
    "collapsed": true
   },
   "outputs": [],
   "source": [
    "prelu()"
   ]
  },
  {
   "cell_type": "markdown",
   "metadata": {},
   "source": [
    "## VGG"
   ]
  },
  {
   "cell_type": "code",
   "execution_count": 19,
   "metadata": {
    "ExecuteTime": {
     "end_time": "2017-10-19T14:23:33.901633Z",
     "start_time": "2017-10-19T14:23:32.873691Z"
    }
   },
   "outputs": [
    {
     "name": "stdout",
     "output_type": "stream",
     "text": [
      "Beginning run 96.\n"
     ]
    },
    {
     "ename": "NameError",
     "evalue": "name 'cnn_modules' is not defined",
     "output_type": "error",
     "traceback": [
      "\u001b[0;31m---------------------------------------------------------------------------\u001b[0m",
      "\u001b[0;31mNameError\u001b[0m                                 Traceback (most recent call last)",
      "\u001b[0;32m<ipython-input-19-8e547cba0cd0>\u001b[0m in \u001b[0;36m<module>\u001b[0;34m()\u001b[0m\n\u001b[1;32m      1\u001b[0m cnn = PretrainedCNN(n_classes=n_classes, dense_nodes=(1024, 1024), batch_size=64, config=config, cnn_module='vgg16',\n\u001b[0;32m----> 2\u001b[0;31m                    pretrained_weights=False)\n\u001b[0m\u001b[1;32m      3\u001b[0m \u001b[0mcnn\u001b[0m\u001b[0;34m.\u001b[0m\u001b[0mtrain\u001b[0m\u001b[0;34m(\u001b[0m\u001b[0mtrain_inputs\u001b[0m\u001b[0;34m,\u001b[0m \u001b[0mtrain_labels\u001b[0m\u001b[0;34m,\u001b[0m \u001b[0mval_inputs\u001b[0m\u001b[0;34m,\u001b[0m \u001b[0mval_labels\u001b[0m\u001b[0;34m,\u001b[0m \u001b[0min_notebook\u001b[0m\u001b[0;34m=\u001b[0m\u001b[0;32mTrue\u001b[0m\u001b[0;34m)\u001b[0m\u001b[0;34m\u001b[0m\u001b[0m\n",
      "\u001b[0;32m~/cv_parker/scripts/models.py\u001b[0m in \u001b[0;36m__init__\u001b[0;34m(self, img_width, img_height, n_channels, n_classes, log_fname, log_key, data_params, dense_nodes, l2_lambda, learning_rate, beta1, beta2, config, run_num, batch_size, record, random_state, dense_activation, finetune, pretrained_weights, cnn_module)\u001b[0m\n\u001b[1;32m    335\u001b[0m         \u001b[0mself\u001b[0m\u001b[0;34m.\u001b[0m\u001b[0mparams\u001b[0m\u001b[0;34m.\u001b[0m\u001b[0mupdate\u001b[0m\u001b[0;34m(\u001b[0m\u001b[0;34m{\u001b[0m\u001b[0mparam\u001b[0m\u001b[0;34m:\u001b[0m \u001b[0mself\u001b[0m\u001b[0;34m.\u001b[0m\u001b[0m__getattribute__\u001b[0m\u001b[0;34m(\u001b[0m\u001b[0mparam\u001b[0m\u001b[0;34m)\u001b[0m \u001b[0;32mfor\u001b[0m \u001b[0mparam\u001b[0m \u001b[0;32min\u001b[0m \u001b[0mparam_names\u001b[0m\u001b[0;34m}\u001b[0m\u001b[0;34m)\u001b[0m\u001b[0;34m\u001b[0m\u001b[0m\n\u001b[1;32m    336\u001b[0m \u001b[0;34m\u001b[0m\u001b[0m\n\u001b[0;32m--> 337\u001b[0;31m         \u001b[0mself\u001b[0m\u001b[0;34m.\u001b[0m\u001b[0m__build_graph__\u001b[0m\u001b[0;34m(\u001b[0m\u001b[0;34m)\u001b[0m\u001b[0;34m\u001b[0m\u001b[0m\n\u001b[0m\u001b[1;32m    338\u001b[0m \u001b[0;34m\u001b[0m\u001b[0m\n\u001b[1;32m    339\u001b[0m     \u001b[0;32mdef\u001b[0m \u001b[0m__build_graph__\u001b[0m\u001b[0;34m(\u001b[0m\u001b[0mself\u001b[0m\u001b[0;34m)\u001b[0m\u001b[0;34m:\u001b[0m\u001b[0;34m\u001b[0m\u001b[0m\n",
      "\u001b[0;32m~/cv_parker/scripts/models.py\u001b[0m in \u001b[0;36m__build_graph__\u001b[0;34m(self)\u001b[0m\n\u001b[1;32m    357\u001b[0m                 \u001b[0mweights\u001b[0m \u001b[0;34m=\u001b[0m \u001b[0;34m'imagenet'\u001b[0m \u001b[0;32mif\u001b[0m \u001b[0mself\u001b[0m\u001b[0;34m.\u001b[0m\u001b[0mpretrained_weights\u001b[0m \u001b[0;32melse\u001b[0m \u001b[0;32mNone\u001b[0m\u001b[0;34m\u001b[0m\u001b[0m\n\u001b[1;32m    358\u001b[0m \u001b[0;34m\u001b[0m\u001b[0m\n\u001b[0;32m--> 359\u001b[0;31m                 \u001b[0mcnn\u001b[0m \u001b[0;34m=\u001b[0m \u001b[0mcnn_modules\u001b[0m\u001b[0;34m[\u001b[0m\u001b[0mself\u001b[0m\u001b[0;34m.\u001b[0m\u001b[0mcnn_module\u001b[0m\u001b[0;34m]\u001b[0m\u001b[0;34m\u001b[0m\u001b[0m\n\u001b[0m\u001b[1;32m    360\u001b[0m                 \u001b[0mcnn_out\u001b[0m \u001b[0;34m=\u001b[0m \u001b[0mcnn\u001b[0m\u001b[0;34m(\u001b[0m\u001b[0minclude_top\u001b[0m\u001b[0;34m=\u001b[0m\u001b[0;32mFalse\u001b[0m\u001b[0;34m,\u001b[0m \u001b[0minput_tensor\u001b[0m\u001b[0;34m=\u001b[0m\u001b[0mself\u001b[0m\u001b[0;34m.\u001b[0m\u001b[0minputs_p\u001b[0m\u001b[0;34m,\u001b[0m \u001b[0mweights\u001b[0m\u001b[0;34m=\u001b[0m\u001b[0mweights\u001b[0m\u001b[0;34m)\u001b[0m\u001b[0;34m.\u001b[0m\u001b[0moutput\u001b[0m\u001b[0;34m\u001b[0m\u001b[0m\n\u001b[1;32m    361\u001b[0m                 \u001b[0mhidden\u001b[0m \u001b[0;34m=\u001b[0m \u001b[0mtf\u001b[0m\u001b[0;34m.\u001b[0m\u001b[0mcontrib\u001b[0m\u001b[0;34m.\u001b[0m\u001b[0mlayers\u001b[0m\u001b[0;34m.\u001b[0m\u001b[0mflatten\u001b[0m\u001b[0;34m(\u001b[0m\u001b[0mcnn_out\u001b[0m\u001b[0;34m)\u001b[0m\u001b[0;34m\u001b[0m\u001b[0m\n",
      "\u001b[0;31mNameError\u001b[0m: name 'cnn_modules' is not defined"
     ]
    }
   ],
   "source": [
    "cnn = PretrainedCNN(n_classes=n_classes, dense_nodes=(1024, 1024), batch_size=64, config=config, cnn_module='vgg16',\n",
    "                   pretrained_weights=False)\n",
    "cnn.train(train_inputs, train_labels, val_inputs, val_labels, in_notebook=True)"
   ]
  },
  {
   "cell_type": "code",
   "execution_count": null,
   "metadata": {
    "ExecuteTime": {
     "end_time": "2017-10-19T14:03:15.261429Z",
     "start_time": "2017-10-19T14:00:24.370Z"
    },
    "collapsed": true
   },
   "outputs": [],
   "source": [
    "# cnn = PretrainedCNN(run_num=20)"
   ]
  },
  {
   "cell_type": "code",
   "execution_count": null,
   "metadata": {
    "ExecuteTime": {
     "end_time": "2017-10-19T14:03:15.263286Z",
     "start_time": "2017-10-19T14:00:24.371Z"
    },
    "collapsed": true
   },
   "outputs": [],
   "source": [
    "cnn.score(val_inputs, val_labels)"
   ]
  },
  {
   "cell_type": "code",
   "execution_count": null,
   "metadata": {
    "ExecuteTime": {
     "end_time": "2017-10-19T14:03:15.265194Z",
     "start_time": "2017-10-19T14:00:24.372Z"
    },
    "collapsed": true
   },
   "outputs": [],
   "source": [
    "preds = cnn.predict_proba(val_inputs)\n",
    "output_file(preds)"
   ]
  },
  {
   "cell_type": "markdown",
   "metadata": {},
   "source": [
    "# Model Comparison\n",
    "\n",
    "Adding batch norm: [0.23039998, 0.5126999]\n",
    "\n",
    "Submitted Models\n",
    "\n",
    "| Model | Acc@1 | Acc@5 | VAcc@1 | VAcc@5 | Notes | Run # |\n",
    "|-----|\n",
    "|  | .2429 | .4776 | 0.2509 | 0.5397 | | ??50-ish |\n",
    "| | .2691 | .5224 | 0.2900 | 0.5844 | batch norm and l2=.001 | 58 |"
   ]
  },
  {
   "cell_type": "code",
   "execution_count": null,
   "metadata": {
    "ExecuteTime": {
     "end_time": "2017-10-19T14:03:15.267107Z",
     "start_time": "2017-10-19T14:00:24.449Z"
    },
    "collapsed": true
   },
   "outputs": [],
   "source": [
    "log = pd.read_hdf('models/log.h5', key='default').sort_values('dev_loss')\n",
    "log.head()"
   ]
  },
  {
   "cell_type": "code",
   "execution_count": null,
   "metadata": {
    "collapsed": true
   },
   "outputs": [],
   "source": []
  }
 ],
 "metadata": {
  "hide_input": false,
  "kernelspec": {
   "display_name": "Python 3",
   "language": "python",
   "name": "python3"
  },
  "language_info": {
   "codemirror_mode": {
    "name": "ipython",
    "version": 3
   },
   "file_extension": ".py",
   "mimetype": "text/x-python",
   "name": "python",
   "nbconvert_exporter": "python",
   "pygments_lexer": "ipython3",
   "version": "3.6.2"
  },
  "toc": {
   "nav_menu": {},
   "number_sections": true,
   "sideBar": true,
   "skip_h1_title": false,
   "toc_cell": true,
   "toc_position": {},
   "toc_section_display": "block",
   "toc_window_display": false
  }
 },
 "nbformat": 4,
 "nbformat_minor": 2
}
