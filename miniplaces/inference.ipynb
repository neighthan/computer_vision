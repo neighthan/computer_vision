{
 "cells": [
  {
   "cell_type": "code",
   "execution_count": 1,
   "metadata": {
    "ExecuteTime": {
     "end_time": "2017-11-22T14:30:05.607734Z",
     "start_time": "2017-11-22T14:29:10.552583Z"
    }
   },
   "outputs": [
    {
     "name": "stderr",
     "output_type": "stream",
     "text": [
      "/afs/csail.mit.edu/u/n/nhunt/anaconda3/lib/python3.6/importlib/_bootstrap.py:219: RuntimeWarning: compiletime version 3.5 of module 'tensorflow.python.framework.fast_tensor_util' does not match runtime version 3.6\n",
      "  return f(*args, **kwds)\n"
     ]
    }
   ],
   "source": [
    "# %load_ext autoreload\n",
    "# %autoreload 2\n",
    "\n",
    "import numpy as np\n",
    "import pandas as pd\n",
    "import tensorflow as tf\n",
    "from computer_vision.scripts.models import CNN2\n",
    "from computer_vision.scripts.utils import acc_at_k, tf_init, output_file\n",
    "import matplotlib.pyplot as plt\n",
    "\n",
    "config = tf_init()\n",
    "\n",
    "%matplotlib inline"
   ]
  },
  {
   "cell_type": "code",
   "execution_count": 22,
   "metadata": {
    "ExecuteTime": {
     "end_time": "2017-11-22T14:35:35.938214Z",
     "start_time": "2017-11-22T14:35:35.860994Z"
    }
   },
   "outputs": [
    {
     "data": {
      "text/plain": [
       "['inception_aug_LR_contrast_.75_hue_.15_rot_4_l2_0.0001_p_0.8_na_2_nb_2_nc_2_bn_before_True_lr_0.001_e700_bs64',\n",
       " 'inception_aug_LR_contrast_.75_hue_.15_rot_4_l2_0.0001_p_0.8_na_3_nb_4_nc_2_bn_before_True_lr_0.001_e700_bs64',\n",
       " 'inception_aug_LR_contrast_.75_hue_.15_rot_4_l2_0.0001_p_0.8_na_3_nb_5_nc_3_bn_before_True_lr_0.001_e700_bs64']"
      ]
     },
     "execution_count": 22,
     "metadata": {},
     "output_type": "execute_result"
    }
   ],
   "source": [
    "fnames = ! ls models/\n",
    "fnames = [fname for fname in fnames if 'log' not in fname]\n",
    "fnames"
   ]
  },
  {
   "cell_type": "code",
   "execution_count": 23,
   "metadata": {
    "ExecuteTime": {
     "end_time": "2017-11-22T14:35:45.667291Z",
     "start_time": "2017-11-22T14:35:45.662444Z"
    },
    "collapsed": true
   },
   "outputs": [],
   "source": [
    "dev_fnames = ['/afs/csail.mit.edu/u/n/nhunt/github/computer_vision/miniplaces/data/val_0.tfrecord']\n",
    "test_fnames = ['/afs/csail.mit.edu/u/n/nhunt/github/computer_vision/miniplaces/data/test_0.tfrecord']"
   ]
  },
  {
   "cell_type": "code",
   "execution_count": null,
   "metadata": {
    "ExecuteTime": {
     "start_time": "2017-11-22T14:38:56.290Z"
    }
   },
   "outputs": [
    {
     "name": "stdout",
     "output_type": "stream",
     "text": [
      "Loading graph from: models//inception_aug_LR_contrast_.75_hue_.15_rot_4_l2_0.0001_p_0.8_na_2_nb_2_nc_2_bn_before_True_lr_0.001_e700_bs64/model.ckpt.meta.\n",
      "0.2686, 0.5749, inception_aug_LR_contrast_.75_hue_.15_rot_4_l2_0.0001_p_0.8_na_2_nb_2_nc_2_bn_before_True_lr_0.001_e700_bs64\n",
      "Loading graph from: models//inception_aug_LR_contrast_.75_hue_.15_rot_4_l2_0.0001_p_0.8_na_3_nb_4_nc_2_bn_before_True_lr_0.001_e700_bs64/model.ckpt.meta.\n",
      "0.3366, 0.6453, inception_aug_LR_contrast_.75_hue_.15_rot_4_l2_0.0001_p_0.8_na_3_nb_4_nc_2_bn_before_True_lr_0.001_e700_bs64\n"
     ]
    }
   ],
   "source": [
    "# can't actually do ensemble predictions on val because we don't know how to sort the predictions into the right order\n",
    "\n",
    "all_preds = []\n",
    "all_labels = []\n",
    "\n",
    "split = 'val'\n",
    "\n",
    "for fname in fnames:\n",
    "    try:\n",
    "        cnn = CNN2(models_dir='models/', model_name=fname)\n",
    "        if split == 'test':\n",
    "            preds, labels = cnn._batch([cnn.predict['default'], cnn.labels_p['default']], inputs={'default': test_fnames}, dataset=True)\n",
    "            labels = np.concatenate(labels)\n",
    "            preds = np.concatenate(preds)\n",
    "\n",
    "            idx = np.argsort(labels)\n",
    "            preds = preds[idx]\n",
    "            all_preds.append(preds)\n",
    "        elif split == 'val':\n",
    "            preds, labels = cnn._batch([cnn.predict['default'], cnn.labels_p['default']], inputs={'default': dev_fnames}, dataset=True)\n",
    "            labels = np.concatenate(labels)\n",
    "            preds = np.concatenate(preds)\n",
    "            \n",
    "            all_preds.append(preds)\n",
    "            all_labels.append(labels)\n",
    "            \n",
    "            preds = pd.DataFrame(preds)\n",
    "            print(f\"{acc_at_k(1, preds, labels)}, {acc_at_k(5, preds, labels)}, {fname}\")\n",
    "    except:\n",
    "        print(f\"Error with {fname}\")"
   ]
  },
  {
   "cell_type": "code",
   "execution_count": 27,
   "metadata": {
    "ExecuteTime": {
     "end_time": "2017-11-22T15:42:23.405094Z",
     "start_time": "2017-11-22T15:42:17.952558Z"
    }
   },
   "outputs": [
    {
     "name": "stdout",
     "output_type": "stream",
     "text": [
      "0.3046, 0.6132, inception_aug_LR_contrast_.75_hue_.15_rot_4_l2_0.0001_p_0.8_na_3_nb_5_nc_3_bn_before_True_lr_0.001_e700_bs64\n"
     ]
    }
   ],
   "source": [
    "print(f\"{acc_at_k(1, preds, labels)}, {acc_at_k(5, preds, labels)}, {fname}\")"
   ]
  },
  {
   "cell_type": "code",
   "execution_count": 29,
   "metadata": {
    "ExecuteTime": {
     "end_time": "2017-11-22T15:43:28.794671Z",
     "start_time": "2017-11-22T15:43:28.754622Z"
    }
   },
   "outputs": [],
   "source": [
    "z = [pr.reshape(*pr.shape, 1) for pr in all_preds]\n",
    "z = np.concatenate(z, axis=2).mean(axis=2)\n",
    "z = pd.DataFrame(z)"
   ]
  },
  {
   "cell_type": "code",
   "execution_count": null,
   "metadata": {
    "collapsed": true
   },
   "outputs": [],
   "source": [
    "print(f\"{acc_at_k(1, z, labels)}, {acc_at_k(5, z, labels)}\")"
   ]
  },
  {
   "cell_type": "code",
   "execution_count": null,
   "metadata": {
    "collapsed": true
   },
   "outputs": [],
   "source": []
  },
  {
   "cell_type": "code",
   "execution_count": null,
   "metadata": {
    "collapsed": true
   },
   "outputs": [],
   "source": []
  },
  {
   "cell_type": "code",
   "execution_count": 35,
   "metadata": {
    "ExecuteTime": {
     "end_time": "2017-11-22T04:53:02.297035Z",
     "start_time": "2017-11-22T04:42:11.363328Z"
    }
   },
   "outputs": [
    {
     "name": "stdout",
     "output_type": "stream",
     "text": [
      "Loading graph from: models//inception_aug_LR_contrast_.75_hue_.15_rot_4_l2_0.0001_p_0.8_na_3_nb_4_nc_2_bn_before_True_lr_0.001_e700_bs64/model.ckpt.meta.\n"
     ]
    }
   ],
   "source": [
    "cnn = CNN2(models_dir='models/', model_name='inception_aug_LR_contrast_.75_hue_.15_rot_4_l2_0.0001_p_0.8_na_3_nb_4_nc_2_bn_before_True_lr_0.001_e700_bs64')"
   ]
  },
  {
   "cell_type": "code",
   "execution_count": 19,
   "metadata": {
    "ExecuteTime": {
     "end_time": "2017-11-22T04:15:27.700068Z",
     "start_time": "2017-11-22T04:14:42.645689Z"
    }
   },
   "outputs": [
    {
     "name": "stdout",
     "output_type": "stream",
     "text": [
      "inception_aug_LR_contrast_.75_hue_.15_rot_4_l2_0.0001_p_0.8_na_3_nb_5_nc_3_bn_before_True_lr_0.001_e700_bs64, 0.2945, 0.5944\n"
     ]
    }
   ],
   "source": [
    "preds, labels = cnn._batch([cnn.predict['default'], cnn.labels_p['default']], inputs={'default': dev_fnames}, dataset=True)\n",
    "labels = np.concatenate(labels)\n",
    "preds = pd.DataFrame(np.concatenate(preds))\n",
    "print(f\"{fname}, {acc_at_k(1, preds, labels)}, {acc_at_k(5, preds, labels)}\")"
   ]
  },
  {
   "cell_type": "code",
   "execution_count": 36,
   "metadata": {
    "ExecuteTime": {
     "end_time": "2017-11-22T04:53:43.210620Z",
     "start_time": "2017-11-22T04:53:02.322268Z"
    },
    "collapsed": true
   },
   "outputs": [],
   "source": [
    "preds, labels = cnn._batch([cnn.predict['default'], cnn.labels_p['default']], inputs={'default': test_fnames}, dataset=True)\n",
    "labels = np.concatenate(labels)\n",
    "preds = np.concatenate(preds)\n",
    "\n",
    "idx = np.argsort(labels)\n",
    "preds = preds[idx]\n",
    "p.append(preds)"
   ]
  },
  {
   "cell_type": "code",
   "execution_count": 44,
   "metadata": {
    "ExecuteTime": {
     "end_time": "2017-11-22T04:56:14.562767Z",
     "start_time": "2017-11-22T04:56:08.594904Z"
    },
    "collapsed": true
   },
   "outputs": [],
   "source": [
    "output_file(z)"
   ]
  },
  {
   "cell_type": "code",
   "execution_count": null,
   "metadata": {
    "collapsed": true
   },
   "outputs": [],
   "source": []
  },
  {
   "cell_type": "code",
   "execution_count": 27,
   "metadata": {
    "ExecuteTime": {
     "end_time": "2017-11-22T04:26:55.948570Z",
     "start_time": "2017-11-22T04:25:58.470044Z"
    }
   },
   "outputs": [
    {
     "name": "stdout",
     "output_type": "stream",
     "text": [
      "5 10 "
     ]
    },
    {
     "name": "stderr",
     "output_type": "stream",
     "text": [
      "ERROR:root:Internal Python error in the inspect module.\n",
      "Below is the traceback from this internal error.\n",
      "\n"
     ]
    },
    {
     "name": "stdout",
     "output_type": "stream",
     "text": [
      "Traceback (most recent call last):\n",
      "  File \"/afs/csail.mit.edu/u/n/nhunt/anaconda3/lib/python3.6/site-packages/IPython/core/interactiveshell.py\", line 2862, in run_code\n",
      "    exec(code_obj, self.user_global_ns, self.user_ns)\n",
      "  File \"<ipython-input-27-721cfcfc52de>\", line 18, in <module>\n",
      "    preds = cnn.sess.run(cnn.predict, {'cond/Merge:0': cropped_imgs})['default']\n",
      "  File \"/afs/csail.mit.edu/u/n/nhunt/anaconda3/lib/python3.6/site-packages/tensorflow/python/client/session.py\", line 889, in run\n",
      "    run_metadata_ptr)\n",
      "  File \"/afs/csail.mit.edu/u/n/nhunt/anaconda3/lib/python3.6/site-packages/tensorflow/python/client/session.py\", line 1120, in _run\n",
      "    feed_dict_tensor, options, run_metadata)\n",
      "  File \"/afs/csail.mit.edu/u/n/nhunt/anaconda3/lib/python3.6/site-packages/tensorflow/python/client/session.py\", line 1317, in _do_run\n",
      "    options, run_metadata)\n",
      "  File \"/afs/csail.mit.edu/u/n/nhunt/anaconda3/lib/python3.6/site-packages/tensorflow/python/client/session.py\", line 1323, in _do_call\n",
      "    return fn(*args)\n",
      "  File \"/afs/csail.mit.edu/u/n/nhunt/anaconda3/lib/python3.6/site-packages/tensorflow/python/client/session.py\", line 1302, in _run_fn\n",
      "    status, run_metadata)\n",
      "KeyboardInterrupt\n",
      "\n",
      "During handling of the above exception, another exception occurred:\n",
      "\n",
      "Traceback (most recent call last):\n",
      "  File \"/afs/csail.mit.edu/u/n/nhunt/anaconda3/lib/python3.6/site-packages/IPython/core/interactiveshell.py\", line 1806, in showtraceback\n",
      "    stb = value._render_traceback_()\n",
      "AttributeError: 'KeyboardInterrupt' object has no attribute '_render_traceback_'\n",
      "\n",
      "During handling of the above exception, another exception occurred:\n",
      "\n",
      "Traceback (most recent call last):\n",
      "  File \"/afs/csail.mit.edu/u/n/nhunt/anaconda3/lib/python3.6/site-packages/IPython/core/ultratb.py\", line 1090, in get_records\n",
      "    return _fixed_getinnerframes(etb, number_of_lines_of_context, tb_offset)\n",
      "  File \"/afs/csail.mit.edu/u/n/nhunt/anaconda3/lib/python3.6/site-packages/IPython/core/ultratb.py\", line 311, in wrapped\n",
      "    return f(*args, **kwargs)\n",
      "  File \"/afs/csail.mit.edu/u/n/nhunt/anaconda3/lib/python3.6/site-packages/IPython/core/ultratb.py\", line 345, in _fixed_getinnerframes\n",
      "    records = fix_frame_records_filenames(inspect.getinnerframes(etb, context))\n",
      "  File \"/afs/csail.mit.edu/u/n/nhunt/anaconda3/lib/python3.6/inspect.py\", line 1480, in getinnerframes\n",
      "    frameinfo = (tb.tb_frame,) + getframeinfo(tb, context)\n",
      "  File \"/afs/csail.mit.edu/u/n/nhunt/anaconda3/lib/python3.6/inspect.py\", line 1438, in getframeinfo\n",
      "    filename = getsourcefile(frame) or getfile(frame)\n",
      "  File \"/afs/csail.mit.edu/u/n/nhunt/anaconda3/lib/python3.6/inspect.py\", line 693, in getsourcefile\n",
      "    if getattr(getmodule(object, filename), '__loader__', None) is not None:\n",
      "  File \"/afs/csail.mit.edu/u/n/nhunt/anaconda3/lib/python3.6/inspect.py\", line 736, in getmodule\n",
      "    f = getabsfile(module)\n",
      "  File \"/afs/csail.mit.edu/u/n/nhunt/anaconda3/lib/python3.6/inspect.py\", line 705, in getabsfile\n",
      "    _filename = getsourcefile(object) or getfile(object)\n",
      "  File \"/afs/csail.mit.edu/u/n/nhunt/anaconda3/lib/python3.6/inspect.py\", line 690, in getsourcefile\n",
      "    if os.path.exists(filename):\n",
      "  File \"/afs/csail.mit.edu/u/n/nhunt/anaconda3/lib/python3.6/genericpath.py\", line 19, in exists\n",
      "    os.stat(path)\n",
      "KeyboardInterrupt\n"
     ]
    },
    {
     "ename": "KeyboardInterrupt",
     "evalue": "",
     "output_type": "error",
     "traceback": [
      "\u001b[0;31m---------------------------------------------------------------------------\u001b[0m"
     ]
    }
   ],
   "source": [
    "all_preds = []\n",
    "all_labels = []\n",
    "cnn.sess.run(cnn.data_init_op, {cnn.inputs_p['default']: test_fnames})\n",
    "\n",
    "i = 0\n",
    "while True:\n",
    "    try:\n",
    "        i += 1\n",
    "        if i % 5 == 0:\n",
    "            print(i, end=' ')\n",
    "        # pull the images out before augmentation occurs; get the labels too or else we'll lose them\n",
    "        imgs, labels = cnn.sess.run(['IteratorGetNext:0', 'IteratorGetNext:1'])\n",
    "\n",
    "        # do our own augmentation\n",
    "        cropped_imgs = sess.run(crop_op, {img_p: imgs})\n",
    "\n",
    "        # feed the images back in just after augmentation\n",
    "        preds = cnn.sess.run(cnn.predict, {'cond/Merge:0': cropped_imgs})['default']\n",
    "\n",
    "        # make sure to get the ordering right so you have the proper 10 images together; average their probabilities\n",
    "        n_imgs = len(preds) // 10\n",
    "        preds = np.concatenate([preds[i * n_imgs:(i + 1) * n_imgs].reshape(n_imgs, 100, 1) for i in range(10)], axis=2).mean(axis=2)\n",
    "        all_preds.append(preds)\n",
    "        all_labels.append(labels)\n",
    "    except tf.errors.OutOfRangeError:\n",
    "        pass"
   ]
  },
  {
   "cell_type": "code",
   "execution_count": null,
   "metadata": {
    "collapsed": true
   },
   "outputs": [],
   "source": []
  },
  {
   "cell_type": "code",
   "execution_count": null,
   "metadata": {
    "collapsed": true
   },
   "outputs": [],
   "source": []
  },
  {
   "cell_type": "code",
   "execution_count": null,
   "metadata": {
    "collapsed": true
   },
   "outputs": [],
   "source": []
  },
  {
   "cell_type": "code",
   "execution_count": 26,
   "metadata": {
    "ExecuteTime": {
     "end_time": "2017-11-22T04:24:53.562185Z",
     "start_time": "2017-11-22T04:24:53.314527Z"
    },
    "collapsed": true
   },
   "outputs": [],
   "source": [
    "img_height = 128\n",
    "img_width = 128\n",
    "\n",
    "target_height = 100\n",
    "target_width = 100\n",
    "\n",
    "# y0, x0, height, width\n",
    "upper_left = [0, 0, target_height, target_width]\n",
    "upper_right = [0, img_width - target_width, target_height, target_width]\n",
    "lower_left = [img_height - target_height, 0, target_height, target_width]\n",
    "lower_right = [img_height - target_height, img_width - target_width, target_height, target_width]\n",
    "center = [(img_height - target_height) // 2, (img_width - target_width) // 2, target_height, target_width]\n",
    "boxes = [upper_left, upper_right, lower_left, lower_right, center]\n",
    "\n",
    "img_p = tf.placeholder(tf.uint8, (None, 128, 128, 3))\n",
    "img_ = tf.image.convert_image_dtype(img_p, tf.float32)\n",
    "crop_ops = [tf.image.crop_to_bounding_box(img_, *box) for box in boxes]\n",
    "crop_ops.extend([tf.map_fn(tf.image.flip_left_right, crop) for crop in crop_ops])\n",
    "crop_op = tf.concat(crop_ops, axis=0)\n",
    "\n",
    "sess = tf.Session()"
   ]
  },
  {
   "cell_type": "code",
   "execution_count": null,
   "metadata": {
    "collapsed": true
   },
   "outputs": [],
   "source": []
  },
  {
   "cell_type": "code",
   "execution_count": null,
   "metadata": {
    "collapsed": true
   },
   "outputs": [],
   "source": []
  },
  {
   "cell_type": "code",
   "execution_count": null,
   "metadata": {
    "collapsed": true
   },
   "outputs": [],
   "source": []
  },
  {
   "cell_type": "code",
   "execution_count": 29,
   "metadata": {
    "ExecuteTime": {
     "end_time": "2017-11-22T04:40:15.752630Z",
     "start_time": "2017-11-22T04:28:34.654070Z"
    }
   },
   "outputs": [
    {
     "name": "stdout",
     "output_type": "stream",
     "text": [
      "Loading graph from: models//inception_aug_LR_contrast_.75_hue_.15_rot_4_l2_0.0001_p_0.8_na_2_nb_2_nc_2_bn_before_True_lr_0.001_e700_bs64/model.ckpt.meta.\n",
      "Loading graph from: models//inception_aug_LR_contrast_.75_hue_.15_rot_4_l2_0.0001_p_0.8_na_3_nb_5_nc_3_bn_before_True_lr_0.001_e700_bs64/model.ckpt.meta.\n"
     ]
    }
   ],
   "source": [
    "p = []\n",
    "for fname in fnames:\n",
    "    try:\n",
    "        cnn = CNN2(models_dir='models/', model_name=fname)\n",
    "        preds, labels = cnn._batch([cnn.predict['default'], cnn.labels_p['default']], inputs={'default': test_fnames}, dataset=True)\n",
    "        labels = np.concatenate(labels)\n",
    "        preds = np.concatenate(preds)\n",
    "\n",
    "        idx = np.argsort(labels)\n",
    "        preds = preds[idx]\n",
    "        p.append(preds)\n",
    "#         preds, labels = cnn._batch([cnn.predict['default'], cnn.labels_p['default']], inputs={'default': dev_fnames}, dataset=True)\n",
    "#         labels = np.concatenate(labels)\n",
    "#         preds = pd.DataFrame(np.concatenate(preds))\n",
    "#         print(f\"{fname}, {acc_at_k(1, preds, labels)}, {acc_at_k(5, preds, labels)}\")\n",
    "    except:\n",
    "        print(f\"Error with {fname}\")"
   ]
  }
 ],
 "metadata": {
  "kernelspec": {
   "display_name": "Python 3",
   "language": "python",
   "name": "python3"
  },
  "language_info": {
   "codemirror_mode": {
    "name": "ipython",
    "version": 3
   },
   "file_extension": ".py",
   "mimetype": "text/x-python",
   "name": "python",
   "nbconvert_exporter": "python",
   "pygments_lexer": "ipython3",
   "version": "3.6.3"
  },
  "latex_envs": {
   "LaTeX_envs_menu_present": true,
   "autocomplete": true,
   "bibliofile": "biblio.bib",
   "cite_by": "apalike",
   "current_citInitial": 1,
   "eqLabelWithNumbers": true,
   "eqNumInitial": 1,
   "hotkeys": {
    "equation": "Ctrl-E",
    "itemize": "Ctrl-I"
   },
   "labels_anchors": false,
   "latex_user_defs": false,
   "report_style_numbering": false,
   "user_envs_cfg": false
  },
  "toc": {
   "nav_menu": {},
   "number_sections": true,
   "sideBar": true,
   "skip_h1_title": false,
   "toc_cell": false,
   "toc_position": {},
   "toc_section_display": "block",
   "toc_window_display": false
  }
 },
 "nbformat": 4,
 "nbformat_minor": 2
}
